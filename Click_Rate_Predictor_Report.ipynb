{
 "cells": [
  {
   "cell_type": "markdown",
   "metadata": {},
   "source": [
    "# Final Project - Team 1 (Fall 2019) - Click Through Rate Prediction"
   ]
  },
  {
   "cell_type": "markdown",
   "metadata": {},
   "source": [
    "## Team Members: \n",
    "- Apik Zorian (Section 1)\n",
    "- Daniel Alvarez (Section 5)\n",
    "- Sam Tosaria (Section 1)\n",
    "- Shane Andrade (Section 1)"
   ]
  },
  {
   "cell_type": "markdown",
   "metadata": {},
   "source": [
    "## Table of Contents\n",
    "\n",
    "* __Section 1__ - Question Formulation\n",
    "* __Section 2__ - Algorithm Explanation\n",
    "* __Section 3__ - EDA & Discussion of Challenges\n",
    "* __Section 4__ - Algorithm Implementation\n",
    "* __Section 5__ - Application of Course Concepts"
   ]
  },
  {
   "cell_type": "markdown",
   "metadata": {},
   "source": [
    "# Section 1. Question Formulation"
   ]
  },
  {
   "cell_type": "markdown",
   "metadata": {},
   "source": [
    "## Goal of analysis"
   ]
  },
  {
   "cell_type": "markdown",
   "metadata": {},
   "source": [
    "The goal of the analysis is to predict click-through rates (CTR) using the Criteo advertising data provided from the Kaggle data competition. CTR is the number of clicks that an advertisement receives divided by the number of times the advertisement is shown. CTR prediction is important for online advertisers as it can help advertisers determine the ranking of listings to given users for their query searches. Listings ranked higher on query searches are better able to get user attention, leading to more potential spending. Therefore, accurate CTR prediction enables advertisers to effectively show the right advertisement to the right user at the right time. We look to predict CTR on the Criteo data using feature engineering and modeling techniques learned through this course.\n",
    "\n",
    "We use logistic regression and random forest algorithm approaches to minimize log loss. As mentioned in the reference paper, Aryafar, et al. (2017), log loss is often used as an indicator for model performance in online advertising. Minimizing log loss indicates that the conditional probability of clicking on an ad given a query by the user should converge to the expected click rate By minimizing log loss, we attempted to achieve convergence of the conditional probability of a click occurring with a query being issued by a user on a given advertisement listing. In the dataset 25% of the data is the predicted class. A model would improve on guessing the same class for all outcomes; we aim to train a model that will have precision and recall higher than 25%.\n",
    "\n",
    "reference: https://arxiv.org/pdf/1711.01377.pdf"
   ]
  },
  {
   "cell_type": "markdown",
   "metadata": {},
   "source": [
    "## Research and engineering questions to answer with analysis"
   ]
  },
  {
   "cell_type": "markdown",
   "metadata": {},
   "source": [
    "- What are effective modeling approaches to predict click through rates?\n",
    "- Why is log loss an appropriate criteria to evaluate effectiveness in predicting click through rates?\n",
    "- How does our exploratory data analysis connect to transformation decisions made on the features?\n",
    "- What features have most predictive power on click through rates?\n",
    "- What evaluation performance is required to be achieved by a given model for it to be practically useful?\n",
    "- Beyond performance on evaluation measures, what makes the choice of a model practically useful?"
   ]
  },
  {
   "cell_type": "markdown",
   "metadata": {},
   "source": [
    "### Load libraries and configurations necessary for subsequent algorithm explanation and exploratory data analysis"
   ]
  },
  {
   "cell_type": "code",
   "execution_count": 5,
   "metadata": {
    "collapsed": true
   },
   "outputs": [],
   "source": [
    "# General tools & operations libraries\n",
    "import re\n",
    "import ast\n",
    "import time\n",
    "import csv\n",
    "import itertools\n",
    "import math\n",
    "from statsmodels.stats.stattools import durbin_watson\n",
    "\n",
    "# Mathematical operations and dataframes libraries\n",
    "import numpy as np\n",
    "import pandas as pd\n",
    "\n",
    "# Plotting and visualization libraries\n",
    "import matplotlib.pyplot as plt\n",
    "import seaborn as sns"
   ]
  },
  {
   "cell_type": "code",
   "execution_count": 2,
   "metadata": {
    "collapsed": false
   },
   "outputs": [
    {
     "name": "stdout",
     "output_type": "stream",
     "text": [
      "Requirement already satisfied: pyarrow in /opt/anaconda/lib/python3.7/site-packages (0.15.1)\n",
      "Requirement already satisfied: numpy>=1.14 in /opt/anaconda/lib/python3.7/site-packages (from pyarrow) (1.17.2)\n",
      "Requirement already satisfied: six>=1.0.0 in /opt/anaconda/lib/python3.7/site-packages (from pyarrow) (1.12.0)\n"
     ]
    }
   ],
   "source": [
    "# install pyarrow - this just needs to be performed once\n",
    "! pip install pyarrow"
   ]
  },
  {
   "cell_type": "code",
   "execution_count": 3,
   "metadata": {
    "collapsed": true
   },
   "outputs": [],
   "source": [
    "# Parquet libraries\n",
    "import pyarrow as pa\n",
    "import pyarrow.parquet as pq\n",
    "\n",
    "# PySpark libraries\n",
    "from pyspark.sql import SQLContext\n",
    "#from pyspark.sql import SparkContext\n",
    "from pyspark.sql import SparkSession\n",
    "from pyspark.sql.types import *\n",
    "from pyspark.conf import SparkConf\n",
    "\n",
    "from pyspark.sql.functions import lit, when, col, approx_count_distinct, mean, log, udf\n",
    "from pyspark.ml import Pipeline\n",
    "from pyspark.ml.feature import IndexToString, StringIndexer, OneHotEncoder, OneHotEncoderEstimator, VectorAssembler, FeatureHasher\n",
    "\n",
    "from pyspark.ml.classification import LogisticRegression\n",
    "from pyspark.ml.evaluation import BinaryClassificationEvaluator"
   ]
  },
  {
   "cell_type": "code",
   "execution_count": 4,
   "metadata": {
    "collapsed": true
   },
   "outputs": [],
   "source": [
    "%reload_ext autoreload\n",
    "%autoreload 2\n",
    "%matplotlib inline"
   ]
  },
  {
   "cell_type": "code",
   "execution_count": 5,
   "metadata": {
    "collapsed": true
   },
   "outputs": [],
   "source": [
    "# store path to notebook\n",
    "PWD = !pwd\n",
    "PWD = PWD[0]"
   ]
  },
  {
   "cell_type": "markdown",
   "metadata": {},
   "source": [
    "Set Spark parameters and start session configurations"
   ]
  },
  {
   "cell_type": "code",
   "execution_count": 6,
   "metadata": {
    "collapsed": false
   },
   "outputs": [
    {
     "data": {
      "text/plain": [
       "<pyspark.conf.SparkConf at 0x7f04bbf4c0d0>"
      ]
     },
     "execution_count": 6,
     "metadata": {},
     "output_type": "execute_result"
    }
   ],
   "source": [
    "app_name = \"final_project\"\n",
    "master = \"local[*]\"\n",
    "\n",
    "conf=SparkConf()\n",
    "conf.set(\"spark.sql.parquet.compression.codec\", \"snappy\")"
   ]
  },
  {
   "cell_type": "code",
   "execution_count": 7,
   "metadata": {
    "collapsed": true
   },
   "outputs": [],
   "source": [
    "# start Spark Session\n",
    "spark = SparkSession\\\n",
    "        .builder\\\n",
    "        .appName(app_name)\\\n",
    "        .master(master)\\\n",
    "        .getOrCreate()\n",
    "sc = spark.sparkContext\n",
    "sqlContext = SQLContext(sc)"
   ]
  },
  {
   "cell_type": "code",
   "execution_count": 8,
   "metadata": {
    "collapsed": false
   },
   "outputs": [
    {
     "name": "stdout",
     "output_type": "stream",
     "text": [
      "('spark.app.name', 'final_project')\n",
      "('spark.rdd.compress', 'True')\n",
      "('spark.serializer.objectStreamReset', '100')\n",
      "('spark.master', 'local[*]')\n",
      "('spark.driver.port', '39313')\n",
      "('spark.executor.id', 'driver')\n",
      "('spark.submit.deployMode', 'client')\n",
      "('spark.app.id', 'local-1576102678365')\n",
      "('spark.ui.showConsoleProgress', 'true')\n",
      "('spark.driver.host', 'docker.w261')\n"
     ]
    }
   ],
   "source": [
    "# Spark configuration Information\n",
    "for object in sc.getConf().getAll():\n",
    "    print(object)"
   ]
  },
  {
   "cell_type": "code",
   "execution_count": 9,
   "metadata": {
    "collapsed": false
   },
   "outputs": [
    {
     "data": {
      "text/html": [
       "\n",
       "            <div>\n",
       "                <p><b>SparkSession - in-memory</b></p>\n",
       "                \n",
       "        <div>\n",
       "            <p><b>SparkContext</b></p>\n",
       "\n",
       "            <p><a href=\"http://docker.w261:4040\">Spark UI</a></p>\n",
       "\n",
       "            <dl>\n",
       "              <dt>Version</dt>\n",
       "                <dd><code>v2.4.4</code></dd>\n",
       "              <dt>Master</dt>\n",
       "                <dd><code>local[*]</code></dd>\n",
       "              <dt>AppName</dt>\n",
       "                <dd><code>final_project</code></dd>\n",
       "            </dl>\n",
       "        </div>\n",
       "        \n",
       "            </div>\n",
       "        "
      ],
      "text/plain": [
       "<pyspark.sql.session.SparkSession at 0x7f04d8854b10>"
      ]
     },
     "execution_count": 9,
     "metadata": {},
     "output_type": "execute_result"
    }
   ],
   "source": [
    "spark"
   ]
  },
  {
   "cell_type": "markdown",
   "metadata": {},
   "source": [
    "### Note about the dataset"
   ]
  },
  {
   "cell_type": "markdown",
   "metadata": {},
   "source": [
    "The datasets for the Kaggle Display Advertising Competition are downloaded from the Criteo Labs competition site and are hosted as a compressed `.tar` file in an `S3` bucket here:\n",
    "https://s3-eu-west-1.amazonaws.com/kaggle-display-advertising-challenge-dataset/dac.tar.gz\n",
    "\n",
    "The full raw `train.txt` dataset is 11.15GB in size and is too large to read into conventional Jupyter Notebooks to perform analysis. Moreover, as we will discuss later, there are significant dimensionality constraints that inhibit loading the entire dataset and performing conventional one-hot encoding on the entire dataset. A solution is required to analyze the data and perform an algorithm implementation at scale.\n",
    "\n",
    "Therefore, we load a random sample of the dataset representing just 0.1% of the dataset. While this represents a small portion of the entire raw dataset, we believe this gives us a representative sample that will allow us to understand the dataset's features, data structure and distributions in preparation for an analysis and predictive modeling at scale."
   ]
  },
  {
   "cell_type": "markdown",
   "metadata": {},
   "source": [
    "#### Load a representative sample of the data"
   ]
  },
  {
   "cell_type": "markdown",
   "metadata": {},
   "source": [
    "The following command line snippet is shown for exposition as to how we took a 0.1% random sample. This data is 11.4MB in size. It is commented out since it was just needed to produce the toy example one time. "
   ]
  },
  {
   "cell_type": "code",
   "execution_count": 14,
   "metadata": {
    "collapsed": true,
    "jupyter": {
     "outputs_hidden": true
    }
   },
   "outputs": [],
   "source": [
    "#!gzip -cd data/dac.tar.gz | awk 'BEGIN {srand()} !/^$/ { if (rand() <= .001) print $0}' > data/sample.txt\n",
    "#!cat train.txt | awk 'BEGIN {srand()} !/^$/ { if (rand() <= .001) print $0}' > data/sample.txt"
   ]
  },
  {
   "cell_type": "markdown",
   "metadata": {},
   "source": [
    "Next, we inspect the sample .`txt` data. We note that there are 46,048 lines in the dataset."
   ]
  },
  {
   "cell_type": "code",
   "execution_count": 17,
   "metadata": {
    "collapsed": false
   },
   "outputs": [
    {
     "name": "stdout",
     "output_type": "stream",
     "text": [
      "wc: data/sample.txt: No such file or directory\n"
     ]
    }
   ],
   "source": [
    "# check number of lines, byte and characters count\n",
    "!wc data/sample.txt"
   ]
  },
  {
   "cell_type": "code",
   "execution_count": 16,
   "metadata": {
    "collapsed": false
   },
   "outputs": [
    {
     "name": "stdout",
     "output_type": "stream",
     "text": [
      "0\t1\t2\t2\t2\t292\t2\t1\t2\t2\t1\t1\t\t2\t05db9164\t0a519c5c\tb00d1501\td16679b9\t25c83c98\t7e0ccccf\t1683df22\t0b153874\ta73ee510\t3b08e48b\t89073265\te0d76380\t8b266858\tb28479f6\tb760dcb7\t1203a270\td4bb7bd8\t2efa89c6\t\t\t73d06dde\t\t3a171ecb\taee52b6f\t\t\n"
     ]
    }
   ],
   "source": [
    "# inspect first line to get a sense of the overall schema\n",
    "!head -n 1 data/sample.txt"
   ]
  },
  {
   "cell_type": "markdown",
   "metadata": {},
   "source": [
    "Next, we impose a schema structure over the 40 variables. We note that:\n",
    "\n",
    "- feature in position 0 is the target label, `y`\n",
    "- feature in the 13th position is numeric (`n13`)\n",
    "- features in the 14th through 39th position are categorical"
   ]
  },
  {
   "cell_type": "code",
   "execution_count": 12,
   "metadata": {
    "collapsed": true,
    "jupyter": {
     "outputs_hidden": true
    }
   },
   "outputs": [],
   "source": [
    "# the 13th variable is a numeric (`n13`), 14th variable is categorical (`cat14`)\n",
    "schema = StructType([\n",
    "    StructField('y', IntegerType()), StructField('n1', IntegerType()),\n",
    "    StructField('n2', IntegerType()), StructField('n3', IntegerType()),\n",
    "    StructField('n4', IntegerType()), StructField('n5', LongType()),\n",
    "    StructField('n6', IntegerType()), StructField('n7', IntegerType()),\n",
    "    StructField('n8', IntegerType()), StructField('n9', IntegerType()),\n",
    "    StructField('n10', IntegerType()), StructField('n11', IntegerType()),\n",
    "    StructField('n12', IntegerType()), StructField('n13', IntegerType()), \n",
    "    StructField('cat14', StringType()), StructField('cat15', StringType()),\n",
    "    StructField('cat16', StringType()), StructField('cat17', StringType()),\n",
    "    StructField('cat18', StringType()), StructField('cat19', StringType()),\n",
    "    StructField('cat20', StringType()), StructField('cat21', StringType()),\n",
    "    StructField('cat22', StringType()), StructField('cat23', StringType()),\n",
    "    StructField('cat24', StringType()), StructField('cat25', StringType()),\n",
    "    StructField('cat26', StringType()), StructField('cat27', StringType()),\n",
    "    StructField('cat28', StringType()), StructField('cat29', StringType()),\n",
    "    StructField('cat30', StringType()), StructField('cat31', StringType()),\n",
    "    StructField('cat32', StringType()), StructField('cat33', StringType()),\n",
    "    StructField('cat34', StringType()), StructField('cat35', StringType()),\n",
    "    StructField('cat36', StringType()), StructField('cat37', StringType()),\n",
    "    StructField('cat38', StringType()), StructField('cat39', StringType()),\n",
    "])"
   ]
  },
  {
   "cell_type": "markdown",
   "metadata": {},
   "source": [
    "Next, we create Spark dataframe from the sample `.txt` file using the imposed schema structure"
   ]
  },
  {
   "cell_type": "code",
   "execution_count": 13,
   "metadata": {
    "collapsed": false
   },
   "outputs": [
    {
     "name": "stdout",
     "output_type": "stream",
     "text": [
      "Creating dataframe..\n",
      "... completed job in 4.276499509811401 seconds\n"
     ]
    }
   ],
   "source": [
    "start = time.time()\n",
    "print('Creating dataframe..')\n",
    "df = spark.read.load(\"data/sample.txt\", format='csv', sep='\\t', header='false', schema=schema)\n",
    "#df = spark.read.load(INPUT_FILES, format='csv', sep='\\t', header='false', schema=schema)\n",
    "print(f\"... completed job in {time.time() - start} seconds\")"
   ]
  },
  {
   "cell_type": "markdown",
   "metadata": {},
   "source": [
    "Inspect the Spark dataframe by showing the first 5 rows of selected columns. Then count the number of rows to observe that it matches the sample `.txt` file."
   ]
  },
  {
   "cell_type": "code",
   "execution_count": 14,
   "metadata": {
    "collapsed": false
   },
   "outputs": [
    {
     "name": "stdout",
     "output_type": "stream",
     "text": [
      "+---+----+----+---+--------+--------+\n",
      "|  y|  n1| n12|n13|   cat14|   cat39|\n",
      "+---+----+----+---+--------+--------+\n",
      "|  0|   1|null|  2|05db9164|    null|\n",
      "|  0|null|null|  1|05db9164|553d46e8|\n",
      "|  0|   1|null|  2|be589b51|64f08cc6|\n",
      "|  0|   0|null|  9|05db9164|    null|\n",
      "|  0|   0|   0| 24|05db9164|    null|\n",
      "+---+----+----+---+--------+--------+\n",
      "only showing top 5 rows\n",
      "\n",
      "None\n"
     ]
    }
   ],
   "source": [
    "print(df.select('y','n1','n12','n13','cat14','cat39').show(n=5))"
   ]
  },
  {
   "cell_type": "code",
   "execution_count": 15,
   "metadata": {
    "collapsed": false
   },
   "outputs": [
    {
     "data": {
      "text/plain": [
       "46048"
      ]
     },
     "execution_count": 15,
     "metadata": {},
     "output_type": "execute_result"
    }
   ],
   "source": [
    "# Count the number of rows\n",
    "df.count()"
   ]
  },
  {
   "cell_type": "markdown",
   "metadata": {},
   "source": [
    "#### Write dataframe to parquet file format"
   ]
  },
  {
   "cell_type": "code",
   "execution_count": 16,
   "metadata": {
    "collapsed": false
   },
   "outputs": [
    {
     "name": "stdout",
     "output_type": "stream",
     "text": [
      "Writing dataframe to parquet format..\n",
      "... completed job in 3.3757736682891846 seconds\n"
     ]
    }
   ],
   "source": [
    "start = time.time()\n",
    "print('Writing dataframe to parquet format..')\n",
    "\n",
    "df.write.parquet('data/df.parquet', compression='snappy', mode='overwrite')\n",
    "#df.write.parquet(OUT_FILES, compression='snappy', mode='overwrite')\n",
    "\n",
    "print(f\"... completed job in {time.time() - start} seconds\")"
   ]
  },
  {
   "cell_type": "markdown",
   "metadata": {},
   "source": [
    "#### "
   ]
  },
  {
   "cell_type": "markdown",
   "metadata": {},
   "source": [
    "#### Read in parquet files"
   ]
  },
  {
   "cell_type": "code",
   "execution_count": 17,
   "metadata": {
    "collapsed": true,
    "jupyter": {
     "outputs_hidden": true
    }
   },
   "outputs": [],
   "source": [
    "df_pq = spark.read.load('data/df.parquet')"
   ]
  },
  {
   "cell_type": "code",
   "execution_count": 18,
   "metadata": {
    "collapsed": false
   },
   "outputs": [
    {
     "name": "stdout",
     "output_type": "stream",
     "text": [
      "46048\n",
      "True\n"
     ]
    }
   ],
   "source": [
    "# count the number of rows\n",
    "print(df_pq.count())\n",
    "\n",
    "# perform an assert to check number of rows matches before and after parquet conversion\n",
    "print(df_pq.count() == df.count())"
   ]
  },
  {
   "cell_type": "markdown",
   "metadata": {},
   "source": [
    "View parquet partition files"
   ]
  },
  {
   "cell_type": "code",
   "execution_count": 11,
   "metadata": {
    "collapsed": false
   },
   "outputs": [
    {
     "name": "stdout",
     "output_type": "stream",
     "text": [
      "data/df.parquet:\n",
      "total 3628\n",
      "-rw-r--r-- 1 root root       0 Dec 10 17:30 _SUCCESS\n",
      "-rw-r--r-- 1 root root 1371666 Dec 10 17:30 part-00000-25f01fdb-c7ec-422e-ac42-12e6176d265e-c000.snappy.parquet\n",
      "-rw-r--r-- 1 root root 1372325 Dec 10 17:30 part-00001-25f01fdb-c7ec-422e-ac42-12e6176d265e-c000.snappy.parquet\n",
      "-rw-r--r-- 1 root root  965266 Dec 10 17:30 part-00002-25f01fdb-c7ec-422e-ac42-12e6176d265e-c000.snappy.parquet\n"
     ]
    }
   ],
   "source": [
    "!ls -lR data/df.parquet"
   ]
  },
  {
   "cell_type": "markdown",
   "metadata": {},
   "source": [
    "Check the metadata of each parquet partition"
   ]
  },
  {
   "cell_type": "code",
   "execution_count": 12,
   "metadata": {
    "collapsed": true,
    "jupyter": {
     "outputs_hidden": true
    }
   },
   "outputs": [],
   "source": [
    "partitions = ['data/df.parquet/part-00000-25f01fdb-c7ec-422e-ac42-12e6176d265e-c000.snappy.parquet', \n",
    "             'data/df.parquet/part-00001-25f01fdb-c7ec-422e-ac42-12e6176d265e-c000.snappy.parquet',\n",
    "             'data/df.parquet/part-00002-25f01fdb-c7ec-422e-ac42-12e6176d265e-c000.snappy.parquet']"
   ]
  },
  {
   "cell_type": "code",
   "execution_count": 13,
   "metadata": {
    "collapsed": false
   },
   "outputs": [
    {
     "name": "stdout",
     "output_type": "stream",
     "text": [
      "<pyarrow._parquet.FileMetaData object at 0x7fdd940c1b90>\n",
      "  created_by: parquet-mr version 1.10.1 (build a89df8f9932b6ef6633d06069e50c9b7970bebd1)\n",
      "  num_columns: 40\n",
      "  num_rows: 17247\n",
      "  num_row_groups: 1\n",
      "  format_version: 1.0\n",
      "  serialized_size: 6563\n",
      "<pyarrow._parquet.FileMetaData object at 0x7fdd940c1d70>\n",
      "  created_by: parquet-mr version 1.10.1 (build a89df8f9932b6ef6633d06069e50c9b7970bebd1)\n",
      "  num_columns: 40\n",
      "  num_rows: 17257\n",
      "  num_row_groups: 1\n",
      "  format_version: 1.0\n",
      "  serialized_size: 6563\n",
      "<pyarrow._parquet.FileMetaData object at 0x7fdd940c1ad0>\n",
      "  created_by: parquet-mr version 1.10.1 (build a89df8f9932b6ef6633d06069e50c9b7970bebd1)\n",
      "  num_columns: 40\n",
      "  num_rows: 11544\n",
      "  num_row_groups: 1\n",
      "  format_version: 1.0\n",
      "  serialized_size: 6530\n"
     ]
    }
   ],
   "source": [
    "for file in partitions:\n",
    "    pqfile = pq.ParquetFile(file)\n",
    "    print(pqfile.metadata)"
   ]
  },
  {
   "cell_type": "markdown",
   "metadata": {},
   "source": [
    "#### Read a parquet file as a pandas dataframe\n",
    "\n",
    "For subsequent analysis on the algorithm explanation (Section 2) and EDA (Section 3) we will use the dataframe created from a parquet partition."
   ]
  },
  {
   "cell_type": "code",
   "execution_count": 10,
   "metadata": {
    "collapsed": true
   },
   "outputs": [],
   "source": [
    "df_sample = pd.read_parquet('data/df.parquet/part-00000-25f01fdb-c7ec-422e-ac42-12e6176d265e-c000.snappy.parquet', engine='pyarrow')"
   ]
  },
  {
   "cell_type": "markdown",
   "metadata": {},
   "source": [
    "Inspect dataframe"
   ]
  },
  {
   "cell_type": "code",
   "execution_count": 16,
   "metadata": {
    "collapsed": false
   },
   "outputs": [
    {
     "data": {
      "text/html": [
       "<div>\n",
       "<style scoped>\n",
       "    .dataframe tbody tr th:only-of-type {\n",
       "        vertical-align: middle;\n",
       "    }\n",
       "\n",
       "    .dataframe tbody tr th {\n",
       "        vertical-align: top;\n",
       "    }\n",
       "\n",
       "    .dataframe thead th {\n",
       "        text-align: right;\n",
       "    }\n",
       "</style>\n",
       "<table border=\"1\" class=\"dataframe\">\n",
       "  <thead>\n",
       "    <tr style=\"text-align: right;\">\n",
       "      <th></th>\n",
       "      <th>y</th>\n",
       "      <th>n1</th>\n",
       "      <th>n2</th>\n",
       "      <th>n3</th>\n",
       "      <th>n4</th>\n",
       "      <th>n5</th>\n",
       "      <th>n6</th>\n",
       "      <th>n7</th>\n",
       "      <th>n8</th>\n",
       "      <th>n9</th>\n",
       "      <th>...</th>\n",
       "      <th>cat30</th>\n",
       "      <th>cat31</th>\n",
       "      <th>cat32</th>\n",
       "      <th>cat33</th>\n",
       "      <th>cat34</th>\n",
       "      <th>cat35</th>\n",
       "      <th>cat36</th>\n",
       "      <th>cat37</th>\n",
       "      <th>cat38</th>\n",
       "      <th>cat39</th>\n",
       "    </tr>\n",
       "  </thead>\n",
       "  <tbody>\n",
       "    <tr>\n",
       "      <th>0</th>\n",
       "      <td>0</td>\n",
       "      <td>1.0</td>\n",
       "      <td>2</td>\n",
       "      <td>2.0</td>\n",
       "      <td>2.0</td>\n",
       "      <td>292.0</td>\n",
       "      <td>2.0</td>\n",
       "      <td>1.0</td>\n",
       "      <td>2.0</td>\n",
       "      <td>2.0</td>\n",
       "      <td>...</td>\n",
       "      <td>d4bb7bd8</td>\n",
       "      <td>2efa89c6</td>\n",
       "      <td>None</td>\n",
       "      <td>None</td>\n",
       "      <td>73d06dde</td>\n",
       "      <td>None</td>\n",
       "      <td>3a171ecb</td>\n",
       "      <td>aee52b6f</td>\n",
       "      <td>None</td>\n",
       "      <td>None</td>\n",
       "    </tr>\n",
       "    <tr>\n",
       "      <th>1</th>\n",
       "      <td>0</td>\n",
       "      <td>NaN</td>\n",
       "      <td>-1</td>\n",
       "      <td>86.0</td>\n",
       "      <td>1.0</td>\n",
       "      <td>6147.0</td>\n",
       "      <td>875.0</td>\n",
       "      <td>3.0</td>\n",
       "      <td>1.0</td>\n",
       "      <td>96.0</td>\n",
       "      <td>...</td>\n",
       "      <td>e5ba7672</td>\n",
       "      <td>47e4d79e</td>\n",
       "      <td>9437f62f</td>\n",
       "      <td>a458ea53</td>\n",
       "      <td>d2bc432c</td>\n",
       "      <td>None</td>\n",
       "      <td>bcdee96c</td>\n",
       "      <td>b0a08858</td>\n",
       "      <td>c9f3bea7</td>\n",
       "      <td>553d46e8</td>\n",
       "    </tr>\n",
       "    <tr>\n",
       "      <th>2</th>\n",
       "      <td>0</td>\n",
       "      <td>1.0</td>\n",
       "      <td>1</td>\n",
       "      <td>16.0</td>\n",
       "      <td>2.0</td>\n",
       "      <td>0.0</td>\n",
       "      <td>2.0</td>\n",
       "      <td>24.0</td>\n",
       "      <td>2.0</td>\n",
       "      <td>13.0</td>\n",
       "      <td>...</td>\n",
       "      <td>e5ba7672</td>\n",
       "      <td>e88ffc9d</td>\n",
       "      <td>efa3470f</td>\n",
       "      <td>b1252a9d</td>\n",
       "      <td>65229b6e</td>\n",
       "      <td>None</td>\n",
       "      <td>bcdee96c</td>\n",
       "      <td>3fdb382b</td>\n",
       "      <td>cb079c2d</td>\n",
       "      <td>64f08cc6</td>\n",
       "    </tr>\n",
       "    <tr>\n",
       "      <th>3</th>\n",
       "      <td>0</td>\n",
       "      <td>0.0</td>\n",
       "      <td>1</td>\n",
       "      <td>3.0</td>\n",
       "      <td>9.0</td>\n",
       "      <td>3195.0</td>\n",
       "      <td>57.0</td>\n",
       "      <td>3.0</td>\n",
       "      <td>35.0</td>\n",
       "      <td>120.0</td>\n",
       "      <td>...</td>\n",
       "      <td>e5ba7672</td>\n",
       "      <td>9dde83ca</td>\n",
       "      <td>None</td>\n",
       "      <td>None</td>\n",
       "      <td>831d5286</td>\n",
       "      <td>None</td>\n",
       "      <td>32c7478e</td>\n",
       "      <td>9e9a60e4</td>\n",
       "      <td>None</td>\n",
       "      <td>None</td>\n",
       "    </tr>\n",
       "    <tr>\n",
       "      <th>4</th>\n",
       "      <td>0</td>\n",
       "      <td>0.0</td>\n",
       "      <td>21</td>\n",
       "      <td>5.0</td>\n",
       "      <td>6.0</td>\n",
       "      <td>7460.0</td>\n",
       "      <td>192.0</td>\n",
       "      <td>2.0</td>\n",
       "      <td>24.0</td>\n",
       "      <td>153.0</td>\n",
       "      <td>...</td>\n",
       "      <td>07c540c4</td>\n",
       "      <td>7b49e3d2</td>\n",
       "      <td>None</td>\n",
       "      <td>None</td>\n",
       "      <td>73d06dde</td>\n",
       "      <td>None</td>\n",
       "      <td>3a171ecb</td>\n",
       "      <td>aee52b6f</td>\n",
       "      <td>None</td>\n",
       "      <td>None</td>\n",
       "    </tr>\n",
       "  </tbody>\n",
       "</table>\n",
       "<p>5 rows × 40 columns</p>\n",
       "</div>"
      ],
      "text/plain": [
       "   y   n1  n2    n3   n4      n5     n6    n7    n8     n9  ...     cat30  \\\n",
       "0  0  1.0   2   2.0  2.0   292.0    2.0   1.0   2.0    2.0  ...  d4bb7bd8   \n",
       "1  0  NaN  -1  86.0  1.0  6147.0  875.0   3.0   1.0   96.0  ...  e5ba7672   \n",
       "2  0  1.0   1  16.0  2.0     0.0    2.0  24.0   2.0   13.0  ...  e5ba7672   \n",
       "3  0  0.0   1   3.0  9.0  3195.0   57.0   3.0  35.0  120.0  ...  e5ba7672   \n",
       "4  0  0.0  21   5.0  6.0  7460.0  192.0   2.0  24.0  153.0  ...  07c540c4   \n",
       "\n",
       "      cat31     cat32     cat33     cat34 cat35     cat36     cat37     cat38  \\\n",
       "0  2efa89c6      None      None  73d06dde  None  3a171ecb  aee52b6f      None   \n",
       "1  47e4d79e  9437f62f  a458ea53  d2bc432c  None  bcdee96c  b0a08858  c9f3bea7   \n",
       "2  e88ffc9d  efa3470f  b1252a9d  65229b6e  None  bcdee96c  3fdb382b  cb079c2d   \n",
       "3  9dde83ca      None      None  831d5286  None  32c7478e  9e9a60e4      None   \n",
       "4  7b49e3d2      None      None  73d06dde  None  3a171ecb  aee52b6f      None   \n",
       "\n",
       "      cat39  \n",
       "0      None  \n",
       "1  553d46e8  \n",
       "2  64f08cc6  \n",
       "3      None  \n",
       "4      None  \n",
       "\n",
       "[5 rows x 40 columns]"
      ]
     },
     "execution_count": 16,
     "metadata": {},
     "output_type": "execute_result"
    }
   ],
   "source": [
    "df_sample.head()"
   ]
  },
  {
   "cell_type": "code",
   "execution_count": 17,
   "metadata": {
    "collapsed": false
   },
   "outputs": [
    {
     "data": {
      "text/html": [
       "<div>\n",
       "<style scoped>\n",
       "    .dataframe tbody tr th:only-of-type {\n",
       "        vertical-align: middle;\n",
       "    }\n",
       "\n",
       "    .dataframe tbody tr th {\n",
       "        vertical-align: top;\n",
       "    }\n",
       "\n",
       "    .dataframe thead th {\n",
       "        text-align: right;\n",
       "    }\n",
       "</style>\n",
       "<table border=\"1\" class=\"dataframe\">\n",
       "  <thead>\n",
       "    <tr style=\"text-align: right;\">\n",
       "      <th></th>\n",
       "      <th>y</th>\n",
       "      <th>n1</th>\n",
       "      <th>n2</th>\n",
       "      <th>n3</th>\n",
       "      <th>n4</th>\n",
       "      <th>n5</th>\n",
       "      <th>n6</th>\n",
       "      <th>n7</th>\n",
       "      <th>n8</th>\n",
       "      <th>n9</th>\n",
       "      <th>...</th>\n",
       "      <th>cat30</th>\n",
       "      <th>cat31</th>\n",
       "      <th>cat32</th>\n",
       "      <th>cat33</th>\n",
       "      <th>cat34</th>\n",
       "      <th>cat35</th>\n",
       "      <th>cat36</th>\n",
       "      <th>cat37</th>\n",
       "      <th>cat38</th>\n",
       "      <th>cat39</th>\n",
       "    </tr>\n",
       "  </thead>\n",
       "  <tbody>\n",
       "    <tr>\n",
       "      <th>17242</th>\n",
       "      <td>1</td>\n",
       "      <td>NaN</td>\n",
       "      <td>47</td>\n",
       "      <td>3.0</td>\n",
       "      <td>NaN</td>\n",
       "      <td>4692.0</td>\n",
       "      <td>183.0</td>\n",
       "      <td>26.0</td>\n",
       "      <td>1.0</td>\n",
       "      <td>107.0</td>\n",
       "      <td>...</td>\n",
       "      <td>e5ba7672</td>\n",
       "      <td>29b0e3e5</td>\n",
       "      <td>None</td>\n",
       "      <td>None</td>\n",
       "      <td>2b81e06c</td>\n",
       "      <td>None</td>\n",
       "      <td>3a171ecb</td>\n",
       "      <td>2f647dfe</td>\n",
       "      <td>None</td>\n",
       "      <td>None</td>\n",
       "    </tr>\n",
       "    <tr>\n",
       "      <th>17243</th>\n",
       "      <td>1</td>\n",
       "      <td>2.0</td>\n",
       "      <td>2637</td>\n",
       "      <td>5.0</td>\n",
       "      <td>3.0</td>\n",
       "      <td>4.0</td>\n",
       "      <td>0.0</td>\n",
       "      <td>9.0</td>\n",
       "      <td>19.0</td>\n",
       "      <td>124.0</td>\n",
       "      <td>...</td>\n",
       "      <td>e5ba7672</td>\n",
       "      <td>561cabfe</td>\n",
       "      <td>21ddcdc9</td>\n",
       "      <td>5840adea</td>\n",
       "      <td>efc3fe04</td>\n",
       "      <td>ad3062eb</td>\n",
       "      <td>423fab69</td>\n",
       "      <td>9b18ad04</td>\n",
       "      <td>7a402766</td>\n",
       "      <td>bde2bc96</td>\n",
       "    </tr>\n",
       "    <tr>\n",
       "      <th>17244</th>\n",
       "      <td>1</td>\n",
       "      <td>17.0</td>\n",
       "      <td>20</td>\n",
       "      <td>27.0</td>\n",
       "      <td>28.0</td>\n",
       "      <td>33.0</td>\n",
       "      <td>26.0</td>\n",
       "      <td>142.0</td>\n",
       "      <td>46.0</td>\n",
       "      <td>73.0</td>\n",
       "      <td>...</td>\n",
       "      <td>e5ba7672</td>\n",
       "      <td>744ad4a0</td>\n",
       "      <td>None</td>\n",
       "      <td>None</td>\n",
       "      <td>a17a10b3</td>\n",
       "      <td>None</td>\n",
       "      <td>55dd3565</td>\n",
       "      <td>e5fca70a</td>\n",
       "      <td>None</td>\n",
       "      <td>None</td>\n",
       "    </tr>\n",
       "    <tr>\n",
       "      <th>17245</th>\n",
       "      <td>1</td>\n",
       "      <td>45.0</td>\n",
       "      <td>12</td>\n",
       "      <td>23.0</td>\n",
       "      <td>9.0</td>\n",
       "      <td>128.0</td>\n",
       "      <td>10.0</td>\n",
       "      <td>290.0</td>\n",
       "      <td>31.0</td>\n",
       "      <td>152.0</td>\n",
       "      <td>...</td>\n",
       "      <td>e5ba7672</td>\n",
       "      <td>5bb2ec8e</td>\n",
       "      <td>55dd3565</td>\n",
       "      <td>b1252a9d</td>\n",
       "      <td>f535a39b</td>\n",
       "      <td>ad3062eb</td>\n",
       "      <td>32c7478e</td>\n",
       "      <td>b8bf466e</td>\n",
       "      <td>f0f449dd</td>\n",
       "      <td>cc963563</td>\n",
       "    </tr>\n",
       "    <tr>\n",
       "      <th>17246</th>\n",
       "      <td>0</td>\n",
       "      <td>3.0</td>\n",
       "      <td>-1</td>\n",
       "      <td>NaN</td>\n",
       "      <td>NaN</td>\n",
       "      <td>501.0</td>\n",
       "      <td>102.0</td>\n",
       "      <td>3.0</td>\n",
       "      <td>43.0</td>\n",
       "      <td>73.0</td>\n",
       "      <td>...</td>\n",
       "      <td>3486227d</td>\n",
       "      <td>e5f8f18f</td>\n",
       "      <td>None</td>\n",
       "      <td>None</td>\n",
       "      <td>f3ddd519</td>\n",
       "      <td>None</td>\n",
       "      <td>32c7478e</td>\n",
       "      <td>b34f3128</td>\n",
       "      <td>None</td>\n",
       "      <td>None</td>\n",
       "    </tr>\n",
       "  </tbody>\n",
       "</table>\n",
       "<p>5 rows × 40 columns</p>\n",
       "</div>"
      ],
      "text/plain": [
       "       y    n1    n2    n3    n4      n5     n6     n7    n8     n9  ...  \\\n",
       "17242  1   NaN    47   3.0   NaN  4692.0  183.0   26.0   1.0  107.0  ...   \n",
       "17243  1   2.0  2637   5.0   3.0     4.0    0.0    9.0  19.0  124.0  ...   \n",
       "17244  1  17.0    20  27.0  28.0    33.0   26.0  142.0  46.0   73.0  ...   \n",
       "17245  1  45.0    12  23.0   9.0   128.0   10.0  290.0  31.0  152.0  ...   \n",
       "17246  0   3.0    -1   NaN   NaN   501.0  102.0    3.0  43.0   73.0  ...   \n",
       "\n",
       "          cat30     cat31     cat32     cat33     cat34     cat35     cat36  \\\n",
       "17242  e5ba7672  29b0e3e5      None      None  2b81e06c      None  3a171ecb   \n",
       "17243  e5ba7672  561cabfe  21ddcdc9  5840adea  efc3fe04  ad3062eb  423fab69   \n",
       "17244  e5ba7672  744ad4a0      None      None  a17a10b3      None  55dd3565   \n",
       "17245  e5ba7672  5bb2ec8e  55dd3565  b1252a9d  f535a39b  ad3062eb  32c7478e   \n",
       "17246  3486227d  e5f8f18f      None      None  f3ddd519      None  32c7478e   \n",
       "\n",
       "          cat37     cat38     cat39  \n",
       "17242  2f647dfe      None      None  \n",
       "17243  9b18ad04  7a402766  bde2bc96  \n",
       "17244  e5fca70a      None      None  \n",
       "17245  b8bf466e  f0f449dd  cc963563  \n",
       "17246  b34f3128      None      None  \n",
       "\n",
       "[5 rows x 40 columns]"
      ]
     },
     "execution_count": 17,
     "metadata": {},
     "output_type": "execute_result"
    }
   ],
   "source": [
    "df_sample.tail()"
   ]
  },
  {
   "cell_type": "markdown",
   "metadata": {},
   "source": [
    "# Section 2. Algorithm Explanation"
   ]
  },
  {
   "cell_type": "markdown",
   "metadata": {},
   "source": [
    "Create your own toy example that matches the dataset provided and use this toy example to explain the math behind the algorithm that you will perform."
   ]
  },
  {
   "cell_type": "markdown",
   "metadata": {},
   "source": [
    "#### Note on the toy dataset \n",
    "For the algorithm exposition in this section, we use the feature engineered \"clean\" toy dataset after the feature engineering/processing steps in section 4 (Algorithm Implementation). For specific details on the choices made in feature engineering, reference the transformation processing done in section 4."
   ]
  },
  {
   "cell_type": "markdown",
   "metadata": {},
   "source": [
    "## 2.1 Logistic Regression Exposition"
   ]
  },
  {
   "cell_type": "markdown",
   "metadata": {},
   "source": [
    "Include toy example here and use this to explain the logistic regression model..."
   ]
  },
  {
   "cell_type": "markdown",
   "metadata": {},
   "source": [
    "For this exercise, we will perform Logistic Regression. Logistic regression is appropriate since we are predicting a categorical target outcome given a feature set, $X$. <br>\n",
    "A simple log transformation of the dependent variable will give an unbounded solution, thus we need to use the odds ratio to reduce the solution space to between [0,1].\n",
    "\n",
    "Following ISL, section 4.3, we can express the logistic function for the log-odds ratio or logit for the multiple predictor case as:\n",
    "\n",
    "$\\begin{equation}log\\left(\\frac{p(X)}{1-p(X)}\\right) = \\beta_{0} + \\beta_{1} X_{1} +\\ldots + \\beta_{p} X_{p}\\end{equation}$\n",
    "\n",
    "where $X=(X_{1},\\ldots,X_{p})$ are $p$ predictors.\n",
    "\n",
    "Therefore, the logit regression model is linear in $X$. The logistic function can be written as the logit function or an affine transformation (a), which expresses the underlying sigmoid function:\n",
    "\n",
    "$\\begin{equation}p(X)=\\frac{exp^{\\beta_{0} + \\beta_{1}X_{1} + \\ldots +\\beta_{p}X_{p}}}{1+ exp^{\\beta_{0} + \\beta_{1}X_{1} + \\ldots +\\beta_{p}X_{p}}}\\end{equation}$\n",
    "<br>\n",
    "\n",
    "or, alternatively, as \n",
    "$\\begin{equation} z_{i} = Wx_{i}a_{i} = \\sigma (z_{i})\\end{equation}$ <br>\n",
    "\n",
    "\n",
    "$\\begin{equation}logistic(\\boldsymbol{w}^T\\cdot\\mathbf{X}) = logit^{-1}(\\boldsymbol{w}^T\\cdot\\mathbf{X}) = \\frac{1}{1+exp^{-\\boldsymbol{w}^T\\cdot\\mathbf{X}'_i}}\\end{equation}$\n",
    "\n",
    "where  $\\boldsymbol{w}$  denotes the model parameters and $b$ represents the bias.\n",
    "\n",
    "The Logistic Regression loss function can be described mathematically as:\n",
    "\n",
    "$\\begin{equation}\n",
    "f(\\boldsymbol{w}) = \\sum_{i=1}^{n}log(1+exp^{-y(\\boldsymbol{w}^T\\cdot\\mathbf{x}'_i + b)})\\end{equation}$\n",
    "\n",
    "Or, loss (L)<br>\n",
    "\n",
    "$\\begin{equation}L = \\frac{1}{2N} \\sum_{i}(y_{i} - a_{i})^2\\end{equation}$\n",
    "<br>\n",
    "\n",
    "Using chain rule we can reduce this to : <br>\n",
    "\n",
    "$\\begin{equation}\\frac{dL}{dW} = \\frac{1}{N} \\sum_{i}-(y_{i} - a_{i}).a_{i}(1-a_{i}).x_{i}\\end{equation}$\n"
   ]
  },
  {
   "cell_type": "markdown",
   "metadata": {},
   "source": [
    "### 2.1.1 Logistic Regression - Toy Example\n",
    "\n",
    "First we will create a test and train toy dataset and display the train dataset.\n",
    "\n",
    "The key characteristics of the full dataset which we have incorporated in the toy dataset:\n",
    "    1. Binary classification of prediction variable.\n",
    "    2. One ordinal numerical variable.\n",
    "    3. Two string categorical variables.\n",
    "    4. Missing data\n",
    "    5. Unseen variables in the test dataset"
   ]
  },
  {
   "cell_type": "code",
   "execution_count": 119,
   "metadata": {
    "collapsed": false
   },
   "outputs": [
    {
     "data": {
      "text/html": [
       "<div>\n",
       "<style scoped>\n",
       "    .dataframe tbody tr th:only-of-type {\n",
       "        vertical-align: middle;\n",
       "    }\n",
       "\n",
       "    .dataframe tbody tr th {\n",
       "        vertical-align: top;\n",
       "    }\n",
       "\n",
       "    .dataframe thead th {\n",
       "        text-align: right;\n",
       "    }\n",
       "</style>\n",
       "<table border=\"1\" class=\"dataframe\">\n",
       "  <thead>\n",
       "    <tr style=\"text-align: right;\">\n",
       "      <th></th>\n",
       "      <th>y</th>\n",
       "      <th>o1</th>\n",
       "      <th>c2</th>\n",
       "      <th>c3</th>\n",
       "    </tr>\n",
       "  </thead>\n",
       "  <tbody>\n",
       "    <tr>\n",
       "      <th>0</th>\n",
       "      <td>0</td>\n",
       "      <td>1</td>\n",
       "      <td></td>\n",
       "      <td>x</td>\n",
       "    </tr>\n",
       "    <tr>\n",
       "      <th>1</th>\n",
       "      <td>0</td>\n",
       "      <td>1</td>\n",
       "      <td>b</td>\n",
       "      <td>y</td>\n",
       "    </tr>\n",
       "    <tr>\n",
       "      <th>2</th>\n",
       "      <td>0</td>\n",
       "      <td>1</td>\n",
       "      <td>c</td>\n",
       "      <td>x</td>\n",
       "    </tr>\n",
       "    <tr>\n",
       "      <th>3</th>\n",
       "      <td>0</td>\n",
       "      <td>1</td>\n",
       "      <td>d</td>\n",
       "      <td>y</td>\n",
       "    </tr>\n",
       "    <tr>\n",
       "      <th>4</th>\n",
       "      <td>0</td>\n",
       "      <td>1</td>\n",
       "      <td>a</td>\n",
       "      <td>x</td>\n",
       "    </tr>\n",
       "    <tr>\n",
       "      <th>5</th>\n",
       "      <td>0</td>\n",
       "      <td>2</td>\n",
       "      <td></td>\n",
       "      <td>y</td>\n",
       "    </tr>\n",
       "    <tr>\n",
       "      <th>6</th>\n",
       "      <td>0</td>\n",
       "      <td>2</td>\n",
       "      <td>c</td>\n",
       "      <td>x</td>\n",
       "    </tr>\n",
       "    <tr>\n",
       "      <th>7</th>\n",
       "      <td>0</td>\n",
       "      <td>2</td>\n",
       "      <td>d</td>\n",
       "      <td>y</td>\n",
       "    </tr>\n",
       "    <tr>\n",
       "      <th>8</th>\n",
       "      <td>0</td>\n",
       "      <td>2</td>\n",
       "      <td>a</td>\n",
       "      <td>x</td>\n",
       "    </tr>\n",
       "    <tr>\n",
       "      <th>9</th>\n",
       "      <td>0</td>\n",
       "      <td>2</td>\n",
       "      <td>b</td>\n",
       "      <td>y</td>\n",
       "    </tr>\n",
       "    <tr>\n",
       "      <th>10</th>\n",
       "      <td>1</td>\n",
       "      <td>3</td>\n",
       "      <td></td>\n",
       "      <td>x</td>\n",
       "    </tr>\n",
       "    <tr>\n",
       "      <th>11</th>\n",
       "      <td>1</td>\n",
       "      <td>3</td>\n",
       "      <td>d</td>\n",
       "      <td>y</td>\n",
       "    </tr>\n",
       "    <tr>\n",
       "      <th>12</th>\n",
       "      <td>1</td>\n",
       "      <td>3</td>\n",
       "      <td>a</td>\n",
       "      <td>x</td>\n",
       "    </tr>\n",
       "    <tr>\n",
       "      <th>13</th>\n",
       "      <td>1</td>\n",
       "      <td>3</td>\n",
       "      <td>b</td>\n",
       "      <td>y</td>\n",
       "    </tr>\n",
       "    <tr>\n",
       "      <th>14</th>\n",
       "      <td>1</td>\n",
       "      <td>3</td>\n",
       "      <td>c</td>\n",
       "      <td>x</td>\n",
       "    </tr>\n",
       "    <tr>\n",
       "      <th>15</th>\n",
       "      <td>1</td>\n",
       "      <td>4</td>\n",
       "      <td></td>\n",
       "      <td>y</td>\n",
       "    </tr>\n",
       "    <tr>\n",
       "      <th>16</th>\n",
       "      <td>1</td>\n",
       "      <td>4</td>\n",
       "      <td>a</td>\n",
       "      <td>x</td>\n",
       "    </tr>\n",
       "    <tr>\n",
       "      <th>17</th>\n",
       "      <td>1</td>\n",
       "      <td>4</td>\n",
       "      <td>b</td>\n",
       "      <td>y</td>\n",
       "    </tr>\n",
       "    <tr>\n",
       "      <th>18</th>\n",
       "      <td>1</td>\n",
       "      <td>4</td>\n",
       "      <td>c</td>\n",
       "      <td>x</td>\n",
       "    </tr>\n",
       "    <tr>\n",
       "      <th>19</th>\n",
       "      <td>1</td>\n",
       "      <td>4</td>\n",
       "      <td>d</td>\n",
       "      <td>y</td>\n",
       "    </tr>\n",
       "  </tbody>\n",
       "</table>\n",
       "</div>"
      ],
      "text/plain": [
       "    y o1 c2 c3\n",
       "0   0  1     x\n",
       "1   0  1  b  y\n",
       "2   0  1  c  x\n",
       "3   0  1  d  y\n",
       "4   0  1  a  x\n",
       "5   0  2     y\n",
       "6   0  2  c  x\n",
       "7   0  2  d  y\n",
       "8   0  2  a  x\n",
       "9   0  2  b  y\n",
       "10  1  3     x\n",
       "11  1  3  d  y\n",
       "12  1  3  a  x\n",
       "13  1  3  b  y\n",
       "14  1  3  c  x\n",
       "15  1  4     y\n",
       "16  1  4  a  x\n",
       "17  1  4  b  y\n",
       "18  1  4  c  x\n",
       "19  1  4  d  y"
      ]
     },
     "execution_count": 119,
     "metadata": {},
     "output_type": "execute_result"
    }
   ],
   "source": [
    "%%capture --no-display\n",
    "#Total number of obersvations\n",
    "N = 20\n",
    "# Dimensions - for creating weight vector (1,2,3,4,a,b,c,d,x,y)\n",
    "D = 10\n",
    "\n",
    "def create_toy_dataset(n_rows, dimensions, convert_ordinal=True, rand_seed=52):\n",
    "    np.random.seed(rand_seed)\n",
    "    \n",
    "    # Create a TRAIN dataset\n",
    "    train = pd.DataFrame()\n",
    "\n",
    "    # Create three variables  \n",
    "    # Variable 1 - Numerical ordinal -- 1 to 4\n",
    "    ordinal_data = np.repeat(np.array([1,2,3,4]), 5)\n",
    "\n",
    "    # Variable 2, 3 - string categorial variables\n",
    "    cat_data_1 = np.tile(np.array(['a', 'b', 'c', 'd']), int(N/4))\n",
    "    cat_data_2 = np.tile(np.array(['x', 'y']), int(N/2))\n",
    "\n",
    "    # Create the dependent variable, zeros for first ten values and ones for the next ten values\n",
    "    # For simplicity, the ordinal variables 1,2 and associated with the outcome variable 0\n",
    "    #  3,4 are associated with the outcome label 1\n",
    "    y = np.repeat(np.array([0, 1]), 10)\n",
    "\n",
    "    #Add variables to the dataframe\n",
    "    train['y'] = y\n",
    "    train['o1'] = ordinal_data\n",
    "    train['c2'] = cat_data_1\n",
    "    train['c3'] = cat_data_2\n",
    "\n",
    "    if convert_ordinal:\n",
    "        #Force numerical variable to a categorical variable so nummy variables are created using pandas\n",
    "        train['o1'] = train['o1'].astype('category')\n",
    "\n",
    "    #Introduce missing data\n",
    "    train['c2'][0] = \"\"\n",
    "    train['c2'][5] = \"\"\n",
    "    train['c2'][10] = \"\"\n",
    "    train['c2'][15] = \"\"\n",
    "\n",
    "    # Create TEST dataset\n",
    "    test = pd.DataFrame()\n",
    "\n",
    "    # Create three variables  \n",
    "    # Variable 1 - Numerical ordinal WITH a new unseen variable ('0')\n",
    "    ordinal_data = np.repeat(np.array([100,2,3,4]), 5)\n",
    "\n",
    "    # Variable 2, 3 - string categorial variables\n",
    "    cat_data_1 = np.tile(np.array(['a', 'b', 'c', 'd']), int(N/4))\n",
    "    cat_data_2 = np.tile(np.array(['x', 'y']), int(N/2))\n",
    "\n",
    "    # Create a y labels variable and insert them into the dataset\n",
    "    test['y'] = np.repeat(np.array([0, 1]), 10)\n",
    "    test['o1'] = ordinal_data\n",
    "    test['c2'] = cat_data_1\n",
    "    test['c3'] = cat_data_2\n",
    "\n",
    "    if convert_ordinal:\n",
    "        test['o1'] = test['o1'].astype('category')\n",
    "    \n",
    "    return train, test\n",
    "\n",
    "df, df_test = create_toy_dataset(N, D)\n",
    "df"
   ]
  },
  {
   "cell_type": "markdown",
   "metadata": {},
   "source": [
    "### 2.1.2 Dummy Variable Behavior in pySpark MLlib and Pandas\n",
    "When creating dummy variables, to avoid multicollinearity between a variable and the intercept, one variable is dropped. \n",
    "The default behavior in the `Pandas` package with regards to final dummy variable exclusion is different from the `Spark.MLlib` package. <br>\n",
    "The `Spark.MLlib` package creates a missing value dummy variable as a seperate dummy subclass for each of the variables and `dropLast` parameter on the `OneHotEncoderEstimator` class drops all the 'null' subclasses. To recreate the equivalent in the `Pandas/numpy` package we are dropping the 'c2_' column, which is the one-hot encoded variable for the missing values.\n"
   ]
  },
  {
   "cell_type": "code",
   "execution_count": 105,
   "metadata": {
    "collapsed": false
   },
   "outputs": [
    {
     "data": {
      "text/plain": [
       "(20, 1)"
      ]
     },
     "execution_count": 105,
     "metadata": {},
     "output_type": "execute_result"
    }
   ],
   "source": [
    "X = pd.get_dummies(df.drop(columns=['y']))\n",
    "X.head()\n",
    "#Drop a variable to avoid multicollinearity\n",
    "X.drop(columns=['c2_'], axis=1, inplace=True)\n",
    "\n",
    "y = pd.DataFrame(df.y)\n",
    "y = y.astype('int')\n",
    "y.shape"
   ]
  },
  {
   "cell_type": "code",
   "execution_count": 106,
   "metadata": {
    "collapsed": false
   },
   "outputs": [
    {
     "data": {
      "text/html": [
       "<div>\n",
       "<style scoped>\n",
       "    .dataframe tbody tr th:only-of-type {\n",
       "        vertical-align: middle;\n",
       "    }\n",
       "\n",
       "    .dataframe tbody tr th {\n",
       "        vertical-align: top;\n",
       "    }\n",
       "\n",
       "    .dataframe thead th {\n",
       "        text-align: right;\n",
       "    }\n",
       "</style>\n",
       "<table border=\"1\" class=\"dataframe\">\n",
       "  <thead>\n",
       "    <tr style=\"text-align: right;\">\n",
       "      <th></th>\n",
       "      <th>o1_1</th>\n",
       "      <th>o1_2</th>\n",
       "      <th>o1_3</th>\n",
       "      <th>o1_4</th>\n",
       "      <th>c2_a</th>\n",
       "      <th>c2_b</th>\n",
       "      <th>c2_c</th>\n",
       "      <th>c2_d</th>\n",
       "      <th>c3_x</th>\n",
       "      <th>c3_y</th>\n",
       "    </tr>\n",
       "  </thead>\n",
       "  <tbody>\n",
       "    <tr>\n",
       "      <th>0</th>\n",
       "      <td>1</td>\n",
       "      <td>0</td>\n",
       "      <td>0</td>\n",
       "      <td>0</td>\n",
       "      <td>0</td>\n",
       "      <td>0</td>\n",
       "      <td>0</td>\n",
       "      <td>0</td>\n",
       "      <td>1</td>\n",
       "      <td>0</td>\n",
       "    </tr>\n",
       "    <tr>\n",
       "      <th>1</th>\n",
       "      <td>1</td>\n",
       "      <td>0</td>\n",
       "      <td>0</td>\n",
       "      <td>0</td>\n",
       "      <td>0</td>\n",
       "      <td>1</td>\n",
       "      <td>0</td>\n",
       "      <td>0</td>\n",
       "      <td>0</td>\n",
       "      <td>1</td>\n",
       "    </tr>\n",
       "    <tr>\n",
       "      <th>2</th>\n",
       "      <td>1</td>\n",
       "      <td>0</td>\n",
       "      <td>0</td>\n",
       "      <td>0</td>\n",
       "      <td>0</td>\n",
       "      <td>0</td>\n",
       "      <td>1</td>\n",
       "      <td>0</td>\n",
       "      <td>1</td>\n",
       "      <td>0</td>\n",
       "    </tr>\n",
       "    <tr>\n",
       "      <th>3</th>\n",
       "      <td>1</td>\n",
       "      <td>0</td>\n",
       "      <td>0</td>\n",
       "      <td>0</td>\n",
       "      <td>0</td>\n",
       "      <td>0</td>\n",
       "      <td>0</td>\n",
       "      <td>1</td>\n",
       "      <td>0</td>\n",
       "      <td>1</td>\n",
       "    </tr>\n",
       "    <tr>\n",
       "      <th>4</th>\n",
       "      <td>1</td>\n",
       "      <td>0</td>\n",
       "      <td>0</td>\n",
       "      <td>0</td>\n",
       "      <td>1</td>\n",
       "      <td>0</td>\n",
       "      <td>0</td>\n",
       "      <td>0</td>\n",
       "      <td>1</td>\n",
       "      <td>0</td>\n",
       "    </tr>\n",
       "    <tr>\n",
       "      <th>5</th>\n",
       "      <td>0</td>\n",
       "      <td>1</td>\n",
       "      <td>0</td>\n",
       "      <td>0</td>\n",
       "      <td>0</td>\n",
       "      <td>0</td>\n",
       "      <td>0</td>\n",
       "      <td>0</td>\n",
       "      <td>0</td>\n",
       "      <td>1</td>\n",
       "    </tr>\n",
       "    <tr>\n",
       "      <th>6</th>\n",
       "      <td>0</td>\n",
       "      <td>1</td>\n",
       "      <td>0</td>\n",
       "      <td>0</td>\n",
       "      <td>0</td>\n",
       "      <td>0</td>\n",
       "      <td>1</td>\n",
       "      <td>0</td>\n",
       "      <td>1</td>\n",
       "      <td>0</td>\n",
       "    </tr>\n",
       "    <tr>\n",
       "      <th>7</th>\n",
       "      <td>0</td>\n",
       "      <td>1</td>\n",
       "      <td>0</td>\n",
       "      <td>0</td>\n",
       "      <td>0</td>\n",
       "      <td>0</td>\n",
       "      <td>0</td>\n",
       "      <td>1</td>\n",
       "      <td>0</td>\n",
       "      <td>1</td>\n",
       "    </tr>\n",
       "    <tr>\n",
       "      <th>8</th>\n",
       "      <td>0</td>\n",
       "      <td>1</td>\n",
       "      <td>0</td>\n",
       "      <td>0</td>\n",
       "      <td>1</td>\n",
       "      <td>0</td>\n",
       "      <td>0</td>\n",
       "      <td>0</td>\n",
       "      <td>1</td>\n",
       "      <td>0</td>\n",
       "    </tr>\n",
       "    <tr>\n",
       "      <th>9</th>\n",
       "      <td>0</td>\n",
       "      <td>1</td>\n",
       "      <td>0</td>\n",
       "      <td>0</td>\n",
       "      <td>0</td>\n",
       "      <td>1</td>\n",
       "      <td>0</td>\n",
       "      <td>0</td>\n",
       "      <td>0</td>\n",
       "      <td>1</td>\n",
       "    </tr>\n",
       "  </tbody>\n",
       "</table>\n",
       "</div>"
      ],
      "text/plain": [
       "   o1_1  o1_2  o1_3  o1_4  c2_a  c2_b  c2_c  c2_d  c3_x  c3_y\n",
       "0     1     0     0     0     0     0     0     0     1     0\n",
       "1     1     0     0     0     0     1     0     0     0     1\n",
       "2     1     0     0     0     0     0     1     0     1     0\n",
       "3     1     0     0     0     0     0     0     1     0     1\n",
       "4     1     0     0     0     1     0     0     0     1     0\n",
       "5     0     1     0     0     0     0     0     0     0     1\n",
       "6     0     1     0     0     0     0     1     0     1     0\n",
       "7     0     1     0     0     0     0     0     1     0     1\n",
       "8     0     1     0     0     1     0     0     0     1     0\n",
       "9     0     1     0     0     0     1     0     0     0     1"
      ]
     },
     "execution_count": 106,
     "metadata": {},
     "output_type": "execute_result"
    }
   ],
   "source": [
    "X.head(n=10)"
   ]
  },
  {
   "cell_type": "markdown",
   "metadata": {},
   "source": [
    "Here, we define functions for the sigmoid function, the derivative of the loss function and gradient descent."
   ]
  },
  {
   "cell_type": "code",
   "execution_count": 107,
   "metadata": {
    "collapsed": false
   },
   "outputs": [
    {
     "name": "stdout",
     "output_type": "stream",
     "text": [
      "Step - 0 --- loss - 0.03174810518336583\n",
      "Step - 1 --- loss - 0.0041214409362725695\n",
      "Step - 2 --- loss - 0.0018025514284518713\n",
      "Step - 3 --- loss - 0.0011280263927289837\n",
      "Step - 4 --- loss - 0.0008216757927381938\n",
      "Step - 5 --- loss - 0.0006593564537874984\n",
      "Step - 6 --- loss - 0.0005544411528644965\n",
      "Step - 7 --- loss - 0.0004503242791715662\n",
      "Step - 8 --- loss - 0.00040838315105599666\n",
      "Step - 9 --- loss - 0.00035967442948333696\n",
      "\n",
      " Coefficient weights - \n",
      "\n",
      "[[-4.03428538]\n",
      " [-4.43969704]\n",
      " [ 3.16416284]\n",
      " [ 2.998458  ]\n",
      " [ 0.51039821]\n",
      " [-0.84348923]\n",
      " [ 0.48208578]\n",
      " [-0.88557402]\n",
      " [ 0.11147867]\n",
      " [ 1.30873345]]\n"
     ]
    }
   ],
   "source": [
    "def sigmoid(z):\n",
    "    \"\"\"apply affine transformation to the \n",
    "    coefficient and independent variables\n",
    "    \"\"\"\n",
    "    return 1/(1 + np.exp(-z))\n",
    "\n",
    "def get_derivative(x, e, a):\n",
    "    \"\"\"apply loss function \n",
    "    Input: \n",
    "            independent variables observations (x),\n",
    "            error= (y - prediction),\n",
    "            affine transformation (a)\n",
    "    Output:\n",
    "            vector of size weight vector\n",
    "    \"\"\"\n",
    "    return - x.T.dot(e * a *(1 - a))\n",
    "\n",
    "def grad_desc(X, y, steps = 10, batch = 1, lr = 0.9, verbose = True):\n",
    "    \"\"\" Input: \n",
    "                Independent variable observations (X), \n",
    "                labels (y), number of iterations (steps), \n",
    "                batch size (batch) and learning rate (lr)\n",
    "        Output: \n",
    "                List of weights for each step(params)\n",
    "    \"\"\"\n",
    "    batch_updates = int(len(X)/batch)\n",
    "    np.random.seed(12)\n",
    "    w = np.random.randn(D, 1)\n",
    "    \n",
    "    param = []\n",
    "    loss = np.zeros((steps,))\n",
    "    \n",
    "    for step in range(steps):\n",
    "        indx = list(np.random.choice(len(X), batch, replace = False))\n",
    "\n",
    "        X_batch = np.array(X.iloc[indx,])\n",
    "        y_batch = np.array(y.iloc[indx,])\n",
    "        \n",
    "        \n",
    "        for batch in range(batch_updates):\n",
    "            a = sigmoid(X_batch.dot(w))\n",
    "            e = y_batch - a\n",
    "            w = w - lr * get_derivative(X_batch, e, a)\n",
    "        \n",
    "        loss[step] = 0.5 * e.T.dot(e) / len(e)\n",
    "        param.append(w)\n",
    "        if verbose:\n",
    "            print(f'Step - {step} --- loss - {loss[step]}')\n",
    "    return param, loss\n",
    "\n",
    "param, loss = grad_desc(X, y)\n",
    "print('\\n Coefficient weights - \\n')\n",
    "print(param[-1])\n"
   ]
  },
  {
   "cell_type": "code",
   "execution_count": 120,
   "metadata": {
    "collapsed": true,
    "jupyter": {
     "outputs_hidden": true
    }
   },
   "outputs": [],
   "source": [
    "#save the TRAIN and TEST data\n",
    "df.to_csv('data/toy_data.csv', sep = '\\t', na_rep='null', header=False, index=False)\n",
    "df_test.to_csv('data/toy_test_data.csv', sep = '\\t', na_rep='null', header=False, index=False)"
   ]
  },
  {
   "cell_type": "markdown",
   "metadata": {},
   "source": [
    "### 2.1.3 Recreating the Solution in pySpark\n",
    "The matrix form solution logistic regression solution implemented in numpy above will not scale well on a large set of feature variables. Thus we need to implement a sparse representation of the one hot encoded rows.\n",
    "\n",
    "\n",
    "### From One-hot-encoded Matrix to Sparse Vectors\n",
    "The first row of the matrix looks like this:<br>\n",
    "\n",
    "                    [1 \t0 \t0 \t0 \t0 \t0 \t0 \t0 \t1 \t0]\n",
    "\n",
    "We can reduce this representation to a sparse vector containing:\n",
    "\n",
    "    [['Length of vector'], ['List of indices containing values'], ['List of corresponding values']]\n",
    "\n",
    "                                [10,  [0,  8], [1.0,  1.0] \n",
    "Note: The index number difference between the matrix representation and the Spark implementation is due to the ordering of the ordinal variable, the `Pandas.get_dummies()` assigns dummy variables in acending order, Spark does not.\n",
    "\n",
    "\n",
    "In Spark we can get this sparse representation using a three step pipeline using a stringindexer to convert the string categorical variables to a numerical categorical variable, next the one hot encoder creates a sparse representation of each feature set in the format shown above and finally the vector assembler merges the various lists into a single list representation of a row.\n",
    "\n"
   ]
  },
  {
   "cell_type": "code",
   "execution_count": 129,
   "metadata": {
    "collapsed": true,
    "jupyter": {
     "outputs_hidden": true
    }
   },
   "outputs": [],
   "source": [
    "#global variables declaration\n",
    "MAX_ITER = 10\n",
    "EPSILON = 1e-16"
   ]
  },
  {
   "cell_type": "code",
   "execution_count": 130,
   "metadata": {
    "collapsed": false
   },
   "outputs": [
    {
     "name": "stdout",
     "output_type": "stream",
     "text": [
      "+---+---+----+----+\n",
      "|  y| o1|cat2|cat3|\n",
      "+---+---+----+----+\n",
      "|  0|  1|null|   x|\n",
      "|  0|  1|   b|   y|\n",
      "|  0|  1|   c|   x|\n",
      "|  0|  1|   d|   y|\n",
      "|  0|  1|   a|   x|\n",
      "|  0|  2|null|   y|\n",
      "|  0|  2|   c|   x|\n",
      "|  0|  2|   d|   y|\n",
      "|  0|  2|   a|   x|\n",
      "|  0|  2|   b|   y|\n",
      "|  1|  3|null|   x|\n",
      "|  1|  3|   d|   y|\n",
      "|  1|  3|   a|   x|\n",
      "|  1|  3|   b|   y|\n",
      "|  1|  3|   c|   x|\n",
      "|  1|  4|null|   y|\n",
      "|  1|  4|   a|   x|\n",
      "|  1|  4|   b|   y|\n",
      "|  1|  4|   c|   x|\n",
      "|  1|  4|   d|   y|\n",
      "+---+---+----+----+\n",
      "\n"
     ]
    }
   ],
   "source": [
    "def load_pyspark_dataframes():\n",
    "    #Specify the schema on read\n",
    "    schema = StructType([\n",
    "        StructField('y', IntegerType()),\n",
    "        StructField('o1', IntegerType()),\n",
    "        StructField('cat2', StringType()),\n",
    "        StructField('cat3', StringType())\n",
    "        ])\n",
    "    #Load the data in Spark dataframes\n",
    "    df = spark.read.load('data/toy_data.csv', \n",
    "                           format='csv', sep= '\\t', \n",
    "                           header='false', \n",
    "                           schema=schema)\n",
    "\n",
    "\n",
    "    df_test = spark.read.load('data/toy_test_data.csv', \n",
    "                               format='csv', sep= '\\t', \n",
    "                               header='false', \n",
    "                               schema=schema, \n",
    "                               mode='FAILFAST')\n",
    "    \n",
    "    return df, df_test\n",
    "\n",
    "df, df_test = load_pyspark_dataframes()\n",
    "df.show()"
   ]
  },
  {
   "cell_type": "code",
   "execution_count": 131,
   "metadata": {
    "collapsed": false,
    "scrolled": false
   },
   "outputs": [
    {
     "name": "stdout",
     "output_type": "stream",
     "text": [
      "+---+---+----+----+-------+---------+---------+\n",
      "|  y| o1|cat2|cat3|o1_Indx|cat2_Indx|cat3_Indx|\n",
      "+---+---+----+----+-------+---------+---------+\n",
      "|  0|  1|null|   x|    3.0|      4.0|      0.0|\n",
      "|  0|  1|   b|   y|    3.0|      2.0|      1.0|\n",
      "|  0|  1|   c|   x|    3.0|      3.0|      0.0|\n",
      "|  0|  1|   d|   y|    3.0|      0.0|      1.0|\n",
      "|  0|  1|   a|   x|    3.0|      1.0|      0.0|\n",
      "|  0|  2|null|   y|    1.0|      4.0|      1.0|\n",
      "|  0|  2|   c|   x|    1.0|      3.0|      0.0|\n",
      "|  0|  2|   d|   y|    1.0|      0.0|      1.0|\n",
      "|  0|  2|   a|   x|    1.0|      1.0|      0.0|\n",
      "|  0|  2|   b|   y|    1.0|      2.0|      1.0|\n",
      "|  1|  3|null|   x|    2.0|      4.0|      0.0|\n",
      "|  1|  3|   d|   y|    2.0|      0.0|      1.0|\n",
      "|  1|  3|   a|   x|    2.0|      1.0|      0.0|\n",
      "|  1|  3|   b|   y|    2.0|      2.0|      1.0|\n",
      "|  1|  3|   c|   x|    2.0|      3.0|      0.0|\n",
      "|  1|  4|null|   y|    0.0|      4.0|      1.0|\n",
      "|  1|  4|   a|   x|    0.0|      1.0|      0.0|\n",
      "|  1|  4|   b|   y|    0.0|      2.0|      1.0|\n",
      "|  1|  4|   c|   x|    0.0|      3.0|      0.0|\n",
      "|  1|  4|   d|   y|    0.0|      0.0|      1.0|\n",
      "+---+---+----+----+-------+---------+---------+\n",
      "\n"
     ]
    }
   ],
   "source": [
    "#specify columns to turn from string categorical variables to numerical categorical representation\n",
    "cat_cols = [ 'o1', 'cat2', 'cat3']\n",
    "\n",
    "indexers = [StringIndexer(inputCol= c, \n",
    "                         outputCol=\"{0}_Indx\".format(c), \n",
    "                         handleInvalid=\"keep\") \n",
    "           for c in cat_cols]\n",
    "\n",
    "\n",
    "#create a pipeline to add the additional steps\n",
    "pipeline = Pipeline(stages = indexers) \n",
    "model = pipeline.fit(df)\n",
    "transformed = model.transform(df)\n",
    "\n",
    "transformed.show()"
   ]
  },
  {
   "cell_type": "code",
   "execution_count": 132,
   "metadata": {
    "collapsed": false
   },
   "outputs": [
    {
     "name": "stdout",
     "output_type": "stream",
     "text": [
      "+---+---+----+----+-------+---------+---------+-------------+-------------+-------------+--------------------+\n",
      "|  y| o1|cat2|cat3|o1_Indx|cat2_Indx|cat3_Indx|          o1v|        cat2v|        cat3v|            features|\n",
      "+---+---+----+----+-------+---------+---------+-------------+-------------+-------------+--------------------+\n",
      "|  0|  1|null|   x|    3.0|      4.0|      0.0|(4,[3],[1.0])|    (4,[],[])|(2,[0],[1.0])|(10,[3,8],[1.0,1.0])|\n",
      "|  0|  1|   b|   y|    3.0|      2.0|      1.0|(4,[3],[1.0])|(4,[2],[1.0])|(2,[1],[1.0])|(10,[3,6,9],[1.0,...|\n",
      "|  0|  1|   c|   x|    3.0|      3.0|      0.0|(4,[3],[1.0])|(4,[3],[1.0])|(2,[0],[1.0])|(10,[3,7,8],[1.0,...|\n",
      "|  0|  1|   d|   y|    3.0|      0.0|      1.0|(4,[3],[1.0])|(4,[0],[1.0])|(2,[1],[1.0])|(10,[3,4,9],[1.0,...|\n",
      "|  0|  1|   a|   x|    3.0|      1.0|      0.0|(4,[3],[1.0])|(4,[1],[1.0])|(2,[0],[1.0])|(10,[3,5,8],[1.0,...|\n",
      "|  0|  2|null|   y|    1.0|      4.0|      1.0|(4,[1],[1.0])|    (4,[],[])|(2,[1],[1.0])|(10,[1,9],[1.0,1.0])|\n",
      "|  0|  2|   c|   x|    1.0|      3.0|      0.0|(4,[1],[1.0])|(4,[3],[1.0])|(2,[0],[1.0])|(10,[1,7,8],[1.0,...|\n",
      "|  0|  2|   d|   y|    1.0|      0.0|      1.0|(4,[1],[1.0])|(4,[0],[1.0])|(2,[1],[1.0])|(10,[1,4,9],[1.0,...|\n",
      "|  0|  2|   a|   x|    1.0|      1.0|      0.0|(4,[1],[1.0])|(4,[1],[1.0])|(2,[0],[1.0])|(10,[1,5,8],[1.0,...|\n",
      "|  0|  2|   b|   y|    1.0|      2.0|      1.0|(4,[1],[1.0])|(4,[2],[1.0])|(2,[1],[1.0])|(10,[1,6,9],[1.0,...|\n",
      "|  1|  3|null|   x|    2.0|      4.0|      0.0|(4,[2],[1.0])|    (4,[],[])|(2,[0],[1.0])|(10,[2,8],[1.0,1.0])|\n",
      "|  1|  3|   d|   y|    2.0|      0.0|      1.0|(4,[2],[1.0])|(4,[0],[1.0])|(2,[1],[1.0])|(10,[2,4,9],[1.0,...|\n",
      "|  1|  3|   a|   x|    2.0|      1.0|      0.0|(4,[2],[1.0])|(4,[1],[1.0])|(2,[0],[1.0])|(10,[2,5,8],[1.0,...|\n",
      "|  1|  3|   b|   y|    2.0|      2.0|      1.0|(4,[2],[1.0])|(4,[2],[1.0])|(2,[1],[1.0])|(10,[2,6,9],[1.0,...|\n",
      "|  1|  3|   c|   x|    2.0|      3.0|      0.0|(4,[2],[1.0])|(4,[3],[1.0])|(2,[0],[1.0])|(10,[2,7,8],[1.0,...|\n",
      "|  1|  4|null|   y|    0.0|      4.0|      1.0|(4,[0],[1.0])|    (4,[],[])|(2,[1],[1.0])|(10,[0,9],[1.0,1.0])|\n",
      "|  1|  4|   a|   x|    0.0|      1.0|      0.0|(4,[0],[1.0])|(4,[1],[1.0])|(2,[0],[1.0])|(10,[0,5,8],[1.0,...|\n",
      "|  1|  4|   b|   y|    0.0|      2.0|      1.0|(4,[0],[1.0])|(4,[2],[1.0])|(2,[1],[1.0])|(10,[0,6,9],[1.0,...|\n",
      "|  1|  4|   c|   x|    0.0|      3.0|      0.0|(4,[0],[1.0])|(4,[3],[1.0])|(2,[0],[1.0])|(10,[0,7,8],[1.0,...|\n",
      "|  1|  4|   d|   y|    0.0|      0.0|      1.0|(4,[0],[1.0])|(4,[0],[1.0])|(2,[1],[1.0])|(10,[0,4,9],[1.0,...|\n",
      "+---+---+----+----+-------+---------+---------+-------------+-------------+-------------+--------------------+\n",
      "\n"
     ]
    }
   ],
   "source": [
    "cat_cols = [ 'o1', 'cat2', 'cat3']\n",
    "cat_vecs = [ 'o1v', 'cat2v', 'cat3v']\n",
    "indexers = [StringIndexer(inputCol= c, \n",
    "                         outputCol=\"{0}_Indx\".format(c), \n",
    "                         handleInvalid=\"keep\") \n",
    "           for c in cat_cols]\n",
    "#Create a list representation of the numerical categorical representation\n",
    "encoder = OneHotEncoderEstimator(inputCols = [indexer.getOutputCol() for indexer in indexers], \n",
    "                                  outputCols = cat_vecs, \n",
    "                                  dropLast = True)\n",
    "#adding a assembler step which creates a sparse representation of an indexed column\n",
    "assembler = VectorAssembler(inputCols=encoder.getOutputCols(), \n",
    "                           outputCol = 'features')\n",
    "\n",
    "#creating the full transform pipeline       \n",
    "pipeline = Pipeline(stages = indexers + [encoder] + [assembler] )\n",
    "\n",
    "model = pipeline.fit(df)\n",
    "\n",
    "transformed = model.transform(df)\n",
    "\n",
    "\n",
    "transformed.show(truncate=True)\n",
    "\n",
    "\n",
    "\n",
    "# Repeating the steps for the TEST dataset\n",
    "indexers = [StringIndexer(inputCol= c, \n",
    "                         outputCol=\"{0}_Indx\".format(c), \n",
    "                         handleInvalid=\"keep\") \n",
    "           for c in cat_cols]\n",
    "\n",
    "encoder = OneHotEncoderEstimator(inputCols = [indexer.getOutputCol() for indexer in indexers], \n",
    "                                  outputCols = cat_vecs, \n",
    "                                  dropLast = True)\n",
    "\n",
    "assembler = VectorAssembler(inputCols=encoder.getOutputCols(), \n",
    "                           outputCol = 'features')\n",
    "\n",
    "        \n",
    "pipeline = Pipeline(stages = indexers + [encoder] + [assembler] )\n",
    "\n",
    "test_features = pipeline.fit(df_test).transform(df_test)"
   ]
  },
  {
   "cell_type": "markdown",
   "metadata": {},
   "source": [
    "### 2.1.4 Hash Transformation\n",
    "A hashing function can transform a set of inputs (numerical or string) variables into a feature vector of fixed length. There are a number of advantages to conducting a feature hashing. Firstly, this step can be converted with a single pass over the data without heavy computation load. Secondly, this model can deal with new or unseen variables by continuing to map out the features to the specified feature vector, thus being able to withstand the rigors of a production environment requiring quick computations and changes in feature sets. \n",
    "\n",
    "However, there are some disadvatages to hashing as well. Firstly, the mapping cannot be reversed, thus the practitioners cannot gain any interpretive insight into the behavior of the model. Secondly, a fixed feature vector can lead to feature collisions, when multiple input variables may be assigned to the same vector index.\n",
    "\n",
    "Given the very large number of variables, a feature hasher can be employed to reduce the feature space, or adapted in a production environment as a reasonable abstraction of the one hot encoding output.\n",
    "\n",
    "Returning to the toy dataset, here we are mapping the 10 variables to a fixed feature vector of length 8."
   ]
  },
  {
   "cell_type": "code",
   "execution_count": 133,
   "metadata": {
    "collapsed": false,
    "scrolled": true
   },
   "outputs": [
    {
     "name": "stdout",
     "output_type": "stream",
     "text": [
      "+---+---+----+----+-------------------------+\n",
      "|y  |o1 |cat2|cat3|features                 |\n",
      "+---+---+----+----+-------------------------+\n",
      "|0  |1  |null|x   |(8,[1,6],[1.0,1.0])      |\n",
      "|0  |1  |b   |y   |(8,[0,1],[1.0,2.0])      |\n",
      "|0  |1  |c   |x   |(8,[1,2,6],[1.0,1.0,1.0])|\n",
      "|0  |1  |d   |y   |(8,[0,1,6],[1.0,1.0,1.0])|\n",
      "|0  |1  |a   |x   |(8,[1,6,7],[1.0,1.0,1.0])|\n",
      "|0  |2  |null|y   |(8,[0,1],[1.0,2.0])      |\n",
      "|0  |2  |c   |x   |(8,[1,2,6],[2.0,1.0,1.0])|\n",
      "|0  |2  |d   |y   |(8,[0,1,6],[1.0,2.0,1.0])|\n",
      "|0  |2  |a   |x   |(8,[1,6,7],[2.0,1.0,1.0])|\n",
      "|0  |2  |b   |y   |(8,[0,1],[1.0,3.0])      |\n",
      "|1  |3  |null|x   |(8,[1,6],[3.0,1.0])      |\n",
      "|1  |3  |d   |y   |(8,[0,1,6],[1.0,3.0,1.0])|\n",
      "|1  |3  |a   |x   |(8,[1,6,7],[3.0,1.0,1.0])|\n",
      "|1  |3  |b   |y   |(8,[0,1],[1.0,4.0])      |\n",
      "|1  |3  |c   |x   |(8,[1,2,6],[3.0,1.0,1.0])|\n",
      "|1  |4  |null|y   |(8,[0,1],[1.0,4.0])      |\n",
      "|1  |4  |a   |x   |(8,[1,6,7],[4.0,1.0,1.0])|\n",
      "|1  |4  |b   |y   |(8,[0,1],[1.0,5.0])      |\n",
      "|1  |4  |c   |x   |(8,[1,2,6],[4.0,1.0,1.0])|\n",
      "|1  |4  |d   |y   |(8,[0,1,6],[1.0,4.0,1.0])|\n",
      "+---+---+----+----+-------------------------+\n",
      "\n"
     ]
    }
   ],
   "source": [
    "cat_cols = [ 'o1', 'cat2', 'cat3']\n",
    "\n",
    "hasher = FeatureHasher(inputCols=cat_cols, outputCol=\"features\", numFeatures = 8)\n",
    "\n",
    "hash_transformed = hasher.transform(df)\n",
    "\n",
    "hash_transformed.show(truncate=False)"
   ]
  },
  {
   "cell_type": "markdown",
   "metadata": {},
   "source": [
    "### 2.1.5 Evaluation Metrics\n",
    "\n",
    "Log loss is used to evaluate logistic regression and tree-based algorithms. It is the negative log-likelihood of the Bernoulli model. As mentioned in the reference paper, Aryafar, et al. (2017), log loss is often used as an indicator for model performance in online advertising. Minimizing log loss indicates that the conditional probability of clicking on an ad given a query by the user should converge to the expected click rate. Here the conditional probability can be written an $P(c|q,l)$, where $c$ is the binary response of clicking on an advertisement or not, $q$ is the indicator for a query issued by a user and $l$ is a given advertisement listing. A model with lower log loss is preferred. This is referred to in the reference paper Aryafar, et al. (2017).\n",
    "\n",
    "The following logarithmic loss function is used to evaluate the model proposed:\n",
    "\n",
    "$\\begin{equation}\n",
    "\\boldsymbol{logloss} = -\\frac{1}{L}\\sum_{i=1}^{L}y_{i}log p_{i}+(1-y_{i})log(1-p_{i})\\end{equation}$\n",
    "\n",
    "where $L$ is the number of instances, $y_{i} \\in {0,1}$ is the label of the $i^{th}$ instance, and $p_{i}$ is the probability of that the $i^{th}$ instance is clicked. \n",
    "\n",
    "Calculating a negative log of the probabilities to avoid decimal point overflow, the log loss of an estimate can be calculated by\n",
    "\n",
    "\\begin{equation*}\n",
    "\\begin{cases}     \n",
    "  y_{i}  \\colon  1  =>  log(p(y_{i}))     \\\\\n",
    "  y_{i}  \\colon  0  =>  log(1 - p(y_{i}))\n",
    "\\end{cases}\n",
    "\\end{equation*}\n"
   ]
  },
  {
   "cell_type": "code",
   "execution_count": 134,
   "metadata": {
    "collapsed": false
   },
   "outputs": [
    {
     "name": "stdout",
     "output_type": "stream",
     "text": [
      "+--------------------+----------------+------------------+\n",
      "|            features|calc_probability|           logloss|\n",
      "+--------------------+----------------+------------------+\n",
      "|(10,[3,8],[1.0,1.0])|             0.5|0.6931471805599451|\n",
      "|(10,[3,6,9],[1.0,...|             0.5|0.6931471805599451|\n",
      "|(10,[3,7,8],[1.0,...|             0.5|0.6931471805599451|\n",
      "|(10,[3,4,9],[1.0,...|             0.5|0.6931471805599451|\n",
      "|(10,[3,5,8],[1.0,...|             0.5|0.6931471805599451|\n",
      "|(10,[1,9],[1.0,1.0])|             0.5|0.6931471805599451|\n",
      "|(10,[1,7,8],[1.0,...|             0.5|0.6931471805599451|\n",
      "|(10,[1,4,9],[1.0,...|             0.5|0.6931471805599451|\n",
      "|(10,[1,5,8],[1.0,...|             0.5|0.6931471805599451|\n",
      "|(10,[1,6,9],[1.0,...|             0.5|0.6931471805599451|\n",
      "|(10,[2,8],[1.0,1.0])|             0.5|0.6931471805599451|\n",
      "|(10,[2,4,9],[1.0,...|             0.5|0.6931471805599451|\n",
      "|(10,[2,5,8],[1.0,...|             0.5|0.6931471805599451|\n",
      "|(10,[2,6,9],[1.0,...|             0.5|0.6931471805599451|\n",
      "|(10,[2,7,8],[1.0,...|             0.5|0.6931471805599451|\n",
      "|(10,[0,9],[1.0,1.0])|             0.5|0.6931471805599451|\n",
      "|(10,[0,5,8],[1.0,...|             0.5|0.6931471805599451|\n",
      "|(10,[0,6,9],[1.0,...|             0.5|0.6931471805599451|\n",
      "|(10,[0,7,8],[1.0,...|             0.5|0.6931471805599451|\n",
      "|(10,[0,4,9],[1.0,...|             0.5|0.6931471805599451|\n",
      "+--------------------+----------------+------------------+\n",
      "\n"
     ]
    }
   ],
   "source": [
    "mean_prob = transformed.select(mean(col('y'))).collect()[0]['avg(y)']\n",
    "transformed = transformed.withColumn('calc_probability', lit(mean_prob))\n",
    "transformed = transformed.withColumn('logloss', when(col('y') > 0.0, - log(col('calc_probability') + EPSILON))\\\n",
    "                                       .otherwise( - log(1.0 - col('calc_probability') + EPSILON)))\n",
    "transformed.select(['features', 'calc_probability', 'logloss']).show()"
   ]
  },
  {
   "cell_type": "markdown",
   "metadata": {},
   "source": [
    "### 2.1.6 Logistic Regression in Spark\n",
    "\n",
    "The batch error calculation shown in the numpy implementation above is an embarassingly parallelizable task in the Map-Reduce framework as it does not require communication with the master or the other worker nodes. In addition, the Broyden–Fletcher–Goldfarb–Shanno (BFGS) algorithm appriximates the Hessian matrix, thus allowing for an at scale implementation of the logistic regression model.\n",
    "\n",
    "The `MLlib` logistic regression implementation contains an elastic-net feature which allow a balance between L1 and L2 regularizations.\n",
    "\n",
    "Below we are setting the number of iterations and the classification threshold.\n",
    "\n",
    "Source: https://en.wikipedia.org/wiki/Broyden%E2%80%93Fletcher%E2%80%93Goldfarb%E2%80%93Shanno_algorithm"
   ]
  },
  {
   "cell_type": "code",
   "execution_count": 135,
   "metadata": {
    "collapsed": true,
    "jupyter": {
     "outputs_hidden": true
    }
   },
   "outputs": [],
   "source": [
    "lr = LogisticRegression(featuresCol = 'features',\n",
    "                        labelCol='y', \n",
    "                        maxIter = MAX_ITER,\n",
    "                        threshold = 0.5\n",
    "                        )\n",
    "\n",
    "\n",
    "lr_model_basic = lr.fit(transformed)"
   ]
  },
  {
   "cell_type": "code",
   "execution_count": 136,
   "metadata": {
    "collapsed": false
   },
   "outputs": [
    {
     "name": "stdout",
     "output_type": "stream",
     "text": [
      "+---+--------------------------+---+----------+---------------------+---------------------+\n",
      "|o1 |features                  |y  |prediction|calc_prob            |logloss              |\n",
      "+---+--------------------------+---+----------+---------------------+---------------------+\n",
      "|100|(10,[1,5,8],[1.0,1.0,1.0])|0  |0.0       |3.7594849521551885E-4|3.7601918156775124E-4|\n",
      "|100|(10,[1,6,9],[1.0,1.0,1.0])|0  |0.0       |3.7594849521529886E-4|3.7601918156752914E-4|\n",
      "|100|(10,[1,7,8],[1.0,1.0,1.0])|0  |0.0       |3.7594849521551885E-4|3.7601918156775124E-4|\n",
      "|100|(10,[1,4,9],[1.0,1.0,1.0])|0  |0.0       |3.7594849521529886E-4|3.7601918156752914E-4|\n",
      "|100|(10,[1,5,8],[1.0,1.0,1.0])|0  |0.0       |3.7594849521551885E-4|3.7601918156775124E-4|\n",
      "|2  |(10,[2,6,9],[1.0,1.0,1.0])|0  |1.0       |0.9996240515046126   |7.886058404309552    |\n",
      "|2  |(10,[2,7,8],[1.0,1.0,1.0])|0  |1.0       |0.9996240515046129   |7.886058404310143    |\n",
      "|2  |(10,[2,4,9],[1.0,1.0,1.0])|0  |1.0       |0.9996240515046126   |7.886058404309552    |\n",
      "|2  |(10,[2,5,8],[1.0,1.0,1.0])|0  |1.0       |0.9996240515046129   |7.886058404310143    |\n",
      "|2  |(10,[2,6,9],[1.0,1.0,1.0])|0  |1.0       |0.9996240515046126   |7.886058404309552    |\n",
      "|3  |(10,[3,7,8],[1.0,1.0,1.0])|1  |0.0       |3.759484952155349E-4 |7.886058404766589    |\n",
      "|3  |(10,[3,4,9],[1.0,1.0,1.0])|1  |0.0       |3.759484952153149E-4 |7.886058404767175    |\n",
      "|3  |(10,[3,5,8],[1.0,1.0,1.0])|1  |0.0       |3.759484952155349E-4 |7.886058404766589    |\n",
      "|3  |(10,[3,6,9],[1.0,1.0,1.0])|1  |0.0       |3.759484952153149E-4 |7.886058404767175    |\n",
      "|3  |(10,[3,7,8],[1.0,1.0,1.0])|1  |0.0       |3.759484952155349E-4 |7.886058404766589    |\n",
      "|4  |(10,[0,4,9],[1.0,1.0,1.0])|1  |1.0       |0.9996240515046126   |3.760191817396784E-4 |\n",
      "|4  |(10,[0,5,8],[1.0,1.0,1.0])|1  |1.0       |0.9996240515046129   |3.760191817394563E-4 |\n",
      "|4  |(10,[0,6,9],[1.0,1.0,1.0])|1  |1.0       |0.9996240515046126   |3.760191817396784E-4 |\n",
      "|4  |(10,[0,7,8],[1.0,1.0,1.0])|1  |1.0       |0.9996240515046129   |3.760191817394563E-4 |\n",
      "|4  |(10,[0,4,9],[1.0,1.0,1.0])|1  |1.0       |0.9996240515046126   |3.760191817396784E-4 |\n",
      "+---+--------------------------+---+----------+---------------------+---------------------+\n",
      "\n"
     ]
    }
   ],
   "source": [
    "def sigmoid(rawPrediction):\n",
    "    #apply affine transformation\n",
    "    return 1 / (1 + math.exp(- rawPrediction))\n",
    "\n",
    "def extract_from_vector(vec, i):\n",
    "    \"\"\" Input: VectorUDT data type\n",
    "        Output: float type at index (i)\n",
    "    \"\"\"\n",
    "    try:\n",
    "        return float(vec[i])\n",
    "    except ValueError:\n",
    "        return None\n",
    "\n",
    "#register UDFs    \n",
    "get_probability = udf(sigmoid, DoubleType())\n",
    "get_val = udf(extract_from_vector, DoubleType())\n",
    "\n",
    "#Get predictions on test data\n",
    "result = lr_model_basic.transform(test_features)\n",
    "\n",
    "#Apply affine transformation to the linear regression output\n",
    "result2 = result.withColumn('calc_prob', get_probability(get_val(\"rawPrediction\", lit(1))))\n",
    "# calculate log loss\n",
    "result3 = result2.withColumn('logloss', when(col('y') > 0.0, - log(col('calc_prob') + EPSILON))\\\n",
    "                                       .otherwise( - log(1.0 - col('calc_prob') + EPSILON)))\n",
    "\n",
    "\n",
    "result3.select(['o1', 'features', 'y', 'prediction','calc_prob', 'logloss']).show(truncate=False)"
   ]
  },
  {
   "cell_type": "code",
   "execution_count": 62,
   "metadata": {
    "collapsed": true,
    "jupyter": {
     "outputs_hidden": true
    }
   },
   "outputs": [],
   "source": [
    "#Extract feature names and indices from table metadata\n",
    "features = [x[\"name\"] for x in sorted(transformed.schema[\"features\"].metadata[\"ml_attr\"][\"attrs\"][\"binary\"], \n",
    "                                      key=lambda x: x[\"idx\"]\n",
    "                                     )]"
   ]
  },
  {
   "cell_type": "code",
   "execution_count": 66,
   "metadata": {
    "collapsed": false
   },
   "outputs": [
    {
     "name": "stdout",
     "output_type": "stream",
     "text": [
      "('o1v_4', 7.885682385303408)\n",
      "('o1v_2', -7.885682385410476)\n",
      "('o1v_3', 7.885682385303408)\n",
      "('o1v_1', -7.885682385410433)\n",
      "('cat2v_d', -5.272723327329144e-11)\n",
      "('cat2v_a', -5.2483678882973996e-11)\n",
      "('cat2v_b', -5.272723327329144e-11)\n",
      "('cat2v_c', -5.2483678882973996e-11)\n",
      "('cat3v_x', -8.011541632617964e-11)\n",
      "('cat3v_y', -8.045652764483514e-11)\n"
     ]
    }
   ],
   "source": [
    "coeff_lst = list(zip(features,lr_model_basic.coefficients))\n",
    "for coeff in coeff_lst:\n",
    "    print(coeff)"
   ]
  },
  {
   "cell_type": "markdown",
   "metadata": {},
   "source": [
    "# 2.2 Random Forest Exposition"
   ]
  },
  {
   "cell_type": "markdown",
   "metadata": {},
   "source": [
    "Random forests are an ensemble algorithm in which a number of decision trees are trained and then used for prediction in classification or regression. The decision trees are created on samples of the training data using a process called bootstrap aggregation or \"bagging\". Bagging works by sampling with replacement $B$ samples of size $n$ from a dataset $X$ giving datasets $X_i$ for $i \\in \\{1, ..., |B|\\}$. Each dataset $X_i$ is used to train its own decision tree, resulting in a total of $|B|$ decision trees. During inference, each tree in the ensemble receives a copy of the input and produces its own prediction. In the case of classification, the class with the most results is the final prediction. For regression, the predictions are averaged to produce a single prediction."
   ]
  },
  {
   "cell_type": "markdown",
   "metadata": {},
   "source": [
    "#### Random Forest - Toy Example"
   ]
  },
  {
   "cell_type": "markdown",
   "metadata": {},
   "source": [
    "We will use the same toy dataset above but will not drop columns as we did with logistic regression since random forests are not impacted by multicollinearity.\n",
    "\n",
    "First we create the train and test datasets and create dummy variables for the categorical columns. We opt to not treat ordinal columns as categorical columns, but rather, to keep them as numeric types by passing `convert_ordinal=False`."
   ]
  },
  {
   "cell_type": "code",
   "execution_count": 99,
   "metadata": {
    "collapsed": false
   },
   "outputs": [
    {
     "data": {
      "text/html": [
       "<div>\n",
       "<style scoped>\n",
       "    .dataframe tbody tr th:only-of-type {\n",
       "        vertical-align: middle;\n",
       "    }\n",
       "\n",
       "    .dataframe tbody tr th {\n",
       "        vertical-align: top;\n",
       "    }\n",
       "\n",
       "    .dataframe thead th {\n",
       "        text-align: right;\n",
       "    }\n",
       "</style>\n",
       "<table border=\"1\" class=\"dataframe\">\n",
       "  <thead>\n",
       "    <tr style=\"text-align: right;\">\n",
       "      <th></th>\n",
       "      <th>o1</th>\n",
       "      <th>c2_</th>\n",
       "      <th>c2_a</th>\n",
       "      <th>c2_b</th>\n",
       "      <th>c2_c</th>\n",
       "      <th>c2_d</th>\n",
       "      <th>c3_x</th>\n",
       "      <th>c3_y</th>\n",
       "    </tr>\n",
       "  </thead>\n",
       "  <tbody>\n",
       "    <tr>\n",
       "      <th>6</th>\n",
       "      <td>2</td>\n",
       "      <td>0</td>\n",
       "      <td>0</td>\n",
       "      <td>0</td>\n",
       "      <td>1</td>\n",
       "      <td>0</td>\n",
       "      <td>1</td>\n",
       "      <td>0</td>\n",
       "    </tr>\n",
       "    <tr>\n",
       "      <th>2</th>\n",
       "      <td>1</td>\n",
       "      <td>0</td>\n",
       "      <td>0</td>\n",
       "      <td>0</td>\n",
       "      <td>1</td>\n",
       "      <td>0</td>\n",
       "      <td>1</td>\n",
       "      <td>0</td>\n",
       "    </tr>\n",
       "    <tr>\n",
       "      <th>4</th>\n",
       "      <td>1</td>\n",
       "      <td>0</td>\n",
       "      <td>1</td>\n",
       "      <td>0</td>\n",
       "      <td>0</td>\n",
       "      <td>0</td>\n",
       "      <td>1</td>\n",
       "      <td>0</td>\n",
       "    </tr>\n",
       "    <tr>\n",
       "      <th>8</th>\n",
       "      <td>2</td>\n",
       "      <td>0</td>\n",
       "      <td>1</td>\n",
       "      <td>0</td>\n",
       "      <td>0</td>\n",
       "      <td>0</td>\n",
       "      <td>1</td>\n",
       "      <td>0</td>\n",
       "    </tr>\n",
       "    <tr>\n",
       "      <th>17</th>\n",
       "      <td>4</td>\n",
       "      <td>0</td>\n",
       "      <td>0</td>\n",
       "      <td>1</td>\n",
       "      <td>0</td>\n",
       "      <td>0</td>\n",
       "      <td>0</td>\n",
       "      <td>1</td>\n",
       "    </tr>\n",
       "  </tbody>\n",
       "</table>\n",
       "</div>"
      ],
      "text/plain": [
       "    o1  c2_  c2_a  c2_b  c2_c  c2_d  c3_x  c3_y\n",
       "6    2    0     0     0     1     0     1     0\n",
       "2    1    0     0     0     1     0     1     0\n",
       "4    1    0     1     0     0     0     1     0\n",
       "8    2    0     1     0     0     0     1     0\n",
       "17   4    0     0     1     0     0     0     1"
      ]
     },
     "execution_count": 99,
     "metadata": {},
     "output_type": "execute_result"
    }
   ],
   "source": [
    "# create training data from dataframe\n",
    "df, df_test = create_toy_dataset(N, D, convert_ordinal=False)\n",
    "\n",
    "X = pd.get_dummies(df.drop(columns=['y']))\n",
    "X.sample(5).head()"
   ]
  },
  {
   "cell_type": "code",
   "execution_count": 100,
   "metadata": {
    "collapsed": false
   },
   "outputs": [
    {
     "data": {
      "text/plain": [
       "(20, 1)"
      ]
     },
     "execution_count": 100,
     "metadata": {},
     "output_type": "execute_result"
    }
   ],
   "source": [
    "y = pd.DataFrame(df.y)\n",
    "y = y.astype('int')\n",
    "y.shape"
   ]
  },
  {
   "cell_type": "markdown",
   "metadata": {},
   "source": [
    "Next, we train the RandomForestClassifier using scikit-learn. For the toy example we only use 5 trees with a depth of 2. After training, we print the features in order of importance as determined by the algorithm."
   ]
  },
  {
   "cell_type": "code",
   "execution_count": 101,
   "metadata": {
    "collapsed": false
   },
   "outputs": [
    {
     "data": {
      "text/html": [
       "<div>\n",
       "<style scoped>\n",
       "    .dataframe tbody tr th:only-of-type {\n",
       "        vertical-align: middle;\n",
       "    }\n",
       "\n",
       "    .dataframe tbody tr th {\n",
       "        vertical-align: top;\n",
       "    }\n",
       "\n",
       "    .dataframe thead th {\n",
       "        text-align: right;\n",
       "    }\n",
       "</style>\n",
       "<table border=\"1\" class=\"dataframe\">\n",
       "  <thead>\n",
       "    <tr style=\"text-align: right;\">\n",
       "      <th></th>\n",
       "      <th>feature</th>\n",
       "      <th>importance</th>\n",
       "    </tr>\n",
       "  </thead>\n",
       "  <tbody>\n",
       "    <tr>\n",
       "      <th>0</th>\n",
       "      <td>o1</td>\n",
       "      <td>0.814249</td>\n",
       "    </tr>\n",
       "    <tr>\n",
       "      <th>1</th>\n",
       "      <td>c2_d</td>\n",
       "      <td>0.078795</td>\n",
       "    </tr>\n",
       "    <tr>\n",
       "      <th>2</th>\n",
       "      <td>c2_b</td>\n",
       "      <td>0.073215</td>\n",
       "    </tr>\n",
       "    <tr>\n",
       "      <th>3</th>\n",
       "      <td>c2_c</td>\n",
       "      <td>0.033741</td>\n",
       "    </tr>\n",
       "    <tr>\n",
       "      <th>4</th>\n",
       "      <td>c3_y</td>\n",
       "      <td>0.000000</td>\n",
       "    </tr>\n",
       "    <tr>\n",
       "      <th>5</th>\n",
       "      <td>c3_x</td>\n",
       "      <td>0.000000</td>\n",
       "    </tr>\n",
       "    <tr>\n",
       "      <th>6</th>\n",
       "      <td>c2_a</td>\n",
       "      <td>0.000000</td>\n",
       "    </tr>\n",
       "    <tr>\n",
       "      <th>7</th>\n",
       "      <td>c2_</td>\n",
       "      <td>0.000000</td>\n",
       "    </tr>\n",
       "  </tbody>\n",
       "</table>\n",
       "</div>"
      ],
      "text/plain": [
       "  feature  importance\n",
       "0      o1    0.814249\n",
       "1    c2_d    0.078795\n",
       "2    c2_b    0.073215\n",
       "3    c2_c    0.033741\n",
       "4    c3_y    0.000000\n",
       "5    c3_x    0.000000\n",
       "6    c2_a    0.000000\n",
       "7     c2_    0.000000"
      ]
     },
     "execution_count": 101,
     "metadata": {},
     "output_type": "execute_result"
    }
   ],
   "source": [
    "from sklearn.ensemble import RandomForestClassifier\n",
    "\n",
    "# train the classifier\n",
    "rfc = RandomForestClassifier(max_depth=2, n_estimators=5, random_state=0)\n",
    "rfc.fit(X, y)\n",
    "\n",
    "# print importance of features in order of importance\n",
    "important_features = [idx for idx in np.argsort(rfc.feature_importances_)[::-1]]\n",
    "feature_names = [X.columns[idx] for idx in important_features]\n",
    "importances = [rfc.feature_importances_[idx] for idx in important_features]\n",
    "\n",
    "pd.DataFrame({\n",
    "    'feature': feature_names,\n",
    "    'importance': importances\n",
    "})"
   ]
  },
  {
   "cell_type": "markdown",
   "metadata": {},
   "source": [
    "#### Random Forest in PySpark - Toy Example"
   ]
  },
  {
   "cell_type": "markdown",
   "metadata": {},
   "source": [
    "Using the same toy dataset we will train a random forest classifier using PySpark.\n",
    "\n",
    "We begin by loading the data into PySpark dataframes."
   ]
  },
  {
   "cell_type": "code",
   "execution_count": 104,
   "metadata": {
    "collapsed": false
   },
   "outputs": [
    {
     "name": "stdout",
     "output_type": "stream",
     "text": [
      "+---+---+----+----+\n",
      "|  y| o1|cat2|cat3|\n",
      "+---+---+----+----+\n",
      "|  0|  1|null|   x|\n",
      "|  0|  1|   b|   y|\n",
      "|  0|  1|   c|   x|\n",
      "|  0|  1|   d|   y|\n",
      "|  0|  1|   a|   x|\n",
      "|  0|  2|null|   y|\n",
      "|  0|  2|   c|   x|\n",
      "|  0|  2|   d|   y|\n",
      "|  0|  2|   a|   x|\n",
      "|  0|  2|   b|   y|\n",
      "|  1|  3|null|   x|\n",
      "|  1|  3|   d|   y|\n",
      "|  1|  3|   a|   x|\n",
      "|  1|  3|   b|   y|\n",
      "|  1|  3|   c|   x|\n",
      "|  1|  4|null|   y|\n",
      "|  1|  4|   a|   x|\n",
      "|  1|  4|   b|   y|\n",
      "|  1|  4|   c|   x|\n",
      "|  1|  4|   d|   y|\n",
      "+---+---+----+----+\n",
      "\n"
     ]
    }
   ],
   "source": [
    "df, df_test = load_pyspark_dataframes()\n",
    "df.show()"
   ]
  },
  {
   "cell_type": "markdown",
   "metadata": {},
   "source": [
    "Next, we perform one hot encoding of the categorical variables and vectorize all the resulting feature columns into a single vector column. We do this for the test and train datasets."
   ]
  },
  {
   "cell_type": "code",
   "execution_count": 121,
   "metadata": {
    "collapsed": false
   },
   "outputs": [
    {
     "name": "stdout",
     "output_type": "stream",
     "text": [
      "+---+---+----+----+---------+---------+-------------+-------------+--------------------+\n",
      "|  y| o1|cat2|cat3|cat2_Indx|cat3_Indx|        cat2v|        cat3v|            features|\n",
      "+---+---+----+----+---------+---------+-------------+-------------+--------------------+\n",
      "|  0|  1|null|   x|      4.0|      0.0|    (4,[],[])|(2,[0],[1.0])| (7,[0,5],[1.0,1.0])|\n",
      "|  0|  1|   b|   y|      2.0|      1.0|(4,[2],[1.0])|(2,[1],[1.0])|(7,[0,3,6],[1.0,1...|\n",
      "|  0|  1|   c|   x|      3.0|      0.0|(4,[3],[1.0])|(2,[0],[1.0])|(7,[0,4,5],[1.0,1...|\n",
      "|  0|  1|   d|   y|      0.0|      1.0|(4,[0],[1.0])|(2,[1],[1.0])|(7,[0,1,6],[1.0,1...|\n",
      "|  0|  1|   a|   x|      1.0|      0.0|(4,[1],[1.0])|(2,[0],[1.0])|(7,[0,2,5],[1.0,1...|\n",
      "|  0|  2|null|   y|      4.0|      1.0|    (4,[],[])|(2,[1],[1.0])| (7,[0,6],[2.0,1.0])|\n",
      "|  0|  2|   c|   x|      3.0|      0.0|(4,[3],[1.0])|(2,[0],[1.0])|(7,[0,4,5],[2.0,1...|\n",
      "|  0|  2|   d|   y|      0.0|      1.0|(4,[0],[1.0])|(2,[1],[1.0])|(7,[0,1,6],[2.0,1...|\n",
      "|  0|  2|   a|   x|      1.0|      0.0|(4,[1],[1.0])|(2,[0],[1.0])|(7,[0,2,5],[2.0,1...|\n",
      "|  0|  2|   b|   y|      2.0|      1.0|(4,[2],[1.0])|(2,[1],[1.0])|(7,[0,3,6],[2.0,1...|\n",
      "|  1|  3|null|   x|      4.0|      0.0|    (4,[],[])|(2,[0],[1.0])| (7,[0,5],[3.0,1.0])|\n",
      "|  1|  3|   d|   y|      0.0|      1.0|(4,[0],[1.0])|(2,[1],[1.0])|(7,[0,1,6],[3.0,1...|\n",
      "|  1|  3|   a|   x|      1.0|      0.0|(4,[1],[1.0])|(2,[0],[1.0])|(7,[0,2,5],[3.0,1...|\n",
      "|  1|  3|   b|   y|      2.0|      1.0|(4,[2],[1.0])|(2,[1],[1.0])|(7,[0,3,6],[3.0,1...|\n",
      "|  1|  3|   c|   x|      3.0|      0.0|(4,[3],[1.0])|(2,[0],[1.0])|(7,[0,4,5],[3.0,1...|\n",
      "|  1|  4|null|   y|      4.0|      1.0|    (4,[],[])|(2,[1],[1.0])| (7,[0,6],[4.0,1.0])|\n",
      "|  1|  4|   a|   x|      1.0|      0.0|(4,[1],[1.0])|(2,[0],[1.0])|(7,[0,2,5],[4.0,1...|\n",
      "|  1|  4|   b|   y|      2.0|      1.0|(4,[2],[1.0])|(2,[1],[1.0])|(7,[0,3,6],[4.0,1...|\n",
      "|  1|  4|   c|   x|      3.0|      0.0|(4,[3],[1.0])|(2,[0],[1.0])|(7,[0,4,5],[4.0,1...|\n",
      "|  1|  4|   d|   y|      0.0|      1.0|(4,[0],[1.0])|(2,[1],[1.0])|(7,[0,1,6],[4.0,1...|\n",
      "+---+---+----+----+---------+---------+-------------+-------------+--------------------+\n",
      "\n"
     ]
    }
   ],
   "source": [
    "# perform transformations to one hot encode categorical features and vectorize\n",
    "numeric_cols = ['o1']\n",
    "cat_cols = ['cat2', 'cat3']\n",
    "cat_vecs = ['cat2v', 'cat3v']\n",
    "\n",
    "indexers = [StringIndexer(inputCol= c, \n",
    "                         outputCol=\"{0}_Indx\".format(c), \n",
    "                         handleInvalid=\"keep\") \n",
    "           for c in cat_cols]\n",
    "\n",
    "encoder = OneHotEncoderEstimator(inputCols = [indexer.getOutputCol() for indexer in indexers], \n",
    "                                  outputCols = cat_vecs, \n",
    "                                  dropLast = True)\n",
    "\n",
    "assembler = VectorAssembler(inputCols=numeric_cols + encoder.getOutputCols(), \n",
    "                           outputCol = 'features')\n",
    "\n",
    "        \n",
    "pipeline = Pipeline(stages = indexers + [encoder] + [assembler])\n",
    "model = pipeline.fit(df)\n",
    "transformed = model.transform(df)\n",
    "transformed.show(truncate=True)\n",
    "\n",
    "test_features = pipeline.fit(df_test).transform(df_test)"
   ]
  },
  {
   "cell_type": "markdown",
   "metadata": {},
   "source": [
    "We take the vectorized dataset and train the classifier by minimizing the log loss."
   ]
  },
  {
   "cell_type": "code",
   "execution_count": 122,
   "metadata": {
    "collapsed": false
   },
   "outputs": [
    {
     "name": "stdout",
     "output_type": "stream",
     "text": [
      "Log loss:  2.3471555302466234\n"
     ]
    }
   ],
   "source": [
    "import math\n",
    "from pyspark.ml.classification import RandomForestClassifier\n",
    "\n",
    "# define UDF for calculating log loss\n",
    "def log_loss(actual, predicted, epsilon=1e-15):\n",
    "    acutal = int(actual)\n",
    "    predicted = predicted[0]  # class 0\n",
    "\n",
    "    # clip value between [epsion, 1-epsilon]\n",
    "    predicted = max(predicted, epsilon)\n",
    "    predicted = min(predicted, 1-epsilon)\n",
    "\n",
    "    if actual == 1:\n",
    "        return -math.log(predicted)\n",
    "    else:\n",
    "        return -math.log(1 - predicted)\n",
    "    \n",
    "\n",
    "# register UDF\n",
    "spark.udf.register('log_loss', log_loss, DoubleType())\n",
    "log_loss_udf = udf(log_loss, DoubleType())\n",
    "\n",
    "# create and train random forest\n",
    "rf = RandomForestClassifier(featuresCol='features', labelCol='y', numTrees=5, maxDepth=2)\n",
    "rfModel = rf.fit(transformed)\n",
    "rfPredictions = rfModel.transform(test_features)\n",
    "rfPredictions = rfPredictions.select('y',\n",
    "                                     'prediction',\n",
    "                                     'rawPrediction',\n",
    "                                     'probability',\n",
    "                                     log_loss_udf('y', 'probability').alias('log_loss')).\\\n",
    "    cache()\n",
    "\n",
    "# display log loss\n",
    "print('Log loss: ', rfPredictions.groupBy().mean('log_loss').collect()[0]['avg(log_loss)'])"
   ]
  },
  {
   "cell_type": "markdown",
   "metadata": {},
   "source": [
    "We then list the features in order of importance as determined by the trained classifier."
   ]
  },
  {
   "cell_type": "code",
   "execution_count": 123,
   "metadata": {
    "collapsed": false
   },
   "outputs": [
    {
     "data": {
      "text/html": [
       "<div>\n",
       "<style scoped>\n",
       "    .dataframe tbody tr th:only-of-type {\n",
       "        vertical-align: middle;\n",
       "    }\n",
       "\n",
       "    .dataframe tbody tr th {\n",
       "        vertical-align: top;\n",
       "    }\n",
       "\n",
       "    .dataframe thead th {\n",
       "        text-align: right;\n",
       "    }\n",
       "</style>\n",
       "<table border=\"1\" class=\"dataframe\">\n",
       "  <thead>\n",
       "    <tr style=\"text-align: right;\">\n",
       "      <th></th>\n",
       "      <th>idx</th>\n",
       "      <th>name</th>\n",
       "      <th>score</th>\n",
       "    </tr>\n",
       "  </thead>\n",
       "  <tbody>\n",
       "    <tr>\n",
       "      <th>0</th>\n",
       "      <td>0</td>\n",
       "      <td>o1</td>\n",
       "      <td>0.800000</td>\n",
       "    </tr>\n",
       "    <tr>\n",
       "      <th>6</th>\n",
       "      <td>6</td>\n",
       "      <td>cat3v_y</td>\n",
       "      <td>0.187325</td>\n",
       "    </tr>\n",
       "    <tr>\n",
       "      <th>2</th>\n",
       "      <td>2</td>\n",
       "      <td>cat2v_a</td>\n",
       "      <td>0.012675</td>\n",
       "    </tr>\n",
       "    <tr>\n",
       "      <th>1</th>\n",
       "      <td>1</td>\n",
       "      <td>cat2v_d</td>\n",
       "      <td>0.000000</td>\n",
       "    </tr>\n",
       "    <tr>\n",
       "      <th>3</th>\n",
       "      <td>3</td>\n",
       "      <td>cat2v_b</td>\n",
       "      <td>0.000000</td>\n",
       "    </tr>\n",
       "    <tr>\n",
       "      <th>4</th>\n",
       "      <td>4</td>\n",
       "      <td>cat2v_c</td>\n",
       "      <td>0.000000</td>\n",
       "    </tr>\n",
       "    <tr>\n",
       "      <th>5</th>\n",
       "      <td>5</td>\n",
       "      <td>cat3v_x</td>\n",
       "      <td>0.000000</td>\n",
       "    </tr>\n",
       "  </tbody>\n",
       "</table>\n",
       "</div>"
      ],
      "text/plain": [
       "   idx     name     score\n",
       "0    0       o1  0.800000\n",
       "6    6  cat3v_y  0.187325\n",
       "2    2  cat2v_a  0.012675\n",
       "1    1  cat2v_d  0.000000\n",
       "3    3  cat2v_b  0.000000\n",
       "4    4  cat2v_c  0.000000\n",
       "5    5  cat3v_x  0.000000"
      ]
     },
     "execution_count": 123,
     "metadata": {},
     "output_type": "execute_result"
    }
   ],
   "source": [
    "def list_feature_importances(importances, df, featureCol='features'):\n",
    "    list_extract = []\n",
    "    for i in df.schema[featureCol].metadata[\"ml_attr\"][\"attrs\"]:\n",
    "        list_extract = list_extract + df.schema[featureCol].metadata[\"ml_attr\"][\"attrs\"][i]\n",
    "    varlist = pd.DataFrame(list_extract)\n",
    "    varlist['score'] = varlist['idx'].apply(lambda x: None if x >= len(importances) else importances[x])\n",
    "    \n",
    "    return varlist.sort_values('score', ascending = False)\n",
    "\n",
    "# list important features in descending order\n",
    "list_feature_importances(rfModel.featureImportances, transformed)"
   ]
  },
  {
   "cell_type": "markdown",
   "metadata": {},
   "source": [
    "# Section 3. EDA & Discussion of Challenges"
   ]
  },
  {
   "cell_type": "markdown",
   "metadata": {},
   "source": [
    "Determine 2-3 relevant EDA tasks that will help you make decisions about how you implement the algorithm to be scalable. Discuss any challenges that you anticipate based on the EDA you perform."
   ]
  },
  {
   "cell_type": "markdown",
   "metadata": {},
   "source": [
    "#### The EDA comprises the following tasks:\n",
    "- Understanding the data structure and composition of the features in the dataset.\n",
    "- Plotting the target and numerical variables to understand their distributions in order to make decisions about the type of transformations required. \n",
    "    - For instance, if numerical variables are ordinal in nature, performing appropriate bucketing of the variables or one-hot encoding to ensure each value is captured in the data for analysis.\n",
    "- Displaying the distribution of the categorical variables to understand their distributions in order to make decision about the bucketing or one-hot encoding required."
   ]
  },
  {
   "cell_type": "markdown",
   "metadata": {},
   "source": [
    "#### Dataset subsetting\n",
    "\n",
    "Given the large size of the raw text data (over 11GB), the `train.txt` was split into smaller representative parts. This splitting of the raw data was thought to work well to understand the characteristics of the data required for the exploratory data analysis and enable the algorithm to work at scale. For this analysis in particular, we analyzed a dataframe from a parquet partition on 0.1% random sample of the raw data."
   ]
  },
  {
   "cell_type": "markdown",
   "metadata": {},
   "source": [
    "First, we assess the data structure, data types and non-null values for each feature"
   ]
  },
  {
   "cell_type": "code",
   "execution_count": 18,
   "metadata": {
    "collapsed": false
   },
   "outputs": [
    {
     "name": "stdout",
     "output_type": "stream",
     "text": [
      "<class 'pandas.core.frame.DataFrame'>\n",
      "RangeIndex: 17247 entries, 0 to 17246\n",
      "Data columns (total 40 columns):\n",
      "y        17247 non-null int32\n",
      "n1       9653 non-null float64\n",
      "n2       17247 non-null int32\n",
      "n3       13501 non-null float64\n",
      "n4       13458 non-null float64\n",
      "n5       16792 non-null float64\n",
      "n6       13314 non-null float64\n",
      "n7       16436 non-null float64\n",
      "n8       17233 non-null float64\n",
      "n9       16436 non-null float64\n",
      "n10      9653 non-null float64\n",
      "n11      16436 non-null float64\n",
      "n12      3965 non-null float64\n",
      "n13      13458 non-null float64\n",
      "cat14    17247 non-null object\n",
      "cat15    17247 non-null object\n",
      "cat16    16666 non-null object\n",
      "cat17    16666 non-null object\n",
      "cat18    17247 non-null object\n",
      "cat19    15022 non-null object\n",
      "cat20    17247 non-null object\n",
      "cat21    17247 non-null object\n",
      "cat22    17247 non-null object\n",
      "cat23    17247 non-null object\n",
      "cat24    17247 non-null object\n",
      "cat25    16666 non-null object\n",
      "cat26    17247 non-null object\n",
      "cat27    17247 non-null object\n",
      "cat28    17247 non-null object\n",
      "cat29    16666 non-null object\n",
      "cat30    17247 non-null object\n",
      "cat31    17247 non-null object\n",
      "cat32    9734 non-null object\n",
      "cat33    9734 non-null object\n",
      "cat34    16666 non-null object\n",
      "cat35    3949 non-null object\n",
      "cat36    17247 non-null object\n",
      "cat37    16666 non-null object\n",
      "cat38    9734 non-null object\n",
      "cat39    9734 non-null object\n",
      "dtypes: float64(12), int32(2), object(26)\n",
      "memory usage: 5.1+ MB\n"
     ]
    }
   ],
   "source": [
    "df_sample.info()"
   ]
  },
  {
   "cell_type": "markdown",
   "metadata": {},
   "source": [
    "## 3.1 EDA - Sparseness of features (null values)"
   ]
  },
  {
   "cell_type": "markdown",
   "metadata": {},
   "source": [
    "We observe the number of null values for each feature to assess sparseness"
   ]
  },
  {
   "cell_type": "code",
   "execution_count": 11,
   "metadata": {
    "collapsed": false
   },
   "outputs": [
    {
     "name": "stdout",
     "output_type": "stream",
     "text": [
      "Feature\t| Null values\t| Null Values as a Percent of Total\n",
      "====================================================================================================\n",
      " y\t|      0\t| 0.000000\n",
      " n1\t|   7594\t| 44.030846\n",
      " n2\t|      0\t| 0.000000\n",
      " n3\t|   3746\t| 21.719719\n",
      " n4\t|   3789\t| 21.969038\n",
      " n5\t|    455\t| 2.638140\n",
      " n6\t|   3933\t| 22.803966\n",
      " n7\t|    811\t| 4.702267\n",
      " n8\t|     14\t| 0.081174\n",
      " n9\t|    811\t| 4.702267\n",
      " n10\t|   7594\t| 44.030846\n",
      " n11\t|    811\t| 4.702267\n",
      " n12\t|  13282\t| 77.010495\n",
      " n13\t|   3789\t| 21.969038\n",
      " cat14\t|      0\t| 0.000000\n",
      " cat15\t|      0\t| 0.000000\n",
      " cat16\t|    581\t| 3.368702\n",
      " cat17\t|    581\t| 3.368702\n",
      " cat18\t|      0\t| 0.000000\n",
      " cat19\t|   2225\t| 12.900794\n",
      " cat20\t|      0\t| 0.000000\n",
      " cat21\t|      0\t| 0.000000\n",
      " cat22\t|      0\t| 0.000000\n",
      " cat23\t|      0\t| 0.000000\n",
      " cat24\t|      0\t| 0.000000\n",
      " cat25\t|    581\t| 3.368702\n",
      " cat26\t|      0\t| 0.000000\n",
      " cat27\t|      0\t| 0.000000\n",
      " cat28\t|      0\t| 0.000000\n",
      " cat29\t|    581\t| 3.368702\n",
      " cat30\t|      0\t| 0.000000\n",
      " cat31\t|      0\t| 0.000000\n",
      " cat32\t|   7513\t| 43.561199\n",
      " cat33\t|   7513\t| 43.561199\n",
      " cat34\t|    581\t| 3.368702\n",
      " cat35\t|  13298\t| 77.103264\n",
      " cat36\t|      0\t| 0.000000\n",
      " cat37\t|    581\t| 3.368702\n",
      " cat38\t|   7513\t| 43.561199\n",
      " cat39\t|   7513\t| 43.561199\n"
     ]
    }
   ],
   "source": [
    "# Number of null values for each feature and percentage of null values for each feature\n",
    "print(\"{}\\t| {:10s}\\t| {:10s}\".format(\"Feature\",\"Null values\",\"Null Values as a Percent of Total\"))\n",
    "print(\"=\"*100)\n",
    "for col in df_sample.columns:\n",
    "    null_values = df_sample[col].isnull().sum(axis=0)\n",
    "    null_values_pct = df_sample[col].isnull().sum(axis=0)/len(df_sample) * 100\n",
    "    print(\" {}\\t| {:6d}\\t| {:6f}\".format(str(col),null_values,null_values_pct))"
   ]
  },
  {
   "cell_type": "markdown",
   "metadata": {},
   "source": [
    "We observe that there are several features with a large percentage of null values. Particularly, the features: `n1`, `n3`, `n4`, `n6`, `n10`, `n12`, `n13`, `cat32`, `cat33`, `cat35`, `cat38` and `cat39` each have over 20% of their values being null. We will have to make analytical choices about how we treat these null values."
   ]
  },
  {
   "cell_type": "markdown",
   "metadata": {},
   "source": [
    "## 3.2 EDA - Imbalance in target label"
   ]
  },
  {
   "cell_type": "markdown",
   "metadata": {},
   "source": [
    "Next, we assess the label values to observe class imbalance. This may affect the behavior of tree algorithms in particular and is treated in Section 4.3.2 in the discussion of training of the random forest algorithm."
   ]
  },
  {
   "cell_type": "code",
   "execution_count": 20,
   "metadata": {
    "collapsed": false
   },
   "outputs": [
    {
     "data": {
      "text/plain": [
       "0    13049\n",
       "1     4198\n",
       "Name: y, dtype: int64"
      ]
     },
     "execution_count": 20,
     "metadata": {},
     "output_type": "execute_result"
    }
   ],
   "source": [
    "# Assess label categories\n",
    "df_sample.y.value_counts(dropna=False)"
   ]
  },
  {
   "cell_type": "code",
   "execution_count": 21,
   "metadata": {
    "collapsed": false
   },
   "outputs": [
    {
     "data": {
      "text/plain": [
       "0    0.756595\n",
       "1    0.243405\n",
       "Name: y, dtype: float64"
      ]
     },
     "execution_count": 21,
     "metadata": {},
     "output_type": "execute_result"
    }
   ],
   "source": [
    "# Assess percentage of label categories\n",
    "df_sample.y.value_counts(dropna=False)/len(df_sample)"
   ]
  },
  {
   "cell_type": "code",
   "execution_count": 22,
   "metadata": {
    "collapsed": false
   },
   "outputs": [
    {
     "data": {
      "image/png": "[encoded data removed]",
      "text/plain": [
       "<Figure size 432x288 with 1 Axes>"
      ]
     },
     "metadata": {},
     "output_type": "display_data"
    }
   ],
   "source": [
    "# plot distribution of label counts\n",
    "sns.set(style=\"whitegrid\")\n",
    "ax = sns.countplot(x=\"y\", data=df_sample)\n",
    "ax.set(title=\"Label counts\")\n",
    "plt.show()"
   ]
  },
  {
   "cell_type": "markdown",
   "metadata": {},
   "source": [
    "We observe that `y` target values equal to 0 are dominant, corresponding to around three-quarters of the dataset labels. "
   ]
  },
  {
   "cell_type": "markdown",
   "metadata": {},
   "source": [
    "## 3.3 EDA - Mean and median values with respect to target label categories"
   ]
  },
  {
   "cell_type": "markdown",
   "metadata": {},
   "source": [
    "Here, we explore mean values of numeric variables with respect to label target categories. This is important for creating recursive partitions of regions into homogeneous zones in tree-based algorithms."
   ]
  },
  {
   "cell_type": "code",
   "execution_count": 23,
   "metadata": {
    "collapsed": false
   },
   "outputs": [
    {
     "data": {
      "text/html": [
       "<div>\n",
       "<style scoped>\n",
       "    .dataframe tbody tr th:only-of-type {\n",
       "        vertical-align: middle;\n",
       "    }\n",
       "\n",
       "    .dataframe tbody tr th {\n",
       "        vertical-align: top;\n",
       "    }\n",
       "\n",
       "    .dataframe thead th {\n",
       "        text-align: right;\n",
       "    }\n",
       "</style>\n",
       "<table border=\"1\" class=\"dataframe\">\n",
       "  <thead>\n",
       "    <tr style=\"text-align: right;\">\n",
       "      <th></th>\n",
       "      <th>n1</th>\n",
       "      <th>n2</th>\n",
       "      <th>n3</th>\n",
       "      <th>n4</th>\n",
       "      <th>n5</th>\n",
       "      <th>n6</th>\n",
       "      <th>n7</th>\n",
       "      <th>n8</th>\n",
       "      <th>n9</th>\n",
       "      <th>n10</th>\n",
       "      <th>n11</th>\n",
       "      <th>n12</th>\n",
       "      <th>n13</th>\n",
       "    </tr>\n",
       "    <tr>\n",
       "      <th>y</th>\n",
       "      <th></th>\n",
       "      <th></th>\n",
       "      <th></th>\n",
       "      <th></th>\n",
       "      <th></th>\n",
       "      <th></th>\n",
       "      <th></th>\n",
       "      <th></th>\n",
       "      <th></th>\n",
       "      <th></th>\n",
       "      <th></th>\n",
       "      <th></th>\n",
       "      <th></th>\n",
       "    </tr>\n",
       "  </thead>\n",
       "  <tbody>\n",
       "    <tr>\n",
       "      <th>0</th>\n",
       "      <td>3.054829</td>\n",
       "      <td>99.360181</td>\n",
       "      <td>21.275617</td>\n",
       "      <td>7.656509</td>\n",
       "      <td>22992.466445</td>\n",
       "      <td>133.619206</td>\n",
       "      <td>12.037010</td>\n",
       "      <td>12.884176</td>\n",
       "      <td>102.645692</td>\n",
       "      <td>0.552403</td>\n",
       "      <td>2.152494</td>\n",
       "      <td>0.477289</td>\n",
       "      <td>8.985493</td>\n",
       "    </tr>\n",
       "    <tr>\n",
       "      <th>1</th>\n",
       "      <td>4.858596</td>\n",
       "      <td>139.142449</td>\n",
       "      <td>31.775907</td>\n",
       "      <td>6.466897</td>\n",
       "      <td>9293.685274</td>\n",
       "      <td>64.965527</td>\n",
       "      <td>24.526908</td>\n",
       "      <td>12.146092</td>\n",
       "      <td>110.876712</td>\n",
       "      <td>0.810877</td>\n",
       "      <td>3.992172</td>\n",
       "      <td>1.482321</td>\n",
       "      <td>6.056479</td>\n",
       "    </tr>\n",
       "  </tbody>\n",
       "</table>\n",
       "</div>"
      ],
      "text/plain": [
       "         n1          n2         n3        n4            n5          n6  \\\n",
       "y                                                                        \n",
       "0  3.054829   99.360181  21.275617  7.656509  22992.466445  133.619206   \n",
       "1  4.858596  139.142449  31.775907  6.466897   9293.685274   64.965527   \n",
       "\n",
       "          n7         n8          n9       n10       n11       n12       n13  \n",
       "y                                                                            \n",
       "0  12.037010  12.884176  102.645692  0.552403  2.152494  0.477289  8.985493  \n",
       "1  24.526908  12.146092  110.876712  0.810877  3.992172  1.482321  6.056479  "
      ]
     },
     "execution_count": 23,
     "metadata": {},
     "output_type": "execute_result"
    }
   ],
   "source": [
    "df_sample.groupby(df_sample.y)['n1', 'n2', 'n3', 'n4', 'n5', 'n6', 'n7', 'n8', 'n9', 'n10',\n",
    "                               'n11', 'n12', 'n13'].mean()"
   ]
  },
  {
   "cell_type": "markdown",
   "metadata": {},
   "source": [
    "Explore median values of numeric variables with respect to label target categories. This may allow us to more evenly split the numeric variables."
   ]
  },
  {
   "cell_type": "code",
   "execution_count": 24,
   "metadata": {
    "collapsed": false
   },
   "outputs": [
    {
     "data": {
      "text/html": [
       "<div>\n",
       "<style scoped>\n",
       "    .dataframe tbody tr th:only-of-type {\n",
       "        vertical-align: middle;\n",
       "    }\n",
       "\n",
       "    .dataframe tbody tr th {\n",
       "        vertical-align: top;\n",
       "    }\n",
       "\n",
       "    .dataframe thead th {\n",
       "        text-align: right;\n",
       "    }\n",
       "</style>\n",
       "<table border=\"1\" class=\"dataframe\">\n",
       "  <thead>\n",
       "    <tr style=\"text-align: right;\">\n",
       "      <th></th>\n",
       "      <th>n1</th>\n",
       "      <th>n2</th>\n",
       "      <th>n3</th>\n",
       "      <th>n4</th>\n",
       "      <th>n5</th>\n",
       "      <th>n6</th>\n",
       "      <th>n7</th>\n",
       "      <th>n8</th>\n",
       "      <th>n9</th>\n",
       "      <th>n10</th>\n",
       "      <th>n11</th>\n",
       "      <th>n12</th>\n",
       "      <th>n13</th>\n",
       "    </tr>\n",
       "    <tr>\n",
       "      <th>y</th>\n",
       "      <th></th>\n",
       "      <th></th>\n",
       "      <th></th>\n",
       "      <th></th>\n",
       "      <th></th>\n",
       "      <th></th>\n",
       "      <th></th>\n",
       "      <th></th>\n",
       "      <th></th>\n",
       "      <th></th>\n",
       "      <th></th>\n",
       "      <th></th>\n",
       "      <th></th>\n",
       "    </tr>\n",
       "  </thead>\n",
       "  <tbody>\n",
       "    <tr>\n",
       "      <th>0</th>\n",
       "      <td>1.0</td>\n",
       "      <td>3</td>\n",
       "      <td>7.0</td>\n",
       "      <td>4.0</td>\n",
       "      <td>3057.0</td>\n",
       "      <td>41.0</td>\n",
       "      <td>2.0</td>\n",
       "      <td>8.0</td>\n",
       "      <td>38.0</td>\n",
       "      <td>0.0</td>\n",
       "      <td>1.0</td>\n",
       "      <td>0.0</td>\n",
       "      <td>5.0</td>\n",
       "    </tr>\n",
       "    <tr>\n",
       "      <th>1</th>\n",
       "      <td>2.0</td>\n",
       "      <td>4</td>\n",
       "      <td>5.0</td>\n",
       "      <td>4.0</td>\n",
       "      <td>1316.0</td>\n",
       "      <td>15.0</td>\n",
       "      <td>6.0</td>\n",
       "      <td>7.0</td>\n",
       "      <td>36.0</td>\n",
       "      <td>1.0</td>\n",
       "      <td>2.0</td>\n",
       "      <td>0.0</td>\n",
       "      <td>3.0</td>\n",
       "    </tr>\n",
       "  </tbody>\n",
       "</table>\n",
       "</div>"
      ],
      "text/plain": [
       "    n1  n2   n3   n4      n5    n6   n7   n8    n9  n10  n11  n12  n13\n",
       "y                                                                     \n",
       "0  1.0   3  7.0  4.0  3057.0  41.0  2.0  8.0  38.0  0.0  1.0  0.0  5.0\n",
       "1  2.0   4  5.0  4.0  1316.0  15.0  6.0  7.0  36.0  1.0  2.0  0.0  3.0"
      ]
     },
     "execution_count": 24,
     "metadata": {},
     "output_type": "execute_result"
    }
   ],
   "source": [
    "df_sample.groupby(df_sample.y)['n1', 'n2', 'n3', 'n4', 'n5', 'n6', 'n7', 'n8', 'n9', 'n10',\n",
    "                               'n11', 'n12', 'n13'].median()"
   ]
  },
  {
   "cell_type": "markdown",
   "metadata": {},
   "source": [
    "The above analysis indicates that the numeric values are ordinal in nature and can be treated as categorical for the modeling analysis."
   ]
  },
  {
   "cell_type": "markdown",
   "metadata": {},
   "source": [
    "## 3.4 EDA - Correlation Heat Map of Numeric Variables"
   ]
  },
  {
   "cell_type": "markdown",
   "metadata": {},
   "source": [
    "Correlation heat map of the numeric variables allows us to visualize whether there are non-orthogonal variables and whether we can reduce the dimensionality of our data in the modeling analysis."
   ]
  },
  {
   "cell_type": "code",
   "execution_count": 13,
   "metadata": {
    "collapsed": false
   },
   "outputs": [
    {
     "data": {
      "image/png": "[encoded data removed]",
      "text/plain": [
       "<Figure size 864x864 with 2 Axes>"
      ]
     },
     "metadata": {
      "needs_background": "light"
     },
     "output_type": "display_data"
    }
   ],
   "source": [
    "df_integers = df_sample.iloc[:,1:14]\n",
    "\n",
    "var_corr = df_integers.corr()\n",
    "var_corr = var_corr.round(3)\n",
    "# plot the heatmap and annotation on it\n",
    "fig, ax = plt.subplots(figsize=(12,12))         # Sample figsize\n",
    "sns.heatmap(var_corr, xticklabels=var_corr.columns, yticklabels=var_corr.columns, annot=True)\n",
    "\n",
    "# Fix axes\n",
    "b, t = plt.ylim() # discover the values for bottom and top\n",
    "b += 0.5 # Add 0.5 to the bottom\n",
    "t -= 0.5 # Subtract 0.5 from the top\n",
    "plt.ylim(b, t) # update the ylim(bottom, top) values\n",
    "plt.show()"
   ]
  },
  {
   "cell_type": "markdown",
   "metadata": {},
   "source": [
    "The most positively correlated feature pairs from this sample are:\n",
    "- `n7` and `n11` (_p_ = .74 in this sample);\n",
    "- `n4` and `n13` (_p_ = .6 in this sample);\n",
    "- `n4` and `n8` (_p_ = .53 in this sample);\n",
    "- `n7` and `n1` (_p_ = .4 in this sample);\n",
    "- `n10` and `n1` (_p_ = .4 in this sample);\n",
    "\n",
    "The most negatively correlated feature pairs from this sample are:\n",
    "- `n5` and `n10` (_p_ = -.34 in this sample);\n",
    "- `n6` and `n10` (_p_ = -.28 in this sample)"
   ]
  },
  {
   "cell_type": "markdown",
   "metadata": {},
   "source": [
    "Following this correlation analysis, since we did not consider these features to be strongly correlated, we were not concerned with effects of multicollinearity and chose to keep these features for the modeling implementation."
   ]
  },
  {
   "cell_type": "markdown",
   "metadata": {},
   "source": [
    "## 3.5 EDA - Assessment of class dominance (imbalance) across features"
   ]
  },
  {
   "cell_type": "markdown",
   "metadata": {},
   "source": [
    "Next, we examine the distribution of value counts (in percentage terms) for each of the variables. "
   ]
  },
  {
   "cell_type": "code",
   "execution_count": 25,
   "metadata": {
    "collapsed": false
   },
   "outputs": [
    {
     "name": "stdout",
     "output_type": "stream",
     "text": [
      "Top percentage value counts for variable y\n",
      "0    75.659535\n",
      "1    24.340465\n",
      "Name: y, dtype: float64\n",
      "\n",
      "Top percentage value counts for variable n1\n",
      "NaN    44.030846\n",
      "0.0    23.673682\n",
      "1.0     9.874181\n",
      "2.0     5.554589\n",
      "3.0     3.415087\n",
      "Name: n1, dtype: float64\n",
      "\n",
      "Top percentage value counts for variable n2\n",
      " 0    16.617383\n",
      " 1    15.185250\n",
      "-1    10.529367\n",
      " 2     5.427031\n",
      " 3     3.159970\n",
      "Name: n2, dtype: float64\n",
      "\n",
      "Top percentage value counts for variable n3\n",
      "NaN    21.719719\n",
      "1.0    12.378964\n",
      "2.0     8.581203\n",
      "3.0     5.989447\n",
      "4.0     5.328463\n",
      "Name: n3, dtype: float64\n",
      "\n",
      "Top percentage value counts for variable n4\n",
      "NaN    21.969038\n",
      "1.0    13.144315\n",
      "2.0     9.648055\n",
      "3.0     7.589726\n",
      "4.0     6.105410\n",
      "Name: n4, dtype: float64\n",
      "\n",
      "Top percentage value counts for variable n5\n",
      "NaN    2.638140\n",
      "1.0    2.209080\n",
      "0.0    1.687250\n",
      "2.0    1.577086\n",
      "4.0    1.171218\n",
      "Name: n5, dtype: float64\n",
      "\n",
      "Top percentage value counts for variable n6\n",
      "NaN    22.803966\n",
      "0.0     4.754450\n",
      "1.0     2.817881\n",
      "2.0     2.267061\n",
      "3.0     2.029338\n",
      "Name: n6, dtype: float64\n",
      "\n",
      "Top percentage value counts for variable n7\n",
      "0.0    21.737114\n",
      "1.0    13.097930\n",
      "2.0     8.534818\n",
      "3.0     5.977851\n",
      "4.0     4.992173\n",
      "Name: n7, dtype: float64\n",
      "\n",
      "Top percentage value counts for variable n8\n",
      "0.0    11.422276\n",
      "1.0     7.978199\n",
      "2.0     7.114281\n",
      "3.0     5.751725\n",
      "4.0     5.299472\n",
      "Name: n8, dtype: float64\n",
      "\n",
      "Top percentage value counts for variable n9\n",
      "NaN    4.702267\n",
      "1.0    3.728185\n",
      "0.0    3.136777\n",
      "2.0    2.794689\n",
      "3.0    2.771496\n",
      "Name: n9, dtype: float64\n",
      "\n",
      "Top percentage value counts for variable n10\n",
      "NaN    44.030846\n",
      "0.0    26.271236\n",
      "1.0    25.157998\n",
      "2.0     3.733983\n",
      "3.0     0.689975\n",
      "Name: n10, dtype: float64\n",
      "\n",
      "Top percentage value counts for variable n11\n",
      "1.0    33.652229\n",
      "0.0    22.838755\n",
      "2.0    14.072013\n",
      "3.0     7.131675\n",
      "NaN     4.702267\n",
      "Name: n11, dtype: float64\n",
      "\n",
      "Top percentage value counts for variable n12\n",
      "NaN    77.010495\n",
      "0.0    17.782803\n",
      "1.0     3.252740\n",
      "2.0     0.724764\n",
      "3.0     0.278309\n",
      "Name: n12, dtype: float64\n",
      "\n",
      "Top percentage value counts for variable n13\n",
      "NaN    21.969038\n",
      "1.0    12.605091\n",
      "2.0     9.317562\n",
      "3.0     7.183858\n",
      "4.0     5.867687\n",
      "Name: n13, dtype: float64\n",
      "\n",
      "Top percentage value counts for variable cat14\n",
      "05db9164    49.689801\n",
      "68fd1e64    16.669566\n",
      "5a9ed9b0     8.465240\n",
      "8cf07265     4.812431\n",
      "be589b51     3.496260\n",
      "Name: cat14, dtype: float64\n",
      "\n",
      "Top percentage value counts for variable cat15\n",
      "38a947a1    11.573027\n",
      "207b2d81     4.771844\n",
      "1cfdf714     4.157245\n",
      "38d50e09     4.076071\n",
      "4f25e98b     3.612222\n",
      "Name: cat15, dtype: float64\n",
      "\n",
      "Top percentage value counts for variable cat16\n",
      "NaN         3.368702\n",
      "d032c263    2.394619\n",
      "02cf9876    1.217603\n",
      "9143c832    1.194411\n",
      "aa8c1539    1.095843\n",
      "Name: cat16, dtype: float64\n",
      "\n",
      "Top percentage value counts for variable cat17\n",
      "c18be181    3.612222\n",
      "NaN         3.368702\n",
      "29998ed1    2.400417\n",
      "d16679b9    2.278657\n",
      "13508380    2.156897\n",
      "Name: cat17, dtype: float64\n",
      "\n",
      "Top percentage value counts for variable cat18\n",
      "25c83c98    67.188497\n",
      "4cf72387    15.573723\n",
      "43b19349     6.569258\n",
      "384874ce     3.270134\n",
      "30903e74     1.901780\n",
      "Name: cat18, dtype: float64\n",
      "\n",
      "Top percentage value counts for variable cat19\n",
      "7e0ccccf    39.879399\n",
      "fbad5c96    22.061808\n",
      "fe6b92e5    16.918884\n",
      "NaN         12.900794\n",
      "6f6d9be8     3.125181\n",
      "Name: cat19, dtype: float64\n",
      "\n",
      "Top percentage value counts for variable cat20\n",
      "1c86e0eb    1.785818\n",
      "dc7659bd    1.206007\n",
      "7195046d    1.055256\n",
      "5e64ce5f    0.840726\n",
      "38eb9cf4    0.759552\n",
      "Name: cat20, dtype: float64\n",
      "\n",
      "Top percentage value counts for variable cat21\n",
      "0b153874    58.885603\n",
      "5b392875    16.628979\n",
      "1f89b562     7.549139\n",
      "37e4aa92     4.325390\n",
      "062b5529     2.788891\n",
      "Name: cat21, dtype: float64\n",
      "\n",
      "Top percentage value counts for variable cat22\n",
      "a73ee510    89.609787\n",
      "7cc72ec2    10.361222\n",
      "a18233ea     0.028991\n",
      "Name: cat22, dtype: float64\n",
      "\n",
      "Top percentage value counts for variable cat23\n",
      "3b08e48b    21.412420\n",
      "efea433b     1.588682\n",
      "fbbf2c95     0.724764\n",
      "03e48276     0.516032\n",
      "49d1ad89     0.498637\n",
      "Name: cat23, dtype: float64\n",
      "\n",
      "Top percentage value counts for variable cat24\n",
      "755e4a50    2.597553\n",
      "e51ddf94    2.139503\n",
      "7f8ffe57    1.838001\n",
      "4d8549da    1.548095\n",
      "8b94178b    1.153824\n",
      "Name: cat24, dtype: float64\n",
      "\n",
      "Top percentage value counts for variable cat25\n",
      "NaN         3.368702\n",
      "6aaba33c    2.400417\n",
      "dfbb09fb    2.394619\n",
      "8fe001f4    1.217603\n",
      "ae1bb660    1.194411\n",
      "Name: cat25, dtype: float64\n",
      "\n",
      "Top percentage value counts for variable cat26\n",
      "5978055e    2.597553\n",
      "3516f6e6    2.388821\n",
      "46f42a63    2.035137\n",
      "51b97b8f    1.548095\n",
      "025225f2    1.490114\n",
      "Name: cat26, dtype: float64\n",
      "\n",
      "Top percentage value counts for variable cat27\n",
      "b28479f6    36.296167\n",
      "07d13a8f    33.744999\n",
      "1adce6ef    14.854757\n",
      "64c94865     4.325390\n",
      "cfef1c29     2.957036\n",
      "Name: cat27, dtype: float64\n",
      "\n",
      "Top percentage value counts for variable cat28\n",
      "2d0bb053    1.640865\n",
      "d345b1a0    1.217603\n",
      "3628a186    1.026265\n",
      "0c67c4ca    0.927698\n",
      "10040656    0.927698\n",
      "Name: cat28, dtype: float64\n",
      "\n",
      "Top percentage value counts for variable cat29\n",
      "NaN         3.368702\n",
      "b041b04a    2.400417\n",
      "84898b2a    2.394619\n",
      "36103458    1.217603\n",
      "bad5ee18    1.194411\n",
      "Name: cat29, dtype: float64\n",
      "\n",
      "Top percentage value counts for variable cat30\n",
      "e5ba7672    46.518235\n",
      "07c540c4    13.184902\n",
      "d4bb7bd8    11.828144\n",
      "3486227d     8.105758\n",
      "776ce399     5.282078\n",
      "Name: cat30, dtype: float64\n",
      "\n",
      "Top percentage value counts for variable cat31\n",
      "e88ffc9d    3.542645\n",
      "891589e7    2.846872\n",
      "2804effd    2.707717\n",
      "c21c3e4c    2.388821\n",
      "7ef5affa    2.133704\n",
      "Name: cat31, dtype: float64\n",
      "\n",
      "Top percentage value counts for variable cat32\n",
      "NaN         43.561199\n",
      "21ddcdc9    34.777063\n",
      "55dd3565     1.994550\n",
      "5b885066     1.037862\n",
      "cf99e5de     0.689975\n",
      "Name: cat32, dtype: float64\n",
      "\n",
      "Top percentage value counts for variable cat33\n",
      "NaN         43.561199\n",
      "b1252a9d    19.597611\n",
      "5840adea    18.896040\n",
      "a458ea53    17.945150\n",
      "Name: cat33, dtype: float64\n",
      "\n",
      "Top percentage value counts for variable cat34\n",
      "NaN         3.368702\n",
      "723b4dfd    2.400417\n",
      "0014c32a    2.394619\n",
      "e587c466    1.217603\n",
      "0429f84b    1.194411\n",
      "Name: cat34, dtype: float64\n",
      "\n",
      "Top percentage value counts for variable cat35\n",
      "NaN         77.103264\n",
      "ad3062eb    12.947179\n",
      "c9d4222a     8.099959\n",
      "78e2e389     0.730562\n",
      "8ec974f4     0.614600\n",
      "Name: cat35, dtype: float64\n",
      "\n",
      "Top percentage value counts for variable cat36\n",
      "32c7478e    43.491622\n",
      "3a171ecb    20.136835\n",
      "423fab69    12.680466\n",
      "bcdee96c     6.940337\n",
      "be7c41b4     5.456021\n",
      "Name: cat36, dtype: float64\n",
      "\n",
      "Top percentage value counts for variable cat37\n",
      "3fdb382b    5.166116\n",
      "b34f3128    5.032759\n",
      "1793a828    4.644286\n",
      "3b183c5c    4.580507\n",
      "NaN         3.368702\n",
      "Name: cat37, dtype: float64\n",
      "\n",
      "Top percentage value counts for variable cat38\n",
      "NaN         43.561199\n",
      "001f3601    15.243231\n",
      "e8b83407    10.894648\n",
      "ea9a246c     8.041978\n",
      "cb079c2d     4.493535\n",
      "Name: cat38, dtype: float64\n",
      "\n",
      "Top percentage value counts for variable cat39\n",
      "NaN         43.561199\n",
      "49d68486     3.965907\n",
      "c84c4aec     2.156897\n",
      "2fede552     1.913376\n",
      "c27f155b     1.501710\n",
      "Name: cat39, dtype: float64\n",
      "\n"
     ]
    }
   ],
   "source": [
    "# Show top value counts for each variable\n",
    "for col in df_sample.columns:\n",
    "    print(\"Top percentage value counts for variable\", col)\n",
    "    print((df_sample[col].value_counts(dropna=False)/len(df_sample) * 100).head())\n",
    "    print(\"\")"
   ]
  },
  {
   "cell_type": "markdown",
   "metadata": {},
   "source": [
    "Several variables are dominated by select few variables (where the threshold is more than 20% dominated by one value):\n",
    "- n1 is dominated by `null` values (~44% of category values);\n",
    "- n3 is dominated by `null` values (~22% of category values);\n",
    "- n4 is dominated by `null` values (~22% of category values);\n",
    "- n6 is dominated by `null` values (~23% of category values);\n",
    "- n7 is dominated by 0.0 values (~22% of category values);\n",
    "- n10 is dominated by `null` values (~44% of category values);\n",
    "- n11 is dominated by 1.0 values (~34% of category values);\n",
    "- n12 is dominated by `null` values (~77% of category values);\n",
    "- n13 is dominated by `null` values (~22% of category values);\n",
    "- cat14 is dominated by `05db9164` (~50% of category values);\n",
    "- cat18 is dominated by `25c83c98` (~67% of category values);\n",
    "- cat20 is dominated by `0b153874` (~59% of category values); \n",
    "- cat21 is dominated by `a73ee510` (~90% of category values);\n",
    "- cat30 is dominated by `e5ba7672` (~47% of category values);\n",
    "- cat32 is dominated by `null` values (~44% of category values);\n",
    "- cat33 is dominated by `null` values (~44% of category values);\n",
    "- cat35 is dominated by `null` values (~77% of category values);\n",
    "- cat36 is dominated by `32c7478e` (~44% of category values);\n",
    "- cat38 is dominated by `null` values (~44% of category values);\n",
    "- cat39 is dominated by `null` values (~44% of category values)"
   ]
  },
  {
   "cell_type": "markdown",
   "metadata": {},
   "source": [
    "We observed that there are several features that contain a high percentage of `null` values (at least 33% `null` values). Namely, the are the features `n1`, `n10`, `n12`, `cat32`, `cat33`, `cat35`, `cat38` and `cat39`. How we treated these presented a potential challenge. For the purpose of the algorithm implemented in the subsequent section, we kept the features with high percentage null values given the predictive importance these may have. "
   ]
  },
  {
   "cell_type": "markdown",
   "metadata": {},
   "source": [
    "## 3.6 EDA - Assessment of under-represented values across features"
   ]
  },
  {
   "cell_type": "markdown",
   "metadata": {},
   "source": [
    "We then assess the number of distinct unique values associated with each feature in the sample dataframe. We do this in order to assess how we will perform the discretization of the categorical features and mitigate the dimensionality problem. We note that features `cat32`, `cat33`, `cat35`, `cat38` and `cat39` are particularly troublesome to produce distinct values for given the large percentage of null values."
   ]
  },
  {
   "cell_type": "code",
   "execution_count": 13,
   "metadata": {
    "collapsed": false
   },
   "outputs": [
    {
     "name": "stdout",
     "output_type": "stream",
     "text": [
      "Feature\t| Distinct Values\t| Distinct Values as a Percent of Total\n",
      "====================================================================================================\n",
      " y\t|      2\t\t| 0.011596\n",
      " n1\t|     90\t\t| 0.521830\n",
      " n2\t|   1168\t\t| 6.772192\n",
      " n3\t|    308\t\t| 1.785818\n",
      " n4\t|     70\t\t| 0.405868\n",
      " n5\t|   8158\t\t| 47.300980\n",
      " n6\t|    942\t\t| 5.461819\n",
      " n7\t|    316\t\t| 1.832203\n",
      " n8\t|     55\t\t| 0.318896\n",
      " n9\t|    926\t\t| 5.369050\n",
      " n10\t|      7\t\t| 0.040587\n",
      " n11\t|     68\t\t| 0.394271\n",
      " n12\t|     43\t\t| 0.249319\n",
      " n13\t|     97\t\t| 0.562417\n",
      " cat14\t|    232\t\t| 1.345161\n",
      " cat15\t|    426\t\t| 2.469995\n",
      " cat16\t|   9713\t\t| 56.317041\n",
      " cat17\t|   6523\t\t| 37.821070\n",
      " cat18\t|     77\t\t| 0.446454\n",
      " cat19\t|      9\t\t| 0.052183\n",
      " cat20\t|   4213\t\t| 24.427437\n",
      " cat21\t|    121\t\t| 0.701571\n",
      " cat22\t|      3\t\t| 0.017394\n",
      " cat23\t|   4590\t\t| 26.613324\n",
      " cat24\t|   2541\t\t| 14.732997\n",
      " cat25\t|   9056\t\t| 52.507682\n",
      " cat26\t|   2060\t\t| 11.944106\n",
      " cat27\t|     24\t\t| 0.139155\n",
      " cat28\t|   2661\t\t| 15.428770\n",
      " cat29\t|   8015\t\t| 46.471850\n",
      " cat30\t|     10\t\t| 0.057981\n",
      " cat31\t|   1438\t\t| 8.337682\n",
      " cat34\t|   8616\t\t| 49.956514\n",
      " cat36\t|     13\t\t| 0.075375\n",
      " cat37\t|   3844\t\t| 22.287934\n"
     ]
    }
   ],
   "source": [
    "# the number of distinct features associated with each feature\n",
    "# use forward fill to account for missing values in some categorical variables\n",
    "\n",
    "\n",
    "print(\"{}\\t| {:10s}\\t| {:10s}\".format(\"Feature\",\"Distinct Values\",\"Distinct Values as a Percent of Total\"))\n",
    "print(\"=\"*100)\n",
    "for col in df_sample.columns[0:32]:\n",
    "    unique_values = len(np.unique(df_sample[col].ffill()))\n",
    "    unique_values_pct = len(np.unique(df_sample[col].ffill()))/len(df_sample) * 100\n",
    "    print(\" {}\\t| {:6d}\\t\\t| {:6f}\".format(str(col),unique_values,unique_values_pct))\n",
    "\n",
    "print(\" {}\\t| {:6d}\\t\\t| {:6f}\".format(str('cat34'),len(np.unique(df_sample['cat34'].ffill())),len(np.unique(df_sample['cat34'].ffill()))/len(df_sample)* 100)) \n",
    "print(\" {}\\t| {:6d}\\t\\t| {:6f}\".format(str('cat36'),len(np.unique(df_sample['cat36'].ffill())),len(np.unique(df_sample['cat36'].ffill()))/len(df_sample)* 100)) \n",
    "print(\" {}\\t| {:6d}\\t\\t| {:6f}\".format(str('cat37'),len(np.unique(df_sample['cat37'].ffill())),len(np.unique(df_sample['cat37'].ffill()))/len(df_sample)* 100)) \n",
    "    "
   ]
  },
  {
   "cell_type": "markdown",
   "metadata": {},
   "source": [
    "We observe that the features `n5`, `cat16`, `cat17`, `cat20`, `cat23`, `cat25`, `cat29`, `cat34` and `cat37` are comprised of distinct values that are over 20% of total values. In other words, these features contain a large number of under-represented values. This is another potential challenge to be addressed in the algorithm implementation as it would cause high dimensionality if we were to treat each value as its own feature through non-discretionary one-hot encoding. \n",
    "\n",
    "In order to mitigate the dimensionality issue, we impose a criteria for one-hot encoding features for a certain threshold of distinct values. Following the reference paper, de Wit (2014), we attempt an approach of applying one-hot encoding to features with less than 3,000 and another approach applying one-hot encoding to features with over 10,000 distinct values. For features with over 3K+ and 10K+ unique values, we decide to create a stash variable that comprises the least represented values for each original feature."
   ]
  },
  {
   "cell_type": "markdown",
   "metadata": {},
   "source": [
    "# Section 4. Algorithm Implementation"
   ]
  },
  {
   "cell_type": "markdown",
   "metadata": {},
   "source": [
    "## 4.1 Data Transformation"
   ]
  },
  {
   "cell_type": "markdown",
   "metadata": {},
   "source": [
    "### 4.1.1 Data Transformation - Variable Occurence as a Hyperparameter\n",
    "\n",
    "The very high number of discrete numerical and string categorical variables with long tails inhibits the use of one-hot-encoding on the full set of features. Intuitively the long tails, that is, the vast majority of variables with low counts, implies a model trained on all those features may encounter higher variance tradeoff.\n",
    "\n",
    "In order to reduce the feature space and the model variance we stashed variables with low occurence counts into a unique stash variable for each column. We tried two minimum occurence thresholds. \n",
    "A minimum count threshold of 10,000 for each unique variable produced a feature set of 9,965 variables. \n",
    "Using this threshold level as a hyperparameter in our modelling approach we proceeded to compare the model performance with a lower threshold of minimum 3,000 occurences resulting in a feature set of 25,373 variables. This implementation can be seen in section 4.2.1\n"
   ]
  },
  {
   "cell_type": "markdown",
   "metadata": {},
   "source": [
    "### 4.1.2 Data Transformation - Hashing Function\n",
    "\n",
    "We hash transformed the raw data with the full features and varied the number of fixed feature vectors and tried to target a log loss near the log loss performance of the two minimum occurence count one-hot-encoded models. As expected it required a fixed feature set of $2^{18}$ = 262,144 variables to achieve a comparable result. This vindicated our assumption that the majority of variables introduce a higher variance to the models."
   ]
  },
  {
   "cell_type": "markdown",
   "metadata": {},
   "source": [
    "## 4.2 Logistic Regression"
   ]
  },
  {
   "cell_type": "markdown",
   "metadata": {},
   "source": [
    "### 4.2.1 Implementation - Transform Data - Categorical variable occurence threshold"
   ]
  },
  {
   "cell_type": "code",
   "execution_count": null,
   "metadata": {
    "collapsed": true,
    "jupyter": {
     "outputs_hidden": true
    }
   },
   "outputs": [],
   "source": [
    "# To run, exxecute in bash shell\n",
    "# python submit_job_to_bigger_cluster.py --project_id=${PROJECT_ID} --zone=us-east1-b --cluster_name=samt --gcs_bucket=${BUCKET_NAME} --key_file=$HOME/MIDS/w261.json --create_new_cluster --pyspark_file=data_transform_ohe.py\n",
    "\n",
    "\n",
    "import time\n",
    "\n",
    "\n",
    "from pyspark.sql import SQLContext\n",
    "from pyspark.sql import SparkSession \n",
    "\n",
    "\n",
    "from pyspark.sql.types import *\n",
    "from pyspark.sql.functions import lit, when, col, approx_count_distinct\n",
    "from pyspark.ml import Pipeline\n",
    "from pyspark.ml.feature import IndexToString, StringIndexer, OneHotEncoderEstimator, VectorAssembler, FeatureHasher\n",
    "\n",
    "from pyspark.conf import SparkConf\n",
    "\n",
    "app_name = \"ohe\"\n",
    "\n",
    "#set session configuration\n",
    "conf=SparkConf()\n",
    "conf.set(\"spark.sql.parquet.compression.codec\", \"snappy\")\n",
    "#Create Spark session\n",
    "spark = SparkSession\\\n",
    "        .builder\\\n",
    "        .appName(app_name)\\\n",
    "        .getOrCreate()\n",
    "        \n",
    "sc = spark.sparkContext\n",
    "sqlContext = SQLContext(sc)\n",
    "\n",
    "spark\n",
    "#print session configuration\n",
    "for object in sc.getConf().getAll():\n",
    "    print(object)\n",
    "\n",
    "INPUT_FILE = 'gs://261_projectdata/261project_data/df.parquet'\n",
    "OUT_FILE = 'gs://261_projectdata/261project_data/df_ohe_10k.parquet'\n",
    "#this variable takes the minimum category occurence count as the threshold\n",
    "# CASE 1 - 10_000\n",
    "#CASE 2 - 3_000\n",
    "THRESHOLD = 10_000\n",
    "\n",
    "# Column names which will be transformed\n",
    "my_cats = ['cat13','cat14', 'cat15', 'cat16', 'cat17',\n",
    "           'cat18', 'cat19', 'cat20', 'cat21', 'cat22',\n",
    "           'cat23', 'cat24', 'cat25', 'cat26', 'cat27',\n",
    "           'cat28', 'cat29', 'cat30', 'cat31', 'cat32',\n",
    "           'cat33', 'cat34', 'cat35', 'cat36', 'cat37',\n",
    "           'cat38', 'cat39']\n",
    "\n",
    "my_nums = ['n1', 'n2', 'n3', 'n4', 'n5', 'n6', 'n7',\n",
    "           'n8', 'n9', 'n10', 'n11', 'n12']\n",
    "\n",
    "\n",
    "#load file as dataframe\n",
    "df_pq = spark.read.load(INPUT_FILE)\n",
    "print(f' Total number of Rows = {df_pq.count()}')\n",
    "\n",
    "\n",
    "def transform_str_col(df, cat_name):\n",
    "    \"\"\" Transform the string 'cat_name' column based on the THRESHOLD\n",
    "        for occurence count.\n",
    "    Input -     Dataframe and the column name to be transformed\n",
    "    Output -    Return dataframe with transformed column \n",
    "                where low occurence variables --> 'stash_$col_name'\n",
    "    \"\"\"\n",
    "    df_uniq_counts = df.groupBy(cat_name).count()\n",
    "    \n",
    "    #get values that occur above the threshold and broadcast it\n",
    "    keep_vars = sc.broadcast(df_uniq_counts.filter(df_uniq_counts['count'] > THRESHOLD)\\\n",
    "                            .select(df_uniq_counts[cat_name])\\\n",
    "                            .rdd.flatMap(lambda x: x).collect())\n",
    "    \n",
    "    #broadcast the value to replace the low occurance values\n",
    "    replace_val = sc.broadcast('stash_' + str(cat_name))\n",
    "\n",
    "\n",
    "    \n",
    "    #name the new column\n",
    "    cat_t = str(cat_name) + '_t'\n",
    "    \n",
    "    df = df.withColumn(cat_t, when(col(cat_name).isin(keep_vars.value), col(cat_name)).otherwise(lit(replace_val.value)))\n",
    "    df = df.drop(cat_name)\n",
    "    return df\n",
    "\n",
    "\n",
    "\n",
    "def transform_num_col(df, cat_name):\n",
    "    \"\"\" Transform the numerical 'cat_name' column based on the THRESHOLD\n",
    "        for occurence count.\n",
    "    Input -   Dataframe and the column name to be transformed\n",
    "    Output -  Return dataframe with transformed column where \n",
    "                low occurence variables --> 1_000_0xx' based on my_nums dict\n",
    "    \"\"\"\n",
    "  #list of stash variables named so its easy to identify in coefficient analysis\n",
    "    my_nums = {'n1':1_000_001, 'n2':1_000_002,\n",
    "               'n3':1_000_003, 'n4':1_000_004,\n",
    "               'n5':1_000_005, 'n6':1_000_006,\n",
    "               'n7':1_000_007, 'n8':1_000_008, \n",
    "               'n9':1_000_009, 'n10':1_000_010,\n",
    "               'n11':1_000_011, 'n12':1_000_012}\n",
    "    \n",
    "    df_uniq_counts = df.groupBy(cat_name).count()\n",
    "    \n",
    "    #get values that occur above the threshold and broadcast it\n",
    "    keep_vars = sc.broadcast(df_uniq_counts.filter(df_uniq_counts['count'] > THRESHOLD)\\\n",
    "                            .select(df_uniq_counts[cat_name])\\\n",
    "                            .rdd.flatMap(lambda x: x).collect())\n",
    "    \n",
    "    #broadcast the stash variable placeholder value to replace the low occurance values\n",
    "    replace_val = sc.broadcast(my_nums[cat_name])\n",
    "\n",
    "\n",
    "    \n",
    "    #name the new column\n",
    "    cat_t = str(cat_name) + '_t'\n",
    "    #if value is in the broadcasted high occurence list, then keep the value, other replace it with the placeholder\n",
    "    df = df.withColumn(cat_t, when(col(cat_name).isin(keep_vars.value), col(cat_name)).otherwise(lit(replace_val.value)))\n",
    "    df = df.drop(cat_name)\n",
    "    return df\n",
    "\n",
    "#Apply transform on numerical columns\n",
    "tot_time = 0\n",
    "for c in my_nums:\n",
    "\n",
    "    start = time.time()\n",
    "    print(f'Transforming Numerical column.. {c}')\n",
    "    df_pq = transform_num_col(df_pq, c)\n",
    "    time_taken = time.time() - start\n",
    "    print(f\"... completed job in {time_taken} seconds\")\n",
    "    tot_time += time_taken\n",
    "print(f'total time taken = {tot_time}')\n",
    "\n",
    "print('\\n')\n",
    "print('----'* 20)\n",
    "print('\\n')\n",
    "\n",
    "#Apply transform on  string columns\n",
    "tot_time = 0\n",
    "for c in my_cats:\n",
    "\n",
    "    start = time.time()\n",
    "    print(f'Transforming Categorical column.. {c}')\n",
    "    df_pq = transform_str_col(df_pq, c)\n",
    "    time_taken = time.time() - start\n",
    "    print(f\"... completed job in {time_taken} seconds\")\n",
    "    tot_time += time_taken\n",
    "print(f'total time taken = {tot_time}')\n",
    "\n",
    "df_pq.cache()\n",
    "\n",
    "\n",
    "\n",
    "\n",
    "#specify columns to turn from string categorical variables to numerical categorical representation\n",
    "cat_cols = ['n1_t', 'n2_t', 'n3_t', 'n4_t', 'n5_t', 'n6_t', 'n7_t',\n",
    "           'n8_t', 'n9_t', 'n10_t', 'n11_t', 'n12_t',\n",
    "           'cat13_t','cat14_t', 'cat15_t', 'cat16_t', 'cat17_t',\n",
    "           'cat18_t', 'cat19_t', 'cat20_t', 'cat21_t', 'cat22_t',\n",
    "           'cat23_t', 'cat24_t', 'cat25_t', 'cat26_t', 'cat27_t',\n",
    "           'cat28_t', 'cat29_t', 'cat30_t', 'cat31_t', 'cat32_t',\n",
    "           'cat33_t', 'cat34_t', 'cat35_t', 'cat36_t', 'cat37_t',\n",
    "           'cat38_t', 'cat39_t']\n",
    "\n",
    "cat_str_indx = ['n1_t_Indx', 'n2_t_Indx', 'n3_t_Indx', 'n4_t_Indx', 'n5_t_Indx', 'n6_t_Indx', 'n7_t_Indx',\n",
    "               'n8_t_Indx', 'n9_t_Indx', 'n10_t_Indx', 'n11_t_Indx', 'n12_t_Indx',\n",
    "               'cat13_t_Indx','cat14_t_Indx', 'cat15_t_Indx', 'cat16_t_Indx', 'cat17_t_Indx',\n",
    "               'cat18_t_Indx', 'cat19_t_Indx', 'cat20_t_Indx', 'cat21_t_Indx', 'cat22_t_Indx',\n",
    "               'cat23_t_Indx', 'cat24_t_Indx', 'cat25_t_Indx', 'cat26_t_Indx', 'cat27_t_Indx',\n",
    "               'cat28_t_Indx', 'cat29_t_Indx', 'cat30_t_Indx', 'cat31_t_Indx', 'cat32_t_Indx',\n",
    "               'cat33_t_Indx', 'cat34_t_Indx', 'cat35_t_Indx', 'cat36_t_Indx', 'cat37_t_Indx',\n",
    "               'cat38_t_Indx', 'cat39_t_Indx']\n",
    "\n",
    "cat_vecs = ['n1v', 'n2v', 'n3v', 'n4v', 'n5v', 'n6v', 'n7v',\n",
    "           'n8v', 'n9v', 'n10v', 'n11v', 'n12v',\n",
    "           'cat13v','cat14v', 'cat15v', 'cat16v', 'cat17v',\n",
    "           'cat18v', 'cat19v', 'cat20v', 'cat21v', 'cat22v',\n",
    "           'cat23v', 'cat24v', 'cat25v', 'cat26v', 'cat27v',\n",
    "           'cat28v', 'cat29v', 'cat30v', 'cat31v', 'cat32v',\n",
    "           'cat33v', 'cat34v', 'cat35v', 'cat36v', 'cat37v',\n",
    "           'cat38v', 'cat39v']\n",
    "\n",
    "#convert categorical variables to numerical categories\n",
    "indexers = [StringIndexer(inputCol= c, \n",
    "                         outputCol=\"{0}_Indx\".format(c), \n",
    "                         handleInvalid=\"keep\") \n",
    "           for c in cat_cols]\n",
    "#Create a list representation of the numerical categorical representation\n",
    "encoder = OneHotEncoderEstimator(inputCols = [indexer.getOutputCol() for indexer in indexers], \n",
    "                                  outputCols = cat_vecs, \n",
    "                                  dropLast = True)\n",
    "#adding a assembler step which creates a sparse representation of an indexed column\n",
    "assembler = VectorAssembler(inputCols=encoder.getOutputCols(), \n",
    "                           outputCol = 'features')\n",
    "#creating the full transform pipeline  \n",
    "start = time.time()\n",
    "print(f'Running pipeline to create sparse vectors.. ')                            \n",
    "pipeline = Pipeline(stages = indexers + [encoder] + [assembler] )\n",
    "\n",
    "model = pipeline.fit(df_pq)\n",
    "\n",
    "transformed = model.transform(df_pq)\n",
    "\n",
    "drop_cols = cat_str_indx + cat_vecs\n",
    "final_df = transformed.drop(*drop_cols).cache()\n",
    "\n",
    "time_taken = time.time() - start\n",
    "print(f\"... completed job in {time_taken} seconds\")\n",
    "\n",
    "\n",
    "print('writing file to parquet')\n",
    "final_df.write.parquet(OUT_FILE, compression='snappy', mode='overwrite')\n",
    "print('Done.')\n"
   ]
  },
  {
   "cell_type": "markdown",
   "metadata": {},
   "source": [
    "### 4.2.2 Implementation - Logistic Regression - Model Training and Evaluation"
   ]
  },
  {
   "cell_type": "code",
   "execution_count": null,
   "metadata": {
    "collapsed": true,
    "jupyter": {
     "outputs_hidden": true
    }
   },
   "outputs": [],
   "source": [
    "# python submit_job_to_bigger_cluster.py --project_id=${PROJECT_ID} --zone=us-east1-b --cluster_name=samt --gcs_bucket=${BUCKET_NAME} --key_file=$HOME/MIDS/w261.json --create_new_cluster --pyspark_file=lr_model.py\n",
    "\n",
    "import time\n",
    "import math\n",
    "\n",
    "\n",
    "from pyspark.sql import SQLContext\n",
    "from pyspark.sql import SparkSession \n",
    "\n",
    "\n",
    "from pyspark.sql.types import *\n",
    "from pyspark.sql.functions import lit, when, col, approx_count_distinct, mean, log, udf\n",
    "\n",
    "from pyspark.ml.classification import LogisticRegression\n",
    "\n",
    "from pyspark.conf import SparkConf\n",
    "\n",
    "\n",
    "app_name = \"logistic_regression\"\n",
    "\n",
    "#set spark session options\n",
    "conf=SparkConf()\n",
    "conf.set(\"spark.sql.parquet.compression.codec\", \"snappy\")\n",
    "#initiate the spark session\n",
    "spark = SparkSession\\\n",
    "        .builder\\\n",
    "        .appName(app_name)\\\n",
    "        .getOrCreate()\n",
    "sc = spark.sparkContext\n",
    "sqlContext = SQLContext(sc)\n",
    "\n",
    "spark\n",
    "#print all the session options and settings\n",
    "for object in sc.getConf().getAll():\n",
    "    print(object)\n",
    "\n",
    "#set the global variables\n",
    "MAX_ITER = 10       #number of model training epochs\n",
    "THRESHOLD = 0.45    #model training threshold for classification probability\n",
    "EPSILON = 1e-16     #variable to force bounded solution for log trransforms\n",
    "\n",
    "#import one hot encoded file\n",
    "INPUT_FILE = 'gs://261_projectdata/261project_data/df_ohe_10k.parquet'\n",
    "OUTPUT_FILE = 'gs://261_projectdata/results/ohe_10k_result.csv'\n",
    "\n",
    "df_pq = spark.read.parquet(INPUT_FILE)\\\n",
    "                .select('y', 'features')\n",
    "\n",
    "print(f' Total number of Rows = {df_pq.count()}')\n",
    "#remove records where the label is missing\n",
    "df_pq = df_pq.na.drop(subset = [\"y\"])\n",
    "\n",
    "print(f' Dropped NULL values from prediction variable. Total number of Rows = {df_pq.count()}')\n",
    "#create train-test split\n",
    "train_y_all, test_y_all = df_pq.randomSplit([0.8, 0.2])\n",
    "df_pq.unpersist()\n",
    "\n",
    "#change the name of the dependent variable column\n",
    "test = test_y_all.selectExpr(\"y as labels\", \"features\")\n",
    "print(f' Total number of Rows in the TEST set = {test.count()}')\n",
    "test.show(n=5)\n",
    "#force a binary classification 0 or 1 on the training data and save as column 'labels'\n",
    "train_y = train_y_all.withColumn('labels', when(col('y') > 0.0, lit(1)).otherwise(lit(0)))\n",
    "train_y_all.unpersist()\n",
    "#remove the old dependent variable\n",
    "train = train_y.drop('y')\n",
    "train_y.unpersist()\n",
    "\n",
    "print(f' Total number of Rows in the TRAIN set = {train.count()}')\n",
    "\n",
    "train.show(n=10)\n",
    "\n",
    "\n",
    "#Get the percentage of values in the positive class, to set the baseline log loss\n",
    "mean_prob = train.select(mean(col('labels'))).collect()[0]['avg(labels)']\n",
    "print(f'Positive class in the training data = {mean_prob * 100} %')\n",
    "\n",
    "#assign mean probability as the baseline probability estimate\n",
    "train_prob = train.withColumn('base_prob', lit(mean_prob))\n",
    "train.unpersist()\n",
    "\n",
    "# calculate baseilne logloss  \n",
    "train_ll = train_prob.withColumn('logloss', when(col('labels') > 0.0, - log(col('base_prob') + EPSILON))\\\n",
    "                                       .otherwise( - log(1.0 - col('base_prob') + EPSILON)))\n",
    "train_prob.unpersist()\n",
    "#get the mean of the logloss\n",
    "mean_ll = train_ll.select(mean(col('logloss'))).collect()[0]['avg(logloss)']\n",
    "print(f'Baseline Log loss for the training data = {mean_ll}')\n",
    "\n",
    "\n",
    "\n",
    "#specify the model and hyperparameters\n",
    "lr = LogisticRegression(featuresCol = 'features',\n",
    "                        labelCol='labels', \n",
    "                        maxIter = MAX_ITER, \n",
    "                        standardization = False,\n",
    "                        elasticNetParam = 0.0, \n",
    "                        threshold = THRESHOLD\n",
    "                        )\n",
    "\n",
    "start = time.time()\n",
    "print('Training model...')\n",
    "lr_model = lr.fit(train_ll)\n",
    "time_taken = time.time() - start\n",
    "print(f'Training completed ...in {time_taken}')\n",
    "\n",
    "\n",
    "\n",
    "\n",
    "def sigmoid(rawPrediction):\n",
    "    #apply affine transformation\n",
    "    return 1 / (1 + math.exp(- rawPrediction))\n",
    "\n",
    "def extract_from_vector(vec, i):\n",
    "    \"\"\" Input: VectorUDT data type\n",
    "        Output: float type at index (i)\n",
    "    \"\"\"\n",
    "    try:\n",
    "        return float(vec[i])\n",
    "    except ValueError:\n",
    "        return None\n",
    "\n",
    "#register UDFs    \n",
    "get_probability = udf(sigmoid, DoubleType())\n",
    "get_val = udf(extract_from_vector, DoubleType())\n",
    "\n",
    "#Get predictions on test data\n",
    "result = lr_model.transform(test)\n",
    "\n",
    "#Apply affine transformation to the linear regression output\n",
    "result2 = result.withColumn('calc_prob', get_probability(get_val(\"rawPrediction\", lit(1))))\n",
    "# calculate log loss\n",
    "result3 = result2.withColumn('logloss', when(col('labels') > 0.0, - log(col('calc_prob') + EPSILON))\\\n",
    "                                       .otherwise( - log(1.0 - col('calc_prob') + EPSILON)))\n",
    "\n",
    "\n",
    "test_mean_ll = result3.select(mean(col('logloss'))).collect()[0]['avg(logloss)']\n",
    "print(f'Baseline Log loss for the training data = {mean_ll}')\n",
    "print(f'MODEL Log loss for the training data = {test_mean_ll}')\n",
    "\n",
    "result3.select(['features', 'labels' ,'prediction', 'calc_prob', 'probability', 'logloss']).show(n=10, truncate=True)\n",
    "\n",
    "analyze = result3.select('labels', 'prediction')\n",
    "analyze = analyze.withColumn(\"prediction\", analyze[\"prediction\"].cast(IntegerType()))\n",
    "analyze = analyze.withColumn(\"labels\", analyze[\"labels\"].cast(IntegerType()))\n",
    "result3.unpersist()\n",
    "#Create SQL queries table\n",
    "sqlContext.registerDataFrameAsTable(analyze, \"results\")\n",
    "#Get metrics for precision recall calculations\n",
    "TP = spark.sql(\"\"\"SELECT COUNT(prediction)\n",
    "                    FROM results\n",
    "                    WHERE labels = 1 AND prediction = 1\n",
    "                    \"\"\").collect()[0][0]\n",
    "\n",
    "TN = spark.sql(\"\"\"SELECT COUNT(prediction)\n",
    "                    FROM results\n",
    "                    WHERE labels = 0 AND prediction = 0\n",
    "                    \"\"\").collect()[0][0]\n",
    "\n",
    "FP = spark.sql(\"\"\"SELECT COUNT(prediction)\n",
    "                    FROM results\n",
    "                    WHERE labels = 0 AND prediction = 1\n",
    "                    \"\"\").collect()[0][0]\n",
    "\n",
    "FN = spark.sql(\"\"\"SELECT COUNT(prediction)\n",
    "                    FROM results\n",
    "                    WHERE labels = 1 AND prediction = 0\n",
    "                    \"\"\").collect()[0][0]\n",
    "\n",
    "\n",
    "print(f'Precision = {TP/(TP + FP) * 100} %')\n",
    "\n",
    "print(f'Recall = {TP/(TP + FN) * 100} %')\n",
    "\n",
    "features = [x[\"name\"] for x in sorted(train_ll.schema[\"features\"].metadata[\"ml_attr\"][\"attrs\"][\"binary\"], \n",
    "                                      key=lambda x: x[\"idx\"]\n",
    "                                     )]\n",
    "\n",
    "#Extract feature names and indices from table metadata\n",
    "schema = StructType([StructField(\"feature\", StringType()),\n",
    "                    StructField(\"coeff\", FloatType())\n",
    "                    ])\n",
    "\n",
    "# Create dataframe of coefficients\n",
    "result_df = spark.createDataFrame(zip(features, lr_model.coefficients.tolist()), schema=schema)\n",
    "result_df.show(n=5)\n",
    "\n",
    "#save to CSV file\n",
    "result_df.coalesce(1).write.csv(OUTPUT_FILE, mode='overwrite')"
   ]
  },
  {
   "cell_type": "markdown",
   "metadata": {},
   "source": [
    "### 4.2.3 Implementation - Logistic Regression - Hashing Function - Training and Evaluation"
   ]
  },
  {
   "cell_type": "code",
   "execution_count": null,
   "metadata": {
    "collapsed": true,
    "jupyter": {
     "outputs_hidden": true
    }
   },
   "outputs": [],
   "source": [
    "\n",
    "\n",
    "\n",
    "import time\n",
    "import math\n",
    "\n",
    "from pyspark.sql import SQLContext\n",
    "from pyspark.sql import SparkSession \n",
    "\n",
    "from pyspark.conf import SparkConf\n",
    "\n",
    "from pyspark.sql.types import *\n",
    "from pyspark.sql.functions import lit, when, col, approx_count_distinct, mean, log, udf\n",
    "from pyspark.ml.classification import LogisticRegression\n",
    "from pyspark.ml.feature import FeatureHasher\n",
    "\n",
    "\n",
    "\n",
    "app_name = \"logistic_regression\"\n",
    "\n",
    "conf=SparkConf()\n",
    "\n",
    "spark = SparkSession\\\n",
    "        .builder\\\n",
    "        .appName(app_name)\\\n",
    "        .getOrCreate()\n",
    "sc = spark.sparkContext\n",
    "sqlContext = SQLContext(sc)\n",
    "\n",
    "spark\n",
    "\n",
    "for object in sc.getConf().getAll():\n",
    "    print(object)\n",
    "#set the global variables\n",
    "NUM_FEATURES = 2**18  #parameter for setting the number of mapped feature space\n",
    "MAX_ITER = 10       #number of model training epochs\n",
    "THRESHOLD = 0.45    #model training threshold for classification probability\n",
    "EPSILON = 1e-16     #variable to force bounded solution for log trransforms\n",
    "\n",
    "\n",
    "INPUT_FILE = 'gs://261_projectdata/261project_data/df.parquet'\n",
    "\n",
    "\n",
    "\n",
    "my_cols = ['n1', 'n2', 'n3', 'n4', 'n5', 'n6', 'n7',\n",
    "           'n8', 'n9', 'n10', 'n11', 'n12',\n",
    "           'cat13','cat14', 'cat15', 'cat16', 'cat17',\n",
    "           'cat18', 'cat19', 'cat20', 'cat21', 'cat22',\n",
    "           'cat23', 'cat24', 'cat25', 'cat26', 'cat27',\n",
    "           'cat28', 'cat29', 'cat30', 'cat31', 'cat32',\n",
    "           'cat33', 'cat34', 'cat35', 'cat36', 'cat37',\n",
    "           'cat38', 'cat39']\n",
    "\n",
    "\n",
    "\n",
    "df_pq = spark.read.parquet(INPUT_FILE)\n",
    "\n",
    "\n",
    "print(f'Creating Hashed feature with {NUM_FEATURES} number of vectors ...')\n",
    "start = time.time()\n",
    "\n",
    "hasher = FeatureHasher(inputCols=my_cols, outputCol=\"features\", numFeatures = NUM_FEATURES)\n",
    "\n",
    "hash_transformed = hasher.transform(df_pq).select('y', 'features')\n",
    "print(f'Hashed feature vector completed ...in {time.time() - start}')\n",
    "\n",
    "df_pq.unpersist()\n",
    "\n",
    "hash_transformed.show(n=5, truncate=True)\n",
    "#create train-test split\n",
    "print('Creating train-test split..')\n",
    "train_y_all, test_y_all = hash_transformed.randomSplit([0.8, 0.2], seed=10)\n",
    "hash_transformed.unpersist()\n",
    "#change the name of the dependent variable column\n",
    "print('Creating test set..')\n",
    "test = test_y_all.selectExpr(\"y as labels\", \"features\")\n",
    "test.show(n=5)\n",
    "#force a binary classification 0 or 1 on the training data and save as column 'labels'\n",
    "print('Creating train set..')\n",
    "train_y = train_y_all.withColumn('labels', when(col('y') > 0.0, lit(1)).otherwise(lit(0)))\n",
    "train_y_all.unpersist()\n",
    "\n",
    "train = train_y.drop('y')\n",
    "train_y.unpersist()\n",
    "\n",
    "train.show(n=10)\n",
    "\n",
    "\n",
    "#Get the percentage of values in the positive class, to set the baseline log loss\n",
    "mean_prob = train.select(mean(col('labels'))).collect()[0]['avg(labels)']\n",
    "print(f'Positive class in the training data = {mean_prob * 100} %')\n",
    "\n",
    "#assign mean probability as the baseline probability estimate\n",
    "train_prob = train.withColumn('base_prob', lit(mean_prob))\n",
    "train.unpersist()\n",
    "\n",
    "# calculate baseilne logloss  \n",
    "train_ll = train_prob.withColumn('logloss', when(col('labels') == 1.0, - log(col('base_prob') + EPSILON))\\\n",
    "                                       .otherwise( - log(1.0 - col('base_prob') + EPSILON)))\n",
    "train_prob.unpersist()\n",
    "\n",
    "mean_ll = train_ll.select(mean(col('logloss'))).collect()[0]['avg(logloss)']\n",
    "print(f'Baseline Log loss for the training data = {mean_ll}')\n",
    "#specify the model and hyperparameters\n",
    "lr = LogisticRegression(featuresCol = 'features',\n",
    "                        labelCol='labels', \n",
    "                        maxIter = MAX_ITER, \n",
    "                        standardization = False,\n",
    "                        elasticNetParam = 0.0, \n",
    "                        threshold = THRESHOLD\n",
    "                        )\n",
    "\n",
    "start = time.time()\n",
    "print('Training model...')\n",
    "lr_model = lr.fit(train_ll)\n",
    "time_taken = time.time() - start\n",
    "print(f'Training completed ...in {time_taken}')\n",
    "\n",
    "def sigmoid(rawPrediction):\n",
    "    #apply affine transformation\n",
    "    return 1 / (1 + math.exp(- rawPrediction))\n",
    "\n",
    "def extract_from_vector(vec, i):\n",
    "    \"\"\" Input: VectorUDT data type\n",
    "        Output: float type at index (i)\n",
    "    \"\"\"\n",
    "    try:\n",
    "        return float(vec[i])\n",
    "    except ValueError:\n",
    "        return None\n",
    "\n",
    "#register UDFs      \n",
    "get_probability = udf(sigmoid, DoubleType())\n",
    "get_val = udf(extract_from_vector, DoubleType())\n",
    "\n",
    "#Get predictions on test data\n",
    "result = lr_model.transform(test)\n",
    "\n",
    "#Apply affine transformation to the linear regression output\n",
    "result2 = result.withColumn('calc_prob', get_probability(get_val(\"rawPrediction\", lit(1))))\n",
    "# calculate log loss\n",
    "result3 = result2.withColumn('logloss', when(col('labels') > 0.0, - log(col('calc_prob') + EPSILON))\\\n",
    "                                       .otherwise( - log(1.0 - col('calc_prob') + EPSILON)))\n",
    "\n",
    "\n",
    "test_mean_ll = result3.select(mean(col('logloss'))).collect()[0]['avg(logloss)']\n",
    "print(f'Baseline Log loss for the training data = {mean_ll}')\n",
    "print(f'MODEL Log loss for the training data = {test_mean_ll}')\n",
    "\n",
    "analyze = result3.select('labels', 'prediction')\n",
    "analyze = analyze.withColumn(\"prediction\", analyze[\"prediction\"].cast(IntegerType()))\n",
    "analyze = analyze.withColumn(\"labels\", analyze[\"labels\"].cast(IntegerType()))\n",
    "\n",
    "#Create SQL queries table\n",
    "sqlContext.registerDataFrameAsTable(analyze, \"results\")\n",
    "#Get metrics for precision recall calculations\n",
    "TP = spark.sql(\"\"\"SELECT COUNT(prediction)\n",
    "                    FROM results\n",
    "                    WHERE labels = 1 AND prediction = 1\n",
    "                    \"\"\").collect()[0][0]\n",
    "\n",
    "TN = spark.sql(\"\"\"SELECT COUNT(prediction)\n",
    "                    FROM results\n",
    "                    WHERE labels = 0 AND prediction = 0\n",
    "                    \"\"\").collect()[0][0]\n",
    "\n",
    "FP = spark.sql(\"\"\"SELECT COUNT(prediction)\n",
    "                    FROM results\n",
    "                    WHERE labels = 0 AND prediction = 1\n",
    "                    \"\"\").collect()[0][0]\n",
    "\n",
    "FN = spark.sql(\"\"\"SELECT COUNT(prediction)\n",
    "                    FROM results\n",
    "                    WHERE labels = 1 AND prediction = 0\n",
    "                    \"\"\").collect()[0][0]\n",
    "\n",
    "P = spark.sql(\"\"\"SELECT COUNT(labels)\n",
    "                    FROM results\n",
    "                    WHERE labels = 1\n",
    "                    \"\"\").collect()[0][0]\n",
    "\n",
    "N = spark.sql(\"\"\"SELECT COUNT(labels)\n",
    "                    FROM results\n",
    "                    WHERE labels = 0\n",
    "                    \"\"\").collect()[0][0]\n",
    "\n",
    "print(f'Precision = {TP/(TP + FP) * 100} %')\n",
    "\n",
    "print(f'Recall = {TP/(TP + FN) * 100} %')"
   ]
  },
  {
   "cell_type": "markdown",
   "metadata": {},
   "source": [
    "### 4.2.4 Logistic Regression - Result Evaluation\n",
    "\n",
    "Below we have plotted the log loss of the training data for the logistic regression models 3K-threshold (with 25,373 variables), the 10K-threshold (with 9,965 variables) and the hash model (262,144 variables, without any data transforms).\n",
    "\n",
    "The 3K and the 10K threshold models test runs match the training loss estimates with 10 iterations. This implies that the models are generalizing well, but the 3K model is able to capture a higher level of variance and thus improve of the comparative accuracy, than the 10K model which is underfitting the data and producing a higher logloss.\n",
    "\n",
    "The hash model, which is hashing the entire data to 262,144 variables is overfitting the data, and its test loss is higher than the model with only 25,000 variables. Thus proving our intuitive assumption that the feature space need to be reduced to reduce the model variance."
   ]
  },
  {
   "cell_type": "code",
   "execution_count": 51,
   "metadata": {
    "collapsed": true,
    "jupyter": {
     "outputs_hidden": true
    }
   },
   "outputs": [],
   "source": [
    "model_loss_3K = [0.499029, 0.491585, 0.487683, 0.474038, 0.471372, 0.467517, 0.467218, 0.465899, 0.465557, 0.465180]\n",
    "model_loss_10K = [0.502777, 0.496957, 0.493552, 0.480277, 0.477862, 0.474202, 0.473822, 0.472661, 0.472306, 0.471934]\n",
    "model_loss_hash = [0.505454, 0.498507, 0.485948, 0.480282, 0.476191, 0.470736, 0.466912, 0.465075, 0.464344, 0.463487]\n",
    "test_loss = [0.46562832410932214 , 0.47215762480930773, 0.4697991907246451]\n",
    "x_val = [0,1,2]\n",
    "x_ticks = ['LR-3K', 'LR-10K', 'Hash']"
   ]
  },
  {
   "cell_type": "code",
   "execution_count": 53,
   "metadata": {
    "collapsed": false
   },
   "outputs": [
    {
     "data": {
      "image/png": "[encoded data removed]",
      "text/plain": [
       "<Figure size 1080x360 with 3 Axes>"
      ]
     },
     "metadata": {},
     "output_type": "display_data"
    }
   ],
   "source": [
    "series = [model_loss_3K, model_loss_10K, model_loss_hash]\n",
    "color = ['r', 'g', 'b']\n",
    "fig, axes = plt.subplots(nrows=1, ncols=3, sharey=True, figsize=(15, 5))\n",
    "for indx, ax in enumerate(axes):\n",
    "    ax.plot(series[indx], color=color[indx], label=x_ticks[indx])\n",
    "    l1 = ax.axhline(test_loss[indx],color='black',ls='--')\n",
    "    ax.set_title(x_ticks[indx])\n",
    "\n",
    "l1.set_label('test loss')\n",
    "fig.suptitle('Logistic Regression Models - Train-Test loss', fontsize=16)\n",
    "fig.legend()\n",
    "plt.show()"
   ]
  },
  {
   "cell_type": "code",
   "execution_count": 62,
   "metadata": {
    "collapsed": false
   },
   "outputs": [
    {
     "data": {
      "image/png": "[encoded data removed]",
      "text/plain": [
       "<Figure size 576x648 with 1 Axes>"
      ]
     },
     "metadata": {},
     "output_type": "display_data"
    }
   ],
   "source": [
    "plt.figure(figsize=(8,9))\n",
    "plt.bar(x_val, test_loss, align='center', color=color)\n",
    "plt.ylim(0.45, 0.48)\n",
    "plt.xticks(x_val, x_ticks)\n",
    "plt.title('Test Loss Comparison - Logistic Regression Models', fontsize=16)\n",
    "plt.show()"
   ]
  },
  {
   "cell_type": "markdown",
   "metadata": {},
   "source": [
    "\n",
    "\n",
    "### 4.2.5  Logistic regression -  Feature Coefficients Analysis\n",
    "\n",
    "In our project, we utilized one-hot encoding to binarize both our numerical and categorical features. We realized that because each feature may contain thousands of unique values, a conventional (or naive) one-hot encoding method would result in the curse of dimensionality, where we would end up having more features than data (i.e. more columns than we would rows). For this reason, we chose to impose a threshold of distinct values and use the idea of a \"stash\" feature, where for each feature, we would one-hot encode a unique value if it appeared more times than our threshold, otherwise we would assign it our stash value, which would also be one-hot encoded. This way, we created a new category per-feature which represented the under-represented unique values of certain features and mitigate the dimensionality issue. We show in this section that these variables would in fact not have a significant impact on our model, thus validating this method.\n",
    "\n",
    "\n",
    "Below, we will show how we analized our coefficients and validated our one-hot encoding implementation (Following article as a guide: https://towardsdatascience.com/machine-learning-with-pyspark-and-mllib-solving-a-binary-classification-problem-96396065d2aa):"
   ]
  },
  {
   "cell_type": "code",
   "execution_count": 5,
   "metadata": {
    "collapsed": true,
    "jupyter": {
     "outputs_hidden": true
    }
   },
   "outputs": [],
   "source": [
    "column_names = ['features','weights']\n",
    "coef_10k = pd.read_csv('./logistic_regression/results/Coeff_10K_threshold.csv',sep=\",\", names=column_names)\n",
    "coef_3k = pd.read_csv('./logistic_regression/results/Coeff_3K_threshold.csv',sep=\",\", names=column_names)"
   ]
  },
  {
   "cell_type": "markdown",
   "metadata": {},
   "source": [
    "\n",
    "The coefficients, $\\beta_{i}$ resulting from logistic regression are log-odds. To be converted to odds, we take the exponent of the coefficients. Following this transform we can say that the presence of the feature multiplies the odds of a click given an advertisement display by $e^{\\beta_{i}}$."
   ]
  },
  {
   "cell_type": "code",
   "execution_count": 6,
   "metadata": {
    "collapsed": true,
    "jupyter": {
     "outputs_hidden": true
    }
   },
   "outputs": [],
   "source": [
    "coef_10k['odds'] = np.exp(coef_10k['weights'])\n",
    "coef_3k['odds'] = np.exp(coef_3k['weights'])"
   ]
  },
  {
   "cell_type": "markdown",
   "metadata": {},
   "source": [
    "Assign a ranking for features sorted by coefficient weights in descending order."
   ]
  },
  {
   "cell_type": "code",
   "execution_count": 7,
   "metadata": {
    "collapsed": true,
    "jupyter": {
     "outputs_hidden": true
    }
   },
   "outputs": [],
   "source": [
    "coef_10k['rank'] = coef_10k['weights'].rank(ascending=False)\n",
    "coef_3k['rank'] = coef_3k['weights'].rank(ascending=False)"
   ]
  },
  {
   "cell_type": "markdown",
   "metadata": {},
   "source": [
    "Below, we sort the features by their coefficients and odds to visualize which stashed features had significant impact on our model"
   ]
  },
  {
   "cell_type": "code",
   "execution_count": 8,
   "metadata": {
    "collapsed": false
   },
   "outputs": [
    {
     "data": {
      "text/html": [
       "<div>\n",
       "<style scoped>\n",
       "    .dataframe tbody tr th:only-of-type {\n",
       "        vertical-align: middle;\n",
       "    }\n",
       "\n",
       "    .dataframe tbody tr th {\n",
       "        vertical-align: top;\n",
       "    }\n",
       "\n",
       "    .dataframe thead th {\n",
       "        text-align: right;\n",
       "    }\n",
       "</style>\n",
       "<table border=\"1\" class=\"dataframe\">\n",
       "  <thead>\n",
       "    <tr style=\"text-align: right;\">\n",
       "      <th></th>\n",
       "      <th>features</th>\n",
       "      <th>weights</th>\n",
       "      <th>odds</th>\n",
       "      <th>rank</th>\n",
       "    </tr>\n",
       "  </thead>\n",
       "  <tbody>\n",
       "    <tr>\n",
       "      <th>9574</th>\n",
       "      <td>cat37v_e5c2573e</td>\n",
       "      <td>4.187770</td>\n",
       "      <td>65.875724</td>\n",
       "      <td>1.0</td>\n",
       "    </tr>\n",
       "    <tr>\n",
       "      <th>6845</th>\n",
       "      <td>cat26v_61537f27</td>\n",
       "      <td>3.051090</td>\n",
       "      <td>21.138362</td>\n",
       "      <td>2.0</td>\n",
       "    </tr>\n",
       "    <tr>\n",
       "      <th>5980</th>\n",
       "      <td>cat25v_977d7916</td>\n",
       "      <td>2.667691</td>\n",
       "      <td>14.406663</td>\n",
       "      <td>3.0</td>\n",
       "    </tr>\n",
       "    <tr>\n",
       "      <th>9737</th>\n",
       "      <td>cat39v_e7ecb821</td>\n",
       "      <td>1.727998</td>\n",
       "      <td>5.629373</td>\n",
       "      <td>4.0</td>\n",
       "    </tr>\n",
       "    <tr>\n",
       "      <th>8580</th>\n",
       "      <td>cat31v_fe74f288</td>\n",
       "      <td>1.711703</td>\n",
       "      <td>5.538383</td>\n",
       "      <td>5.0</td>\n",
       "    </tr>\n",
       "    <tr>\n",
       "      <th>7091</th>\n",
       "      <td>cat28v_2d49999f</td>\n",
       "      <td>1.516405</td>\n",
       "      <td>4.555818</td>\n",
       "      <td>6.0</td>\n",
       "    </tr>\n",
       "    <tr>\n",
       "      <th>6881</th>\n",
       "      <td>cat27v_ab7390e9</td>\n",
       "      <td>1.484701</td>\n",
       "      <td>4.413647</td>\n",
       "      <td>7.0</td>\n",
       "    </tr>\n",
       "    <tr>\n",
       "      <th>9561</th>\n",
       "      <td>cat37v_e944e245</td>\n",
       "      <td>1.210541</td>\n",
       "      <td>3.355299</td>\n",
       "      <td>8.0</td>\n",
       "    </tr>\n",
       "    <tr>\n",
       "      <th>7348</th>\n",
       "      <td>cat28v_bd7b7794</td>\n",
       "      <td>1.150319</td>\n",
       "      <td>3.159199</td>\n",
       "      <td>9.0</td>\n",
       "    </tr>\n",
       "    <tr>\n",
       "      <th>4258</th>\n",
       "      <td>cat23v_f1b45aab</td>\n",
       "      <td>1.120861</td>\n",
       "      <td>3.067496</td>\n",
       "      <td>10.0</td>\n",
       "    </tr>\n",
       "  </tbody>\n",
       "</table>\n",
       "</div>"
      ],
      "text/plain": [
       "             features   weights       odds  rank\n",
       "9574  cat37v_e5c2573e  4.187770  65.875724   1.0\n",
       "6845  cat26v_61537f27  3.051090  21.138362   2.0\n",
       "5980  cat25v_977d7916  2.667691  14.406663   3.0\n",
       "9737  cat39v_e7ecb821  1.727998   5.629373   4.0\n",
       "8580  cat31v_fe74f288  1.711703   5.538383   5.0\n",
       "7091  cat28v_2d49999f  1.516405   4.555818   6.0\n",
       "6881  cat27v_ab7390e9  1.484701   4.413647   7.0\n",
       "9561  cat37v_e944e245  1.210541   3.355299   8.0\n",
       "7348  cat28v_bd7b7794  1.150319   3.159199   9.0\n",
       "4258  cat23v_f1b45aab  1.120861   3.067496  10.0"
      ]
     },
     "execution_count": 8,
     "metadata": {},
     "output_type": "execute_result"
    }
   ],
   "source": [
    "# inspect the 10 largest positive weights for the Coeff_10K_threshold dataset\n",
    "coef_10k.sort_values(by='weights',ascending=False).head(10)"
   ]
  },
  {
   "cell_type": "code",
   "execution_count": 9,
   "metadata": {
    "collapsed": false
   },
   "outputs": [
    {
     "data": {
      "text/html": [
       "<div>\n",
       "<style scoped>\n",
       "    .dataframe tbody tr th:only-of-type {\n",
       "        vertical-align: middle;\n",
       "    }\n",
       "\n",
       "    .dataframe tbody tr th {\n",
       "        vertical-align: top;\n",
       "    }\n",
       "\n",
       "    .dataframe thead th {\n",
       "        text-align: right;\n",
       "    }\n",
       "</style>\n",
       "<table border=\"1\" class=\"dataframe\">\n",
       "  <thead>\n",
       "    <tr style=\"text-align: right;\">\n",
       "      <th></th>\n",
       "      <th>features</th>\n",
       "      <th>weights</th>\n",
       "      <th>odds</th>\n",
       "      <th>rank</th>\n",
       "    </tr>\n",
       "  </thead>\n",
       "  <tbody>\n",
       "    <tr>\n",
       "      <th>9833</th>\n",
       "      <td>cat39v_56009c93</td>\n",
       "      <td>-1.400403</td>\n",
       "      <td>0.246498</td>\n",
       "      <td>9965.0</td>\n",
       "    </tr>\n",
       "    <tr>\n",
       "      <th>7284</th>\n",
       "      <td>cat28v_1620a246</td>\n",
       "      <td>-1.393744</td>\n",
       "      <td>0.248144</td>\n",
       "      <td>9964.0</td>\n",
       "    </tr>\n",
       "    <tr>\n",
       "      <th>6879</th>\n",
       "      <td>cat27v_26ac7cf4</td>\n",
       "      <td>-1.343043</td>\n",
       "      <td>0.261050</td>\n",
       "      <td>9963.0</td>\n",
       "    </tr>\n",
       "    <tr>\n",
       "      <th>2631</th>\n",
       "      <td>cat16v_e159e1de</td>\n",
       "      <td>-1.136020</td>\n",
       "      <td>0.321094</td>\n",
       "      <td>9962.0</td>\n",
       "    </tr>\n",
       "    <tr>\n",
       "      <th>5958</th>\n",
       "      <td>cat25v_8a48eb95</td>\n",
       "      <td>-1.115564</td>\n",
       "      <td>0.327730</td>\n",
       "      <td>9961.0</td>\n",
       "    </tr>\n",
       "    <tr>\n",
       "      <th>3225</th>\n",
       "      <td>cat20v_12343fcc</td>\n",
       "      <td>-1.102595</td>\n",
       "      <td>0.332009</td>\n",
       "      <td>9960.0</td>\n",
       "    </tr>\n",
       "    <tr>\n",
       "      <th>7547</th>\n",
       "      <td>cat28v_14d05219</td>\n",
       "      <td>-1.085577</td>\n",
       "      <td>0.337707</td>\n",
       "      <td>9959.0</td>\n",
       "    </tr>\n",
       "    <tr>\n",
       "      <th>3115</th>\n",
       "      <td>cat17v_2788fed8</td>\n",
       "      <td>-1.001742</td>\n",
       "      <td>0.367239</td>\n",
       "      <td>9958.0</td>\n",
       "    </tr>\n",
       "    <tr>\n",
       "      <th>8346</th>\n",
       "      <td>cat31v_b49c9b63</td>\n",
       "      <td>-0.992106</td>\n",
       "      <td>0.370795</td>\n",
       "      <td>9957.0</td>\n",
       "    </tr>\n",
       "    <tr>\n",
       "      <th>7523</th>\n",
       "      <td>cat28v_6c34b86f</td>\n",
       "      <td>-0.956747</td>\n",
       "      <td>0.384141</td>\n",
       "      <td>9956.0</td>\n",
       "    </tr>\n",
       "  </tbody>\n",
       "</table>\n",
       "</div>"
      ],
      "text/plain": [
       "             features   weights      odds    rank\n",
       "9833  cat39v_56009c93 -1.400403  0.246498  9965.0\n",
       "7284  cat28v_1620a246 -1.393744  0.248144  9964.0\n",
       "6879  cat27v_26ac7cf4 -1.343043  0.261050  9963.0\n",
       "2631  cat16v_e159e1de -1.136020  0.321094  9962.0\n",
       "5958  cat25v_8a48eb95 -1.115564  0.327730  9961.0\n",
       "3225  cat20v_12343fcc -1.102595  0.332009  9960.0\n",
       "7547  cat28v_14d05219 -1.085577  0.337707  9959.0\n",
       "3115  cat17v_2788fed8 -1.001742  0.367239  9958.0\n",
       "8346  cat31v_b49c9b63 -0.992106  0.370795  9957.0\n",
       "7523  cat28v_6c34b86f -0.956747  0.384141  9956.0"
      ]
     },
     "execution_count": 9,
     "metadata": {},
     "output_type": "execute_result"
    }
   ],
   "source": [
    "# inspect the 10 largest negative weights for the the Coeff_10K_threshold dataset\n",
    "coef_10k.sort_values(by='weights',ascending=True).head(10)"
   ]
  },
  {
   "cell_type": "code",
   "execution_count": 10,
   "metadata": {
    "collapsed": false
   },
   "outputs": [
    {
     "data": {
      "text/html": [
       "<div>\n",
       "<style scoped>\n",
       "    .dataframe tbody tr th:only-of-type {\n",
       "        vertical-align: middle;\n",
       "    }\n",
       "\n",
       "    .dataframe tbody tr th {\n",
       "        vertical-align: top;\n",
       "    }\n",
       "\n",
       "    .dataframe thead th {\n",
       "        text-align: right;\n",
       "    }\n",
       "</style>\n",
       "<table border=\"1\" class=\"dataframe\">\n",
       "  <thead>\n",
       "    <tr style=\"text-align: right;\">\n",
       "      <th></th>\n",
       "      <th>features</th>\n",
       "      <th>weights</th>\n",
       "      <th>odds</th>\n",
       "      <th>rank</th>\n",
       "    </tr>\n",
       "  </thead>\n",
       "  <tbody>\n",
       "    <tr>\n",
       "      <th>23553</th>\n",
       "      <td>cat37v_e5c2573e</td>\n",
       "      <td>4.147792</td>\n",
       "      <td>63.294112</td>\n",
       "      <td>1.0</td>\n",
       "    </tr>\n",
       "    <tr>\n",
       "      <th>24205</th>\n",
       "      <td>cat37v_06f6f124</td>\n",
       "      <td>2.423117</td>\n",
       "      <td>11.280972</td>\n",
       "      <td>2.0</td>\n",
       "    </tr>\n",
       "    <tr>\n",
       "      <th>24192</th>\n",
       "      <td>cat37v_7e60320b</td>\n",
       "      <td>2.041644</td>\n",
       "      <td>7.703265</td>\n",
       "      <td>3.0</td>\n",
       "    </tr>\n",
       "    <tr>\n",
       "      <th>11007</th>\n",
       "      <td>cat22v_stash_cat22</td>\n",
       "      <td>1.917090</td>\n",
       "      <td>6.801141</td>\n",
       "      <td>4.0</td>\n",
       "    </tr>\n",
       "    <tr>\n",
       "      <th>10106</th>\n",
       "      <td>cat20v_af8f31b5</td>\n",
       "      <td>1.851544</td>\n",
       "      <td>6.369647</td>\n",
       "      <td>5.0</td>\n",
       "    </tr>\n",
       "    <tr>\n",
       "      <th>15324</th>\n",
       "      <td>cat25v_977d7916</td>\n",
       "      <td>1.732871</td>\n",
       "      <td>5.656873</td>\n",
       "      <td>6.0</td>\n",
       "    </tr>\n",
       "    <tr>\n",
       "      <th>21618</th>\n",
       "      <td>cat31v_31941843</td>\n",
       "      <td>1.593091</td>\n",
       "      <td>4.918930</td>\n",
       "      <td>7.0</td>\n",
       "    </tr>\n",
       "    <tr>\n",
       "      <th>21135</th>\n",
       "      <td>cat31v_fe74f288</td>\n",
       "      <td>1.538607</td>\n",
       "      <td>4.658096</td>\n",
       "      <td>8.0</td>\n",
       "    </tr>\n",
       "    <tr>\n",
       "      <th>6262</th>\n",
       "      <td>cat16v_6dd570f4</td>\n",
       "      <td>1.528990</td>\n",
       "      <td>4.613516</td>\n",
       "      <td>9.0</td>\n",
       "    </tr>\n",
       "    <tr>\n",
       "      <th>18010</th>\n",
       "      <td>cat28v_2d49999f</td>\n",
       "      <td>1.504410</td>\n",
       "      <td>4.501497</td>\n",
       "      <td>10.0</td>\n",
       "    </tr>\n",
       "  </tbody>\n",
       "</table>\n",
       "</div>"
      ],
      "text/plain": [
       "                 features   weights       odds  rank\n",
       "23553     cat37v_e5c2573e  4.147792  63.294112   1.0\n",
       "24205     cat37v_06f6f124  2.423117  11.280972   2.0\n",
       "24192     cat37v_7e60320b  2.041644   7.703265   3.0\n",
       "11007  cat22v_stash_cat22  1.917090   6.801141   4.0\n",
       "10106     cat20v_af8f31b5  1.851544   6.369647   5.0\n",
       "15324     cat25v_977d7916  1.732871   5.656873   6.0\n",
       "21618     cat31v_31941843  1.593091   4.918930   7.0\n",
       "21135     cat31v_fe74f288  1.538607   4.658096   8.0\n",
       "6262      cat16v_6dd570f4  1.528990   4.613516   9.0\n",
       "18010     cat28v_2d49999f  1.504410   4.501497  10.0"
      ]
     },
     "execution_count": 10,
     "metadata": {},
     "output_type": "execute_result"
    }
   ],
   "source": [
    "# inspect the 10 largest positive weights for the Coeff_3K_threshold dataset\n",
    "coef_3k.sort_values(by='weights',ascending=False).head(10)"
   ]
  },
  {
   "cell_type": "code",
   "execution_count": 11,
   "metadata": {
    "collapsed": false
   },
   "outputs": [
    {
     "data": {
      "text/html": [
       "<div>\n",
       "<style scoped>\n",
       "    .dataframe tbody tr th:only-of-type {\n",
       "        vertical-align: middle;\n",
       "    }\n",
       "\n",
       "    .dataframe tbody tr th {\n",
       "        vertical-align: top;\n",
       "    }\n",
       "\n",
       "    .dataframe thead th {\n",
       "        text-align: right;\n",
       "    }\n",
       "</style>\n",
       "<table border=\"1\" class=\"dataframe\">\n",
       "  <thead>\n",
       "    <tr style=\"text-align: right;\">\n",
       "      <th></th>\n",
       "      <th>features</th>\n",
       "      <th>weights</th>\n",
       "      <th>odds</th>\n",
       "      <th>rank</th>\n",
       "    </tr>\n",
       "  </thead>\n",
       "  <tbody>\n",
       "    <tr>\n",
       "      <th>24175</th>\n",
       "      <td>cat37v_0c55705d</td>\n",
       "      <td>-1.656837</td>\n",
       "      <td>0.190741</td>\n",
       "      <td>25373.0</td>\n",
       "    </tr>\n",
       "    <tr>\n",
       "      <th>19243</th>\n",
       "      <td>cat28v_e8595dcb</td>\n",
       "      <td>-1.587786</td>\n",
       "      <td>0.204378</td>\n",
       "      <td>25372.0</td>\n",
       "    </tr>\n",
       "    <tr>\n",
       "      <th>25119</th>\n",
       "      <td>cat39v_f969c815</td>\n",
       "      <td>-1.524077</td>\n",
       "      <td>0.217822</td>\n",
       "      <td>25371.0</td>\n",
       "    </tr>\n",
       "    <tr>\n",
       "      <th>23977</th>\n",
       "      <td>cat37v_9579adc9</td>\n",
       "      <td>-1.482050</td>\n",
       "      <td>0.227172</td>\n",
       "      <td>25370.0</td>\n",
       "    </tr>\n",
       "    <tr>\n",
       "      <th>18203</th>\n",
       "      <td>cat28v_1620a246</td>\n",
       "      <td>-1.447041</td>\n",
       "      <td>0.235265</td>\n",
       "      <td>25369.0</td>\n",
       "    </tr>\n",
       "    <tr>\n",
       "      <th>24623</th>\n",
       "      <td>cat39v_56009c93</td>\n",
       "      <td>-1.382719</td>\n",
       "      <td>0.250895</td>\n",
       "      <td>25368.0</td>\n",
       "    </tr>\n",
       "    <tr>\n",
       "      <th>18713</th>\n",
       "      <td>cat28v_d8c099d7</td>\n",
       "      <td>-1.339515</td>\n",
       "      <td>0.261973</td>\n",
       "      <td>25367.0</td>\n",
       "    </tr>\n",
       "    <tr>\n",
       "      <th>7814</th>\n",
       "      <td>cat17v_d51317a5</td>\n",
       "      <td>-1.305992</td>\n",
       "      <td>0.270904</td>\n",
       "      <td>25366.0</td>\n",
       "    </tr>\n",
       "    <tr>\n",
       "      <th>23822</th>\n",
       "      <td>cat37v_2949c226</td>\n",
       "      <td>-1.300072</td>\n",
       "      <td>0.272512</td>\n",
       "      <td>25365.0</td>\n",
       "    </tr>\n",
       "    <tr>\n",
       "      <th>25309</th>\n",
       "      <td>cat39v_41d8ab16</td>\n",
       "      <td>-1.295096</td>\n",
       "      <td>0.273872</td>\n",
       "      <td>25364.0</td>\n",
       "    </tr>\n",
       "  </tbody>\n",
       "</table>\n",
       "</div>"
      ],
      "text/plain": [
       "              features   weights      odds     rank\n",
       "24175  cat37v_0c55705d -1.656837  0.190741  25373.0\n",
       "19243  cat28v_e8595dcb -1.587786  0.204378  25372.0\n",
       "25119  cat39v_f969c815 -1.524077  0.217822  25371.0\n",
       "23977  cat37v_9579adc9 -1.482050  0.227172  25370.0\n",
       "18203  cat28v_1620a246 -1.447041  0.235265  25369.0\n",
       "24623  cat39v_56009c93 -1.382719  0.250895  25368.0\n",
       "18713  cat28v_d8c099d7 -1.339515  0.261973  25367.0\n",
       "7814   cat17v_d51317a5 -1.305992  0.270904  25366.0\n",
       "23822  cat37v_2949c226 -1.300072  0.272512  25365.0\n",
       "25309  cat39v_41d8ab16 -1.295096  0.273872  25364.0"
      ]
     },
     "execution_count": 11,
     "metadata": {},
     "output_type": "execute_result"
    }
   ],
   "source": [
    "# inspect the 10 largest negative weights for the the Coeff_3K_threshold dataset\n",
    "coef_3k.sort_values(by='weights',ascending=True).head(10)"
   ]
  },
  {
   "cell_type": "markdown",
   "metadata": {},
   "source": [
    "#### 4.2.5.1 Visualizing Stashed Coefficient\n",
    "\n",
    "We now have the weights of the stashed features. Below, we will plot the weights for all of our features and visualize how much of an impact the stashed features will have on our model by scattering their weights along our curve. Ideally, we would like to have these points representing the stashed feature coefficients huddled around 0, to reassure us that they have minimal impact on the model."
   ]
  },
  {
   "cell_type": "code",
   "execution_count": 13,
   "metadata": {
    "collapsed": true,
    "jupyter": {
     "outputs_hidden": true
    }
   },
   "outputs": [],
   "source": [
    "# Plots line graph of coefficients, dots for stash weights\n",
    "def coeflinegraph(df, title, stashes):\n",
    "    beta = np.sort(df.weights)\n",
    "    plt.plot(beta)\n",
    "    plt.scatter([stashes.index], [stashes.values])\n",
    "\n",
    "    plt.title('Beta Coefficients using {} distinct counts as threshold filter'.format(title))\n",
    "    plt.ylabel('Beta Coefficients')\n",
    "    plt.show()\n",
    "\n",
    "    \n",
    "# Plots line graph of log-odds, dots for stash odds    \n",
    "def oddslinegraph(df, title, stashes):\n",
    "    odds = np.sort(df.odds)\n",
    "    plt.plot(odds)\n",
    "    plt.scatter([stashes.index], [stashes.values])\n",
    "\n",
    "    \n",
    "    plt.title('Odds using {} distinct counts as threshold filter'.format(title))\n",
    "    plt.ylabel('Odds')\n",
    "    plt.show()\n"
   ]
  },
  {
   "cell_type": "code",
   "execution_count": 14,
   "metadata": {
    "collapsed": true,
    "jupyter": {
     "outputs_hidden": true
    }
   },
   "outputs": [],
   "source": [
    "# Access coefficeint weights and log odds for stashed features\n",
    "def get_stash(df):\n",
    "    df_stash_cat = df[df['features'].str.contains(\"stash\")]\n",
    "    df_stash_num = df[df['features'].str.contains(\"v_10000\")]\n",
    "\n",
    "    df_stash = pd.concat([df_stash_cat, df_stash_num])\n",
    "    \n",
    "    return df_stash['odds'], df_stash['weights']\n",
    "        \n",
    "# Get odds and weights for both 10k and 3k results\n",
    "coef_10k_odds, coef_10k_weights = get_stash(coef_10k)\n",
    "\n",
    "coef_3k_odds, coef_3k_weights = get_stash(coef_3k)"
   ]
  },
  {
   "cell_type": "code",
   "execution_count": 15,
   "metadata": {
    "collapsed": false
   },
   "outputs": [
    {
     "data": {
      "image/png": "[encoded data removed]",
      "text/plain": [
       "<Figure size 432x288 with 1 Axes>"
      ]
     },
     "metadata": {
      "needs_background": "light"
     },
     "output_type": "display_data"
    }
   ],
   "source": [
    "coeflinegraph(df=coef_10k, title='10k', stashes=coef_10k_weights)"
   ]
  },
  {
   "cell_type": "code",
   "execution_count": 16,
   "metadata": {
    "collapsed": false
   },
   "outputs": [
    {
     "data": {
      "image/png": "[encoded data removed]",
      "text/plain": [
       "<Figure size 432x288 with 1 Axes>"
      ]
     },
     "metadata": {
      "needs_background": "light"
     },
     "output_type": "display_data"
    }
   ],
   "source": [
    "coeflinegraph(df=coef_3k, title='3k', stashes=coef_3k_weights)\n"
   ]
  },
  {
   "cell_type": "markdown",
   "metadata": {},
   "source": [
    "\n",
    "We observe that just a small fraction of the features have a non-negligible coefficient weight. We also plot the weights of the stashed variables for each feature. As we can see, almost all of the stashed variables are clustered around 0. This is ideal, as we want the underrepresented variables to have a negligible effect within our model. In the 3,000 threshold model, we see that there are a few outliers, as some of our stashed features have significant weights. We can surmise that the model using the 10,000 threshold lessens the weight of the stashed features, as we see that nearly all of the coefficients are around 0.\n",
    "\n",
    "Below, we plot the odds for both models. Given that these are the exponentials of the log-odds, only those odds with non-negligible weights will appear salient. Almost all values are again around 0. However, we do again see an outlier in the 3,000 threshold model."
   ]
  },
  {
   "cell_type": "code",
   "execution_count": 17,
   "metadata": {
    "collapsed": false
   },
   "outputs": [
    {
     "data": {
      "image/png": "[encoded data removed]",
      "text/plain": [
       "<Figure size 432x288 with 1 Axes>"
      ]
     },
     "metadata": {
      "needs_background": "light"
     },
     "output_type": "display_data"
    }
   ],
   "source": [
    "oddslinegraph(df=coef_10k, title='10k', stashes=coef_10k_odds)"
   ]
  },
  {
   "cell_type": "code",
   "execution_count": 18,
   "metadata": {
    "collapsed": false
   },
   "outputs": [
    {
     "data": {
      "image/png": "[encoded data removed]",
      "text/plain": [
       "<Figure size 432x288 with 1 Axes>"
      ]
     },
     "metadata": {
      "needs_background": "light"
     },
     "output_type": "display_data"
    }
   ],
   "source": [
    "oddslinegraph(df=coef_3k, title='3k', stashes=coef_3k_odds)"
   ]
  },
  {
   "cell_type": "markdown",
   "metadata": {},
   "source": [
    "We observe that just a small fraction of the features have a non-negligible odds interpretation.\n",
    "\n",
    "In the 3k threshold model, just 0.1% of features have weights greater than 1. In the 10k threshold model, just 0.2% of features have weights greater than 1. We find that just one stash variable, corresponding with feature cat22 (ranked fourth) has a weight greater than 1 in the 3k threshold model. Moreover, we observe that none of the numerical features have a negligible weight."
   ]
  },
  {
   "cell_type": "code",
   "execution_count": 19,
   "metadata": {
    "collapsed": false
   },
   "outputs": [
    {
     "data": {
      "text/html": [
       "<div>\n",
       "<style scoped>\n",
       "    .dataframe tbody tr th:only-of-type {\n",
       "        vertical-align: middle;\n",
       "    }\n",
       "\n",
       "    .dataframe tbody tr th {\n",
       "        vertical-align: top;\n",
       "    }\n",
       "\n",
       "    .dataframe thead th {\n",
       "        text-align: right;\n",
       "    }\n",
       "</style>\n",
       "<table border=\"1\" class=\"dataframe\">\n",
       "  <thead>\n",
       "    <tr style=\"text-align: right;\">\n",
       "      <th></th>\n",
       "      <th>features</th>\n",
       "      <th>weights</th>\n",
       "      <th>odds</th>\n",
       "      <th>rank</th>\n",
       "    </tr>\n",
       "  </thead>\n",
       "  <tbody>\n",
       "    <tr>\n",
       "      <th>23553</th>\n",
       "      <td>cat37v_e5c2573e</td>\n",
       "      <td>4.147792</td>\n",
       "      <td>63.294112</td>\n",
       "      <td>1.0</td>\n",
       "    </tr>\n",
       "    <tr>\n",
       "      <th>24205</th>\n",
       "      <td>cat37v_06f6f124</td>\n",
       "      <td>2.423117</td>\n",
       "      <td>11.280972</td>\n",
       "      <td>2.0</td>\n",
       "    </tr>\n",
       "    <tr>\n",
       "      <th>24192</th>\n",
       "      <td>cat37v_7e60320b</td>\n",
       "      <td>2.041644</td>\n",
       "      <td>7.703265</td>\n",
       "      <td>3.0</td>\n",
       "    </tr>\n",
       "    <tr>\n",
       "      <th>11007</th>\n",
       "      <td>cat22v_stash_cat22</td>\n",
       "      <td>1.917090</td>\n",
       "      <td>6.801141</td>\n",
       "      <td>4.0</td>\n",
       "    </tr>\n",
       "    <tr>\n",
       "      <th>10106</th>\n",
       "      <td>cat20v_af8f31b5</td>\n",
       "      <td>1.851544</td>\n",
       "      <td>6.369647</td>\n",
       "      <td>5.0</td>\n",
       "    </tr>\n",
       "    <tr>\n",
       "      <th>15324</th>\n",
       "      <td>cat25v_977d7916</td>\n",
       "      <td>1.732871</td>\n",
       "      <td>5.656873</td>\n",
       "      <td>6.0</td>\n",
       "    </tr>\n",
       "    <tr>\n",
       "      <th>21618</th>\n",
       "      <td>cat31v_31941843</td>\n",
       "      <td>1.593091</td>\n",
       "      <td>4.918930</td>\n",
       "      <td>7.0</td>\n",
       "    </tr>\n",
       "    <tr>\n",
       "      <th>21135</th>\n",
       "      <td>cat31v_fe74f288</td>\n",
       "      <td>1.538607</td>\n",
       "      <td>4.658096</td>\n",
       "      <td>8.0</td>\n",
       "    </tr>\n",
       "    <tr>\n",
       "      <th>6262</th>\n",
       "      <td>cat16v_6dd570f4</td>\n",
       "      <td>1.528990</td>\n",
       "      <td>4.613516</td>\n",
       "      <td>9.0</td>\n",
       "    </tr>\n",
       "    <tr>\n",
       "      <th>18010</th>\n",
       "      <td>cat28v_2d49999f</td>\n",
       "      <td>1.504410</td>\n",
       "      <td>4.501497</td>\n",
       "      <td>10.0</td>\n",
       "    </tr>\n",
       "    <tr>\n",
       "      <th>24527</th>\n",
       "      <td>cat39v_e7ecb821</td>\n",
       "      <td>1.384499</td>\n",
       "      <td>3.992826</td>\n",
       "      <td>11.0</td>\n",
       "    </tr>\n",
       "    <tr>\n",
       "      <th>18697</th>\n",
       "      <td>cat28v_7dd9e94e</td>\n",
       "      <td>1.384438</td>\n",
       "      <td>3.992580</td>\n",
       "      <td>12.5</td>\n",
       "    </tr>\n",
       "    <tr>\n",
       "      <th>21245</th>\n",
       "      <td>cat31v_a8019151</td>\n",
       "      <td>1.384438</td>\n",
       "      <td>3.992580</td>\n",
       "      <td>12.5</td>\n",
       "    </tr>\n",
       "    <tr>\n",
       "      <th>23924</th>\n",
       "      <td>cat37v_c0486dfb</td>\n",
       "      <td>1.353272</td>\n",
       "      <td>3.870068</td>\n",
       "      <td>14.0</td>\n",
       "    </tr>\n",
       "    <tr>\n",
       "      <th>18825</th>\n",
       "      <td>cat28v_033862ee</td>\n",
       "      <td>1.256500</td>\n",
       "      <td>3.513104</td>\n",
       "      <td>15.0</td>\n",
       "    </tr>\n",
       "    <tr>\n",
       "      <th>21222</th>\n",
       "      <td>cat31v_87c9f30d</td>\n",
       "      <td>1.246901</td>\n",
       "      <td>3.479542</td>\n",
       "      <td>16.0</td>\n",
       "    </tr>\n",
       "    <tr>\n",
       "      <th>16825</th>\n",
       "      <td>cat26v_61537f27</td>\n",
       "      <td>1.193319</td>\n",
       "      <td>3.298008</td>\n",
       "      <td>17.0</td>\n",
       "    </tr>\n",
       "    <tr>\n",
       "      <th>24342</th>\n",
       "      <td>cat37v_dc0c0119</td>\n",
       "      <td>1.149527</td>\n",
       "      <td>3.156698</td>\n",
       "      <td>18.0</td>\n",
       "    </tr>\n",
       "    <tr>\n",
       "      <th>21225</th>\n",
       "      <td>cat31v_2787cb2b</td>\n",
       "      <td>1.146281</td>\n",
       "      <td>3.146471</td>\n",
       "      <td>19.5</td>\n",
       "    </tr>\n",
       "    <tr>\n",
       "      <th>18658</th>\n",
       "      <td>cat28v_bc5095c8</td>\n",
       "      <td>1.146281</td>\n",
       "      <td>3.146471</td>\n",
       "      <td>19.5</td>\n",
       "    </tr>\n",
       "    <tr>\n",
       "      <th>18267</th>\n",
       "      <td>cat28v_bd7b7794</td>\n",
       "      <td>1.133299</td>\n",
       "      <td>3.105887</td>\n",
       "      <td>21.0</td>\n",
       "    </tr>\n",
       "    <tr>\n",
       "      <th>24749</th>\n",
       "      <td>cat39v_0fd820a6</td>\n",
       "      <td>1.129788</td>\n",
       "      <td>3.095000</td>\n",
       "      <td>22.0</td>\n",
       "    </tr>\n",
       "    <tr>\n",
       "      <th>11137</th>\n",
       "      <td>cat23v_f1b45aab</td>\n",
       "      <td>1.125120</td>\n",
       "      <td>3.080586</td>\n",
       "      <td>23.0</td>\n",
       "    </tr>\n",
       "    <tr>\n",
       "      <th>21568</th>\n",
       "      <td>cat31v_5cd2e5a3</td>\n",
       "      <td>1.108769</td>\n",
       "      <td>3.030626</td>\n",
       "      <td>24.0</td>\n",
       "    </tr>\n",
       "    <tr>\n",
       "      <th>15471</th>\n",
       "      <td>cat25v_a3bdcb7c</td>\n",
       "      <td>1.098950</td>\n",
       "      <td>3.001013</td>\n",
       "      <td>25.0</td>\n",
       "    </tr>\n",
       "    <tr>\n",
       "      <th>24504</th>\n",
       "      <td>cat39v_496b82a5</td>\n",
       "      <td>1.098772</td>\n",
       "      <td>3.000478</td>\n",
       "      <td>26.0</td>\n",
       "    </tr>\n",
       "    <tr>\n",
       "      <th>24629</th>\n",
       "      <td>cat39v_b3606536</td>\n",
       "      <td>1.090462</td>\n",
       "      <td>2.975647</td>\n",
       "      <td>27.0</td>\n",
       "    </tr>\n",
       "    <tr>\n",
       "      <th>24941</th>\n",
       "      <td>cat39v_03f7961c</td>\n",
       "      <td>1.047171</td>\n",
       "      <td>2.849578</td>\n",
       "      <td>28.0</td>\n",
       "    </tr>\n",
       "    <tr>\n",
       "      <th>24817</th>\n",
       "      <td>cat39v_b8adc4e2</td>\n",
       "      <td>1.026873</td>\n",
       "      <td>2.792320</td>\n",
       "      <td>29.0</td>\n",
       "    </tr>\n",
       "    <tr>\n",
       "      <th>9999</th>\n",
       "      <td>cat20v_6e8d859c</td>\n",
       "      <td>1.012343</td>\n",
       "      <td>2.752042</td>\n",
       "      <td>30.0</td>\n",
       "    </tr>\n",
       "    <tr>\n",
       "      <th>21567</th>\n",
       "      <td>cat31v_7df94842</td>\n",
       "      <td>1.003896</td>\n",
       "      <td>2.728892</td>\n",
       "      <td>31.0</td>\n",
       "    </tr>\n",
       "  </tbody>\n",
       "</table>\n",
       "</div>"
      ],
      "text/plain": [
       "                 features   weights       odds  rank\n",
       "23553     cat37v_e5c2573e  4.147792  63.294112   1.0\n",
       "24205     cat37v_06f6f124  2.423117  11.280972   2.0\n",
       "24192     cat37v_7e60320b  2.041644   7.703265   3.0\n",
       "11007  cat22v_stash_cat22  1.917090   6.801141   4.0\n",
       "10106     cat20v_af8f31b5  1.851544   6.369647   5.0\n",
       "15324     cat25v_977d7916  1.732871   5.656873   6.0\n",
       "21618     cat31v_31941843  1.593091   4.918930   7.0\n",
       "21135     cat31v_fe74f288  1.538607   4.658096   8.0\n",
       "6262      cat16v_6dd570f4  1.528990   4.613516   9.0\n",
       "18010     cat28v_2d49999f  1.504410   4.501497  10.0\n",
       "24527     cat39v_e7ecb821  1.384499   3.992826  11.0\n",
       "18697     cat28v_7dd9e94e  1.384438   3.992580  12.5\n",
       "21245     cat31v_a8019151  1.384438   3.992580  12.5\n",
       "23924     cat37v_c0486dfb  1.353272   3.870068  14.0\n",
       "18825     cat28v_033862ee  1.256500   3.513104  15.0\n",
       "21222     cat31v_87c9f30d  1.246901   3.479542  16.0\n",
       "16825     cat26v_61537f27  1.193319   3.298008  17.0\n",
       "24342     cat37v_dc0c0119  1.149527   3.156698  18.0\n",
       "21225     cat31v_2787cb2b  1.146281   3.146471  19.5\n",
       "18658     cat28v_bc5095c8  1.146281   3.146471  19.5\n",
       "18267     cat28v_bd7b7794  1.133299   3.105887  21.0\n",
       "24749     cat39v_0fd820a6  1.129788   3.095000  22.0\n",
       "11137     cat23v_f1b45aab  1.125120   3.080586  23.0\n",
       "21568     cat31v_5cd2e5a3  1.108769   3.030626  24.0\n",
       "15471     cat25v_a3bdcb7c  1.098950   3.001013  25.0\n",
       "24504     cat39v_496b82a5  1.098772   3.000478  26.0\n",
       "24629     cat39v_b3606536  1.090462   2.975647  27.0\n",
       "24941     cat39v_03f7961c  1.047171   2.849578  28.0\n",
       "24817     cat39v_b8adc4e2  1.026873   2.792320  29.0\n",
       "9999      cat20v_6e8d859c  1.012343   2.752042  30.0\n",
       "21567     cat31v_7df94842  1.003896   2.728892  31.0"
      ]
     },
     "execution_count": 19,
     "metadata": {},
     "output_type": "execute_result"
    }
   ],
   "source": [
    "# Inspect which stash variable has a non-negligible weights in the 3k threshold model.\"\n",
    "coef_3k[coef_3k['weights']>1].sort_values(by='weights',ascending=False)\n"
   ]
  },
  {
   "cell_type": "markdown",
   "metadata": {},
   "source": [
    "\n",
    "## 4.3 Random Forest\n",
    "\n",
    "PySpark provides a `RandomForestClassifier` algorithm in the `pyspark.ml.classification` package and we chose to use this rather than write one from scratch. In order to use this classifier, we must perform some preprocessing on the input data to get it into the format the algorithm expects.\n",
    "\n",
    "### 4.3.1 Preprocesing - Random Forest\n",
    "\n",
    "1. One hot encode categorical features but only emit features for categorical values who have more than 10,000 instances\n",
    "2. Combine these one hot encoded features with the numerical values and vectorize them to a single dataframe column\n",
    "3. Convert the target variable from a boolean value to a string value\n",
    "\n",
    "For the first step, we chose to filter out categorical values who have less than 10,000 instances as there were several columns that had over 1 million distinct values (in the full dataset), many of which only had a handful of instances. If we were to include these in the final dataset, it would increase the dimensionality of our data by many magnitudes while leading to a high variance and failing to generalize.\n",
    "\n",
    "Many of the included algorithms in the `pyspark.ml` package require the data to be in a vectorized format, so this step was required. Given a list of columns, the `pyspark.ml.feature.VectorAssembler` class generates a single vector column of the concatenated features with the elements ordered by the input columns. For example given this dataframe:\n",
    "\n",
    "|`x1`|`x2`|`x3`|\n",
    "|---|---|---|\n",
    "|`5`|`3`|`-10`|\n",
    "\n",
    "The `VectorAssembler` would output this value to a new column: `[5,3,-10]`.\n",
    "\n",
    "Lastly, the target variable was changed from a boolean type to a string type which is required by the `pyspark.ml.feature.StringIndexer` class. The `StringIndexer` indexes each class and is required by the classification algorithms in PySpark.\n",
    "\n",
    "Since random forests do not require feature engineering and are able to handle `NA` values, no other preprocessing was done. This data was saved to parquet for later use when we run the training of our algorithm. This code can be found in `random_forest/transform.py` and was executed as a PySpark job.\n",
    "\n",
    "### 4.3.2 Training - Random Forest \n",
    " \n",
    "The data used for training was read in from the parquet files generated during the preprocessing step above but was first split into a train and test dataset with a 70/30 split. The training dataset was used for training and the test dataset was used for testing the performance of the trained model. This code for this section is located in `random_forest/train.py` and was also executed as a PySpark job.\n",
    "\n",
    "On our first several trainings, we noticed the loss was fairly high and we discovered the class imbalance in our dataset was the likely culprit since random forests are sensitive to class imbalances in the training data. Given an imbalance, they will bias towards the class(es) that have more examples. To address this, we performed an oversampling of the underrepresented class in the training dataset. In this case the \"not clicked\" class ($y = 0$) comprised around 75% of the dataset, while the \"clicked\" class ($y = 1$) comprised the remaining 25%. Our oversampling strategy then became to duplicate the \"clicked\" examples twice giving a more balanced dataset. This approach lowered our loss over 35% on the test dataset. Note that this oversampling was only performed on the training dataset and not the test dataset.\n",
    "\n",
    "Random forests have relatively few hyperparameters compared to other classification algorithms. The two important ones are the number of trees (`numTrees` parameter) and the maximum tree depth (`maxDepth` parameter). Several combinations of these were tried and we found that 40 trees gave the least amount of loss. Changing the maximum tree depth didn't have much of an effect on the loss but did cause the training process to run much longer when increased, so the default of 5 was chosen. One other hyperparameter that was tuned was the one that controls the number of bins used for continuous values (`maxBins` parameter). This also had no notable effect and was left at the default of 32.\n",
    "\n",
    "### 4.3.3 Evaluation - Random Forest\n",
    "\n",
    "To evaluate the performance of our model, we chose to use the log loss as discussed in Section 2. To implement this, after training, we ran prediction across the test dataset that we split earlier and calculated the loss for each test example. This value was averaged over all of the results and produced a final loss of `0.7091`.\n",
    "\n",
    "\n",
    "### 4.3.4 Execution - Random Forest\n",
    "\n",
    "To run the code:\n",
    "\n",
    "```bash\n",
    "# create an autoscaling policy for the cluster to automatically scale number of workers - only need to run first time\n",
    "gcloud dataproc autoscaling-policies import autoscaling-policy --source=autoscaling.yml\n",
    "\n",
    "# preprocess the data\n",
    "python submit_job_to_cluster.py --project_id=${PROJECT_ID} --zone=${ZONE} --cluster_name=${CLUSTER_NAME} --gcs_bucket=${BUCKET} --key_file=${KEY} --create_new_cluster --pyspark_file=transform.py\n",
    "\n",
    "# run training\n",
    "python dataproc/submit_job_to_cluster.py  --project_id=${PROJECT_ID} --zone=${ZONE} --cluster_name=${CLUSTER_NAME} --gcs_bucket=${BUCKET} --key_file=${KEY} --create_new_cluster --pyspark_file=train.py\n",
    "```\n",
    "\n",
    "The preprocessing job takes around 20-30 minutes and the training job takes around 75 minutes."
   ]
  },
  {
   "cell_type": "markdown",
   "metadata": {},
   "source": [
    "## 4.4 Results"
   ]
  },
  {
   "cell_type": "markdown",
   "metadata": {},
   "source": [
    "We find that the random forest algorithm has some advantages and disadvantages. Perhaps the largest advantage is that random forests do not require any feature selection and only very minor feature engineering, if any. We were able to get a random tree classifier working relatively easily using the data with a few modifications to pare down the dimensionality. Random forests are also able to compensate for the overfitting that can come from a single decision tree. However, a downside to random forests that we experienced is that they require balanced classes in the training data. Due to the high class imbalance in our dataset, we saw this manifest as a bias towards the majority class.\n",
    "\n",
    "Logistic regression performed better in terms of the final log loss. Our model gave a better log loss when trained on the 3K (25,373 variables) vs 10K (9,965 variables) threshold data, which with a larger number of variables was able improve the prediction accuracy versus the lower variable model. This more strict 10K threshold may have lumped too may have marked variables as stash too liberally, thereby supressing the importance of some coefficients which in turn seem to have lead to better results. Furthermore, the Logistic Regression's final metrics stand at 40% and 60% for precision and recall, respectively. These prove to be better than the \"guessing\" method we described in Section 1 and we conclude that we have established a model that meets our requirements.\n",
    "\n",
    "Because we chose to use one-hot-encoding, our Logistic Regression model was able to assign single coefficients to each of the unique values of the different variables we had spawned from each feature. On the other hand, Random Forest did not treat the numerical variables as categorical variables, and the model was unable to capture the skewed distribution as it assigned single coefficients to each feature column, instead of assigning coefficients to the unique values of those columns. This behavior leads to a more underfit model, leading to broader genralizations and a higher loss than the Logistic Regression\n",
    "\n",
    "The hash model could be run in production as a good abstraction of the OHE model, with the capability of online learning. The OHE model could be run periodically which will allow the datascience team to measure the impact of different variables, establish the importance, and measure the impact of the content, placement and pricing strategies."
   ]
  },
  {
   "cell_type": "markdown",
   "metadata": {},
   "source": [
    "# Section 5. Application of Course Concepts"
   ]
  },
  {
   "cell_type": "markdown",
   "metadata": {},
   "source": [
    "Pick 3-5 key course concepts and discuss how your work on this assignment illustrates an understanding of these concepts."
   ]
  },
  {
   "cell_type": "markdown",
   "metadata": {},
   "source": [
    "## 5.1 Sparse Representation\n",
    "\n",
    "(references: Week 4 Async - 4.2 Pairs and Stripes + https://towardsdatascience.com/feature-encoding-with-spark-2-3-0-part-1-9ede45562740)\n",
    "\n",
    "Sparse representation becomes usefull when trying to scale a large data set of feature variables, as is the case of our dataset. While one-hot encoding improves data interpretability and helps address multicollinearity, the feature vector become extremly large when dealing with many features with many unique values. Instead, it is recommended to use a sparse representation of the matrix to address scalability.\n",
    "\n",
    "Tkaing a sample row from our one-hot-encoded matrix:\n",
    "\n",
    "```\n",
    "[1     0     0     0     0     0     0     0     1     0]\n",
    "```\n",
    "\n",
    "We were able to reduce the representation to a sparse vector as below:\n",
    "\n",
    "```\n",
    "[10,  [0,  8], [1.0,  1.0]] \n",
    "```\n",
    "\n",
    "Where the first value is the length of the vector, the second value is the list of indices that contain non-zero values, and the third list contains the corresponding values. This is very similar to the Stripes representation which we learned about when working with Spark MapReduce. With this sparse representation, we are able to reduce the size of the vector, while also decrease the information overhead being transfered. \n",
    "\n",
    "To create the pipeline for our sparse representation, we used a three step pipeline which ran through a `StringIndexer`, a `OneHotEncoder` and a `VectorAssembler`. We'll start by loading up our toy example"
   ]
  },
  {
   "cell_type": "code",
   "execution_count": 21,
   "metadata": {
    "collapsed": false
   },
   "outputs": [
    {
     "name": "stdout",
     "output_type": "stream",
     "text": [
      "+---+---+----+----+\n",
      "|  y| o1|cat2|cat3|\n",
      "+---+---+----+----+\n",
      "|  0|  1|null|   x|\n",
      "|  0|  1|   b|   y|\n",
      "|  0|  1|   c|   x|\n",
      "|  0|  1|   d|   y|\n",
      "|  0|  1|   a|   x|\n",
      "|  0|  2|null|   y|\n",
      "|  0|  2|   c|   x|\n",
      "|  0|  2|   d|   y|\n",
      "|  0|  2|   a|   x|\n",
      "|  0|  2|   b|   y|\n",
      "|  1|  3|null|   x|\n",
      "|  1|  3|   d|   y|\n",
      "|  1|  3|   a|   x|\n",
      "|  1|  3|   b|   y|\n",
      "|  1|  3|   c|   x|\n",
      "|  1|  4|null|   y|\n",
      "|  1|  4|   a|   x|\n",
      "|  1|  4|   b|   y|\n",
      "|  1|  4|   c|   x|\n",
      "|  1|  4|   d|   y|\n",
      "+---+---+----+----+\n",
      "\n"
     ]
    }
   ],
   "source": [
    "df, _ = load_pyspark_dataframes()\n",
    "df.show()"
   ]
  },
  {
   "cell_type": "markdown",
   "metadata": {},
   "source": [
    "### 5.1.1 StringIndexer\n",
    "\n",
    "`StringIndexer` is a feature indexing method that encodes a column of string categories into columns of indices. The indices range from 0 to `N`, where `N` is the total number of labels. The ordering of the indices is based on number of occurrences of the given category. Let's observe the output of the indexer on our toy dataset:"
   ]
  },
  {
   "cell_type": "code",
   "execution_count": 22,
   "metadata": {
    "collapsed": false
   },
   "outputs": [
    {
     "name": "stdout",
     "output_type": "stream",
     "text": [
      "+---+---+----+----+-------+---------+---------+\n",
      "|  y| o1|cat2|cat3|o1_Indx|cat2_Indx|cat3_Indx|\n",
      "+---+---+----+----+-------+---------+---------+\n",
      "|  0|  1|null|   x|    3.0|      4.0|      0.0|\n",
      "|  0|  1|   b|   y|    3.0|      2.0|      1.0|\n",
      "|  0|  1|   c|   x|    3.0|      3.0|      0.0|\n",
      "|  0|  1|   d|   y|    3.0|      0.0|      1.0|\n",
      "|  0|  1|   a|   x|    3.0|      1.0|      0.0|\n",
      "|  0|  2|null|   y|    1.0|      4.0|      1.0|\n",
      "|  0|  2|   c|   x|    1.0|      3.0|      0.0|\n",
      "|  0|  2|   d|   y|    1.0|      0.0|      1.0|\n",
      "|  0|  2|   a|   x|    1.0|      1.0|      0.0|\n",
      "|  0|  2|   b|   y|    1.0|      2.0|      1.0|\n",
      "|  1|  3|null|   x|    2.0|      4.0|      0.0|\n",
      "|  1|  3|   d|   y|    2.0|      0.0|      1.0|\n",
      "|  1|  3|   a|   x|    2.0|      1.0|      0.0|\n",
      "|  1|  3|   b|   y|    2.0|      2.0|      1.0|\n",
      "|  1|  3|   c|   x|    2.0|      3.0|      0.0|\n",
      "|  1|  4|null|   y|    0.0|      4.0|      1.0|\n",
      "|  1|  4|   a|   x|    0.0|      1.0|      0.0|\n",
      "|  1|  4|   b|   y|    0.0|      2.0|      1.0|\n",
      "|  1|  4|   c|   x|    0.0|      3.0|      0.0|\n",
      "|  1|  4|   d|   y|    0.0|      0.0|      1.0|\n",
      "+---+---+----+----+-------+---------+---------+\n",
      "\n"
     ]
    }
   ],
   "source": [
    "# The categories we will be transforming\n",
    "cat_cols = [ 'o1', 'cat2', 'cat3']\n",
    "\n",
    "\n",
    "# Indexers\n",
    "indexers = [StringIndexer(inputCol= c, \n",
    "                         outputCol=\"{0}_Indx\".format(c), \n",
    "                         handleInvalid=\"keep\") \n",
    "           for c in cat_cols]\n",
    "\n",
    "\n",
    "# Pipeline to run the indexers\n",
    "pipeline = Pipeline(stages = indexers) \n",
    "model = pipeline.fit(df)\n",
    "transformed = model.transform(df)\n",
    "\n",
    "\n",
    "transformed.show()"
   ]
  },
  {
   "cell_type": "markdown",
   "metadata": {},
   "source": [
    "By specifiying the columns to convert, we are able to generate numerical categorical values for our variables. While the feature columns are preserved, we add a index column for each feature which contains the indexed value for each entry"
   ]
  },
  {
   "cell_type": "markdown",
   "metadata": {},
   "source": [
    "### 5.1.2 OneHotEncoderEstimator\n",
    "\n",
    "\n",
    "#### Advantages of one-hot encoding include:\n",
    " - Mitigates the concern for multicollinearity; \n",
    " - Ensures distinct values of categorical variables have meaning \n",
    " - Improves interpretability of the data\n",
    "\n",
    "#### Disadvantages of one-hot encoding include:\n",
    "- Can increase storage and processing time, particularly with high dimensionality introduced by one-hot encoding of variables with a large number of distinct values. \n",
    "- Feature space will be constantly changing with different samples and validation sets. When the feature set changes with new samples, there is a need to retrain on the data and ensure the validation set has a consistent set of one-hot encoded variables.\n",
    "\n",
    "As a compromise solution, feature hashing can be used to define a fixed feature set. This facilitates training on a new data set and mitigates the concern with scaling. However, interpretability is lost and there will be multiple features mapped to one dimension leading to collisions as discussed in Section 2.1.4 (Hash Transformation).\n",
    "\n",
    "Now we can take a look at how one-hot-encoding operates within our sparse vectorization pipeline. Spark's `OneHotEncoderEstimator` takes the indexed output of `StringIndexer` and encodes it as a sparse vector. This is the middle step, as after this we will assemble our vector using this output.\n"
   ]
  },
  {
   "cell_type": "code",
   "execution_count": 25,
   "metadata": {
    "collapsed": false
   },
   "outputs": [
    {
     "name": "stdout",
     "output_type": "stream",
     "text": [
      "+---+---+----+----+-------+---------+---------+-------------+-------------+-------------+\n",
      "|  y| o1|cat2|cat3|o1_Indx|cat2_Indx|cat3_Indx|          o1v|        cat2v|        cat3v|\n",
      "+---+---+----+----+-------+---------+---------+-------------+-------------+-------------+\n",
      "|  0|  1|null|   x|    3.0|      4.0|      0.0|(4,[3],[1.0])|    (4,[],[])|(2,[0],[1.0])|\n",
      "|  0|  1|   b|   y|    3.0|      2.0|      1.0|(4,[3],[1.0])|(4,[2],[1.0])|(2,[1],[1.0])|\n",
      "|  0|  1|   c|   x|    3.0|      3.0|      0.0|(4,[3],[1.0])|(4,[3],[1.0])|(2,[0],[1.0])|\n",
      "|  0|  1|   d|   y|    3.0|      0.0|      1.0|(4,[3],[1.0])|(4,[0],[1.0])|(2,[1],[1.0])|\n",
      "|  0|  1|   a|   x|    3.0|      1.0|      0.0|(4,[3],[1.0])|(4,[1],[1.0])|(2,[0],[1.0])|\n",
      "|  0|  2|null|   y|    1.0|      4.0|      1.0|(4,[1],[1.0])|    (4,[],[])|(2,[1],[1.0])|\n",
      "|  0|  2|   c|   x|    1.0|      3.0|      0.0|(4,[1],[1.0])|(4,[3],[1.0])|(2,[0],[1.0])|\n",
      "|  0|  2|   d|   y|    1.0|      0.0|      1.0|(4,[1],[1.0])|(4,[0],[1.0])|(2,[1],[1.0])|\n",
      "|  0|  2|   a|   x|    1.0|      1.0|      0.0|(4,[1],[1.0])|(4,[1],[1.0])|(2,[0],[1.0])|\n",
      "|  0|  2|   b|   y|    1.0|      2.0|      1.0|(4,[1],[1.0])|(4,[2],[1.0])|(2,[1],[1.0])|\n",
      "|  1|  3|null|   x|    2.0|      4.0|      0.0|(4,[2],[1.0])|    (4,[],[])|(2,[0],[1.0])|\n",
      "|  1|  3|   d|   y|    2.0|      0.0|      1.0|(4,[2],[1.0])|(4,[0],[1.0])|(2,[1],[1.0])|\n",
      "|  1|  3|   a|   x|    2.0|      1.0|      0.0|(4,[2],[1.0])|(4,[1],[1.0])|(2,[0],[1.0])|\n",
      "|  1|  3|   b|   y|    2.0|      2.0|      1.0|(4,[2],[1.0])|(4,[2],[1.0])|(2,[1],[1.0])|\n",
      "|  1|  3|   c|   x|    2.0|      3.0|      0.0|(4,[2],[1.0])|(4,[3],[1.0])|(2,[0],[1.0])|\n",
      "|  1|  4|null|   y|    0.0|      4.0|      1.0|(4,[0],[1.0])|    (4,[],[])|(2,[1],[1.0])|\n",
      "|  1|  4|   a|   x|    0.0|      1.0|      0.0|(4,[0],[1.0])|(4,[1],[1.0])|(2,[0],[1.0])|\n",
      "|  1|  4|   b|   y|    0.0|      2.0|      1.0|(4,[0],[1.0])|(4,[2],[1.0])|(2,[1],[1.0])|\n",
      "|  1|  4|   c|   x|    0.0|      3.0|      0.0|(4,[0],[1.0])|(4,[3],[1.0])|(2,[0],[1.0])|\n",
      "|  1|  4|   d|   y|    0.0|      0.0|      1.0|(4,[0],[1.0])|(4,[0],[1.0])|(2,[1],[1.0])|\n",
      "+---+---+----+----+-------+---------+---------+-------------+-------------+-------------+\n",
      "\n"
     ]
    }
   ],
   "source": [
    "# OneHotEncoderEstimator to create list representation of categorical variables\n",
    "cat_vecs = [ 'o1v', 'cat2v', 'cat3v']\n",
    "encoder = OneHotEncoderEstimator(inputCols = [indexer.getOutputCol() for indexer in indexers], \n",
    "                                  outputCols = cat_vecs, \n",
    "                                  dropLast = True)\n",
    "\n",
    "\n",
    "#creating the full transform pipeline       \n",
    "pipeline = Pipeline(stages = indexers + [encoder])\n",
    "\n",
    "model = pipeline.fit(df)\n",
    "\n",
    "transformed = model.transform(df)\n",
    "\n",
    "\n",
    "transformed.show()"
   ]
  },
  {
   "cell_type": "markdown",
   "metadata": {},
   "source": [
    "The output columns of `o1v`, `cat2v`, and `cat3v` represent sparse vectors for our individual rows. For example, in the first row, `o1v` shows 4 (the maximum value in the `o1` column), [3] (the index of where the value would be found), and [1.0] (the value we would see at this position). We notice this is a bit different than the boolean representation we are used to for a one-hot-encoded vector. In the next step, we will see how the `OneHotEncoderEstimator`'s output sets up the final combination which generates our sparse representation.\n",
    "\n",
    "\n",
    "### 5.1.3 VectorAssembler\n",
    "\n",
    "The final stage in the pipeline is the `VectorAssembler`, which brings our sparse representation together. Its role is to combine the new features that are generated using the Indexer and `OneHotEncoder` with the original features. The `VectorIndexer` is used as the last step that combines all the features to create our training data. After this step, we have a single sparse vector for each value. "
   ]
  },
  {
   "cell_type": "code",
   "execution_count": 26,
   "metadata": {
    "collapsed": false
   },
   "outputs": [
    {
     "name": "stdout",
     "output_type": "stream",
     "text": [
      "+---+---+----+----+-------+---------+---------+-------------+-------------+-------------+--------------------+\n",
      "|  y| o1|cat2|cat3|o1_Indx|cat2_Indx|cat3_Indx|          o1v|        cat2v|        cat3v|            features|\n",
      "+---+---+----+----+-------+---------+---------+-------------+-------------+-------------+--------------------+\n",
      "|  0|  1|null|   x|    3.0|      4.0|      0.0|(4,[3],[1.0])|    (4,[],[])|(2,[0],[1.0])|(10,[3,8],[1.0,1.0])|\n",
      "|  0|  1|   b|   y|    3.0|      2.0|      1.0|(4,[3],[1.0])|(4,[2],[1.0])|(2,[1],[1.0])|(10,[3,6,9],[1.0,...|\n",
      "|  0|  1|   c|   x|    3.0|      3.0|      0.0|(4,[3],[1.0])|(4,[3],[1.0])|(2,[0],[1.0])|(10,[3,7,8],[1.0,...|\n",
      "|  0|  1|   d|   y|    3.0|      0.0|      1.0|(4,[3],[1.0])|(4,[0],[1.0])|(2,[1],[1.0])|(10,[3,4,9],[1.0,...|\n",
      "|  0|  1|   a|   x|    3.0|      1.0|      0.0|(4,[3],[1.0])|(4,[1],[1.0])|(2,[0],[1.0])|(10,[3,5,8],[1.0,...|\n",
      "|  0|  2|null|   y|    1.0|      4.0|      1.0|(4,[1],[1.0])|    (4,[],[])|(2,[1],[1.0])|(10,[1,9],[1.0,1.0])|\n",
      "|  0|  2|   c|   x|    1.0|      3.0|      0.0|(4,[1],[1.0])|(4,[3],[1.0])|(2,[0],[1.0])|(10,[1,7,8],[1.0,...|\n",
      "|  0|  2|   d|   y|    1.0|      0.0|      1.0|(4,[1],[1.0])|(4,[0],[1.0])|(2,[1],[1.0])|(10,[1,4,9],[1.0,...|\n",
      "|  0|  2|   a|   x|    1.0|      1.0|      0.0|(4,[1],[1.0])|(4,[1],[1.0])|(2,[0],[1.0])|(10,[1,5,8],[1.0,...|\n",
      "|  0|  2|   b|   y|    1.0|      2.0|      1.0|(4,[1],[1.0])|(4,[2],[1.0])|(2,[1],[1.0])|(10,[1,6,9],[1.0,...|\n",
      "|  1|  3|null|   x|    2.0|      4.0|      0.0|(4,[2],[1.0])|    (4,[],[])|(2,[0],[1.0])|(10,[2,8],[1.0,1.0])|\n",
      "|  1|  3|   d|   y|    2.0|      0.0|      1.0|(4,[2],[1.0])|(4,[0],[1.0])|(2,[1],[1.0])|(10,[2,4,9],[1.0,...|\n",
      "|  1|  3|   a|   x|    2.0|      1.0|      0.0|(4,[2],[1.0])|(4,[1],[1.0])|(2,[0],[1.0])|(10,[2,5,8],[1.0,...|\n",
      "|  1|  3|   b|   y|    2.0|      2.0|      1.0|(4,[2],[1.0])|(4,[2],[1.0])|(2,[1],[1.0])|(10,[2,6,9],[1.0,...|\n",
      "|  1|  3|   c|   x|    2.0|      3.0|      0.0|(4,[2],[1.0])|(4,[3],[1.0])|(2,[0],[1.0])|(10,[2,7,8],[1.0,...|\n",
      "|  1|  4|null|   y|    0.0|      4.0|      1.0|(4,[0],[1.0])|    (4,[],[])|(2,[1],[1.0])|(10,[0,9],[1.0,1.0])|\n",
      "|  1|  4|   a|   x|    0.0|      1.0|      0.0|(4,[0],[1.0])|(4,[1],[1.0])|(2,[0],[1.0])|(10,[0,5,8],[1.0,...|\n",
      "|  1|  4|   b|   y|    0.0|      2.0|      1.0|(4,[0],[1.0])|(4,[2],[1.0])|(2,[1],[1.0])|(10,[0,6,9],[1.0,...|\n",
      "|  1|  4|   c|   x|    0.0|      3.0|      0.0|(4,[0],[1.0])|(4,[3],[1.0])|(2,[0],[1.0])|(10,[0,7,8],[1.0,...|\n",
      "|  1|  4|   d|   y|    0.0|      0.0|      1.0|(4,[0],[1.0])|(4,[0],[1.0])|(2,[1],[1.0])|(10,[0,4,9],[1.0,...|\n",
      "+---+---+----+----+-------+---------+---------+-------------+-------------+-------------+--------------------+\n",
      "\n"
     ]
    }
   ],
   "source": [
    "# VectorAssembler: Create sparse representation of indexed column\n",
    "\n",
    "assembler = VectorAssembler(inputCols=encoder.getOutputCols(), outputCol = 'features')\n",
    "\n",
    "pipeline = Pipeline(stages = indexers + [encoder] + [assembler] )\n",
    "model = pipeline.fit(df)\n",
    "transformed = model.transform(df)\n",
    "transformed.show(truncate=True)"
   ]
  },
  {
   "cell_type": "code",
   "execution_count": 38,
   "metadata": {
    "collapsed": false
   },
   "outputs": [
    {
     "data": {
      "text/plain": [
       "[Row(features=SparseVector(10, {3: 1.0, 8: 1.0})),\n",
       " Row(features=SparseVector(10, {3: 1.0, 6: 1.0, 9: 1.0})),\n",
       " Row(features=SparseVector(10, {3: 1.0, 7: 1.0, 8: 1.0})),\n",
       " Row(features=SparseVector(10, {3: 1.0, 4: 1.0, 9: 1.0})),\n",
       " Row(features=SparseVector(10, {3: 1.0, 5: 1.0, 8: 1.0})),\n",
       " Row(features=SparseVector(10, {1: 1.0, 9: 1.0})),\n",
       " Row(features=SparseVector(10, {1: 1.0, 7: 1.0, 8: 1.0})),\n",
       " Row(features=SparseVector(10, {1: 1.0, 4: 1.0, 9: 1.0})),\n",
       " Row(features=SparseVector(10, {1: 1.0, 5: 1.0, 8: 1.0})),\n",
       " Row(features=SparseVector(10, {1: 1.0, 6: 1.0, 9: 1.0})),\n",
       " Row(features=SparseVector(10, {2: 1.0, 8: 1.0})),\n",
       " Row(features=SparseVector(10, {2: 1.0, 4: 1.0, 9: 1.0})),\n",
       " Row(features=SparseVector(10, {2: 1.0, 5: 1.0, 8: 1.0})),\n",
       " Row(features=SparseVector(10, {2: 1.0, 6: 1.0, 9: 1.0})),\n",
       " Row(features=SparseVector(10, {2: 1.0, 7: 1.0, 8: 1.0})),\n",
       " Row(features=SparseVector(10, {0: 1.0, 9: 1.0})),\n",
       " Row(features=SparseVector(10, {0: 1.0, 5: 1.0, 8: 1.0})),\n",
       " Row(features=SparseVector(10, {0: 1.0, 6: 1.0, 9: 1.0})),\n",
       " Row(features=SparseVector(10, {0: 1.0, 7: 1.0, 8: 1.0})),\n",
       " Row(features=SparseVector(10, {0: 1.0, 4: 1.0, 9: 1.0}))]"
      ]
     },
     "execution_count": 38,
     "metadata": {},
     "output_type": "execute_result"
    }
   ],
   "source": [
    "transformed.select(\"features\").collect()"
   ]
  },
  {
   "cell_type": "markdown",
   "metadata": {},
   "source": [
    "As we can see, the `features` column is now made up of SparseVectors, where the first value is 10 (the total number of unique values), the second is a list of the indices, and the third is the values we would see at these indices. This representation is much easier to digest for our model and exemplifies the advantages of a sparse representation. Rather than feeding our model a high-dimensional one-hot-encoded vector, we are able to represent each input row in a sparse representation, with only the necessary information contained in a vector. Notice how the list of indices in the first row only has 2 values, while the second row's list contains three. This is because we see a `null` value in the `cat2` column and we are able to save space by ignoring using a value here to represent the `null`. With this features column, we are able to represent each row with a single vector."
   ]
  },
  {
   "cell_type": "markdown",
   "metadata": {},
   "source": [
    "## 5.2 Bias-variance tradeoff\n",
    "\n",
    "Decisions on the choice of model impose a tradeoff in the ability to minimize bias and variance. These can help evaluate model results and avoid the mistake of over- or under-fitting.\n",
    "\n",
    "### 5.2.1 Bagging\n",
    "\n",
    "In an effort to reduce variance in model predictions, bagging and other resampling techniques can be used. In bagging, numerous replicates of the original data set are created using random selection with replacement. Each data set is then used to construct a new model and the models are gathered together into an ensemble. To make a prediction, all of the models in the ensemble are polled and their results are averaged. This is referenced in the article \"Understanding the Bias-Variance Tradeoff\" (June 2012) <http://scott.fortmann-roe.com/docs/BiasVariance.html>\n",
    "\n",
    "In our project, we utilized bagging by using a random forest model. Random Forests works by training numerous decision trees each based on a different resampling of the original training data. In Random Forests the bias of the full model is equivalent to the bias of a single decision tree (which itself has high variance). By creating many of these trees, in effect a \"forest\", and then averaging them the variance of the final model can be greatly reduced over that of a single tree. In practice the only limitation on the size of the forest is computing time as an infinite number of trees could be trained without ever increasing bias and with a continual (if asymptotically declining) decrease in the variance.\n",
    "\n",
    "\n",
    "### 5.2.2 Regularization\n",
    "\n",
    "(reference: Reference: Week 7 live sesion (demo7_workbook.ipynb) and Async video 7.4 - Logistic Regression at scale)\n",
    "\n",
    "Choosing the appropriate combination of features in order to optimize generalizability can be computationally costly since there are $2^{p}$ features that can be built from $p$ features. Ridge regression and Lasso regression allow us to train generalizable models without worrying too much on feature selection. Both ridge regression and Lasso regression methods account for the bias-variance tradeoff by shrinking the model coefficients towards zero, reducing the variance of the model with little increase in bias. The shrinkage is achieved by adding a regularization penalty term to the Mean Squared Error loss function. \n",
    "\n",
    "The Logistic Regression loss function for Ridge Regression, combining the loss term and regularization term, is: \n",
    "\n",
    "$\\begin{equation}\n",
    "f(\\boldsymbol{w}) = \\sum_{i=1}^{n}(log(1+exp^{-y(\\boldsymbol{w}^T\\cdot\\mathbf{x}'_i + b)})\\end{equation} + \\lambda(w_{i})^2$ \n",
    " \n",
    "The gradient for Logistic Ridge Regression is:\n",
    "\n",
    "$\\begin{equation}\n",
    "\\nabla_{\\boldsymbol{w}} f(\\boldsymbol{w}) = \\sum_{i=1}^{n} - y\\left(1-\\frac{1}{1+exp^{-y(\\boldsymbol{w}^T\\cdot\\mathbf{x}'_i + b)}}\\right)\\cdot\\mathbf{x}'_i \\end{equation} + \\lambda\\sum_{i=1}^{n} w_{i}$\n",
    "\n",
    "This extra regularization term step minimizes variance of the loss function and prevents overfitting. It is iteratively updated in our gradient descent algorithm until we reach convergence: $\\boldsymbol{w} = \\boldsymbol{w} - \\eta\\nabla_{\\boldsymbol{w}}$, where $\\eta$ is the learning rate. This extra step adds the sum of coefficients weighted by the regularization parameter to our gradient descent algorithm.\n",
    "\n",
    "Discussion on the computing the loss function with regularization and taking the gradient of the regularization term is discussed in the ISL reading, chapter 6.2.1 (with Ridge loss equation referenced in equation 6.5), asynchronous lecture 7.4 and demo7 workbook (Demo 2).\n",
    "\n",
    "The loss function for Logistic Lasso Regression, combining the loss term and regularization term, is: \n",
    "\n",
    "$\\begin{equation}\n",
    "f(\\boldsymbol{w}) = \\sum_{i=1}^{n}(log(1+exp^{-y(\\boldsymbol{w}^T\\cdot\\mathbf{x}'_i + b)})\\end{equation} + \\lambda |w_{i}|$ \n",
    " \n",
    "The gradient for Logistic Lasso Regression is: \n",
    "\n",
    "$\\begin{equation}\n",
    "\\nabla_{\\boldsymbol{w}} f(\\boldsymbol{w}) = \\sum_{i=1}^{n} - y\\left(1-\\frac{1}{1+exp^{-y(\\boldsymbol{w}^T\\cdot\\mathbf{x}'_i + b)}}\\right)\\cdot\\mathbf{x}'_i \\end{equation} + \\lambda(1_{>0}w_{i}*2-1)$\n",
    "\n",
    "where $1_{>0}$ is an indicator for the sign of $w_{i}$ (if $w_{i}$>0 the operand takes on a value of 1; if $w_{i}$<0 the operand takes on a value of -1).\n",
    "\n",
    "Discussion on the computing the loss function with regularization and taking the gradient of the regularization term is discussed in ISL reading, chapter 6.2.2 (with Lasso loss equation referenced in equation 6.7), asynchronous lecture 7.4. \n",
    "\n",
    "The gradient descent update in Lasso regression differs from Ridge in that Lasso imposes a stronger regularization term and ensures a stronger shrinkage of $\\boldsymbol{w}$. When minimizing a loss function with a regularization term, each of the entries in our parameters vector is being pulled down closer to zero. Lasso gradient descent can lead to a weight vector equal zero in each update if $\\lambda$ is sufficiently large; whereas Ridge gradient descent will not drive the weight vectors all the way to zero (unless $\\lambda=\\infty$).\n",
    "\n",
    "In our project, we utilized Ridge Regularization in our logistic regression. It poses an advantage over Lasso because it optimizes the mean cost. While Lasso provides a sparse coefficient vector, L2's non-sparse solution allows us to leverage more features because it does not totally zero them out, thereby improving our model's performance. We did test both regularizations on our model, and L2 did provide a slightly better result.\n"
   ]
  },
  {
   "cell_type": "markdown",
   "metadata": {},
   "source": [
    "## 5.3 Spark Operations: Cache, Persist, Broadcasting\n",
    "\n",
    "In our project, we utilized many of the Spark operations that we learned about in class. Below, we discuss a few of these operations and how we incorporated them into our project\n",
    "\n",
    "### 5.3.1 Cache\n",
    "Spark program creates a logical directed acyclic graph (DAG) of operations so that when the driver runs, it converts this graph into a physical execution plan. As most RDD operations are lazy, Spark executes the series of operations to only  an action is called. Spark RDDs are lazily evaluated and when we use the cache() method, we can store all the RDD in-memory. This allows us to persist the RDD in memory and use it efficiently across parallel operations. Cache will only store the results in memory. \n",
    "\n",
    "In our Random Forest implementation, we call a `cache()` on our RDD after performing the `log_loss` calculation:\n",
    "\n",
    "\n",
    "```\n",
    "rfPredictions = rfPredictions.select('y',\n",
    "                                     'prediction',\n",
    "                                     'rawPrediction',\n",
    "                                     'probability',\n",
    "                                     log_loss_udf('y', 'probability').alias('log_loss')).\\\n",
    "    cache()\n",
    "\n",
    "# display log loss\n",
    "print('Log loss: ', rfPredictions.groupBy().mean('log_loss').collect()[0]['avg(log_loss)'])\n",
    "```\n",
    "We choose to `cache()` our `rfPredictions` RDD after we have performed this calculation so that later when we want to call other operations such as the `groupBy()` on our RDD, we will have the RDD in memory and will not have to run the `select` again and perform the log loss calculation. This is an example of when we would want to use caching, because rather than wasting time rerunning these calculations, we are able to avoid unnecessary processing and reuse an RDD that we stored in memory. One important note is that caching does depend on available memory.\n",
    "\n",
    "\n",
    "### 5.3.2 Broadcasting\n",
    "In Spark, rather than having to pass the a variable to each task, we have to ability to broadcast a variable which allows us to keep a read-only version of the variable cached on each machine. This can be useful in a MapReduce pipeline, when there is a variable that needs to be incremented or checked, but we want to observe the variable even MapReduce has finished. In our case, we utilized Broadcast when we were replacing our features that occurred below our 10k-distinct value threshold. We broadcast `keep_vars`, which contained the values that occurred above our threshold and that we would be keeping, as well as `replace_val` , which represents the name given to the stash variable. When we call the `withColumn` function on our dataframe, it is able to use both values to run a replacement of the categories not in `keep_vars`. Because we pass the broadcast value, we avoid shipping an actual list of variable names or the `replace_val` string more than once."
   ]
  },
  {
   "cell_type": "markdown",
   "metadata": {
    "jupyter": {
     "outputs_hidden": true
    }
   },
   "source": [
    "## 5.4 Assumptions \n",
    "\n",
    "When working with powerful Machine Learning models, it is important to account for assumptions that need to be addressed to validate using these models in the given schema. \n",
    "\n",
    "\n",
    "Random Forest is non-parametric and can handle data that is skewed, missing, and multi-modal. For this reason, it does not have any formal assumptions. It is able to handle large data sets at high dimensionality and provides feature importances, which are very useful. All-in-all, its flexibility allows it to be used without the need for much data pre-processing. The main disadvantage, however, is that it can feel somewhat like a blackbox when compared to other models, as we do not have much control over the model other than tuning hyperparameters.\n",
    "\n",
    "Below, we list the assumptions for Logistic Regression and how we appeased them:\n",
    "\n",
    "### 5.4.1 Model Assumptions\n",
    "\n",
    "(reference: https://www.statisticssolutions.com/assumptions-of-logistic-regression/)\n",
    "\n",
    "#### 5.4.1.1 Sample Size\n",
    "\n",
    "Logistic Regression requires a large sample size. This is met, as our full dataset contains 45M+ rows, while our smaller subset still contained ~46K samples.\n",
    "\n",
    "#### 5.4.1.2 Linearity\n",
    "Unlike linear regression, logistic regression does not require a linear relationship between the dependent and independent variables. However, it does require that the independent variables be related to the log-odds. \n"
   ]
  },
  {
   "cell_type": "code",
   "execution_count": 42,
   "metadata": {
    "collapsed": false
   },
   "outputs": [
    {
     "data": {
      "text/plain": [
       "<seaborn.axisgrid.JointGrid at 0x29688f00fd0>"
      ]
     },
     "execution_count": 42,
     "metadata": {},
     "output_type": "execute_result"
    },
    {
     "data": {
      "image/png": "[encoded data removed]",
      "text/plain": [
       "<Figure size 432x432 with 3 Axes>"
      ]
     },
     "metadata": {
      "needs_background": "light"
     },
     "output_type": "display_data"
    }
   ],
   "source": [
    "sns.jointplot(x=\"weights\", y=\"odds\", ylim= [0.4, 3], xlim = [-1, 1], data=coef_10k)"
   ]
  },
  {
   "cell_type": "markdown",
   "metadata": {},
   "source": [
    "As we can see, the weights and odds relationship does look mostly linear. We limit our x-axis between -1.0 and 1.0 as majority of the weights fall within this range.\n",
    "\n",
    "\n",
    "#### 5.4.1.3 Multicollinearity\n",
    "This is an important assumption, as we must insure that our independent variables do not have high correlation. If they are, we would need to remove variables that would violate this assumption. In the EDA section, we showed a our correlation heat map which did not indicate any two variables having collinearity, thus proving that this assumption has been met.\n",
    "\n",
    "#### 5.4.1.4 Independent errors\n",
    "\n",
    "(Reference: https://wiki.q-researchsoftware.com/wiki/Regression_-_Diagnostic_-_Serial_Correlation_(Durbin-Watson))\n",
    "\n",
    "Another assumption of logistic regression is the independence of errors. This means that we should not see correlation between errors of two observations. This assumption exists to avoid matching assumptions, which may happen due to clustering of data. To meet this assumption, we run a Durbin Watson test, which tests the first-order autocorrelation of the residuals. The null hypothesis is that there is no autocorrelation. A DW value between 1.5 and 2.5 confirms that there is no first-order autocorrelation. "
   ]
  },
  {
   "cell_type": "code",
   "execution_count": 8,
   "metadata": {
    "collapsed": false
   },
   "outputs": [
    {
     "name": "stdout",
     "output_type": "stream",
     "text": [
      "Durbin Watson Stat = 0.9\n"
     ]
    }
   ],
   "source": [
    "# Read results, calculate residuals, calculate durbin watson statistic\n",
    "\n",
    "ohe10k = pd.read_csv('./logistic_regression/results/predictions_10k_ohe.csv', index_col=None)\n",
    "ohe10k.columns = ['label', 'pred', 'logloss']\n",
    "residuals = ohe10k['label'].sub(ohe10k['pred'], axis = 0) \n",
    "print(\"Durbin Watson Stat = \" + str(round(durbin_watson(residuals), 2)))"
   ]
  },
  {
   "cell_type": "markdown",
   "metadata": {},
   "source": [
    "The DW value we see is 0.9, which is slightly lower than the threshold to confirm the lack of autocorrelation. However, given that it is only slightly lower than the required value, and the fact that we have met the other assumptions, we can live with it.\n",
    "\n",
    "### 5.4.2 Feature Assumptions\n",
    "\n",
    "(Reference: https://www.dropbox.com/s/2n8uekjwpaur3bj/Deep-Learning-for-Criteo-Documentation.pdf?dl=0)\n",
    "\n",
    "When dealing with a large dataset, with high dimmensionality and features that are both numerical and catagorical, it is essential to start by observing the data, laying out a plan, and figuring out what assumptions need to be made to balance accuracy and complexity of the model. In our initial data explorations, we realized that if we planned on one-hot-encoding our features, we would quickly fall into the curse of dimmensionality, as most of our 39 features contained thousands of unique values. We took the approach referenced in de Wit's paper above, where for each feature, we identified values that contained less than $\\tau$ unique occurences in the specific column, where $\\tau$ was our threshold, and lumped them into a \"stash\" group. Each column had its own stash value, and we repeated this process at different thresholds, once at 10,000 occurences, and once at 3,000.\n",
    "\n",
    "By carrying out this process, we made an implicit assumption that the stashed variables would be insignificant and thus could be lumped together and stashed. This assumption would be satisfied if we were able to prove that the stashed coefficients had little effect on our model, which we were able to do when we plotted the coefficients in section 4.2.5. Plotting the coefficients, we observed that the stashed coefficients were indeed huddled around 0, which validated our assumption that they would not have a significant effect on our model.\n",
    "\n",
    "While the 10K plot in 4.2.5 showed _all_ of these stashed coefficients were at or around zero, the 3K plot showed some deviation, implying that some of these variables may indeed be important. This meant that by lowering the threshold, some of the stashed variables we exposed that some of our features did have importance in the remaining stashed variables, which lead us to believe that in future work, we should look to established custom thersholds for each model, rather than one threshold for all features. This would allow us to model with a higher degree of assurance that our assumption is robust and will not be easily violated."
   ]
  }
 ],
 "metadata": {
  "anaconda-cloud": {},
  "kernelspec": {
   "display_name": "Python 3",
   "language": "python",
   "name": "python3"
  },
  "language_info": {
   "codemirror_mode": {
    "name": "ipython",
    "version": 3
   },
   "file_extension": ".py",
   "mimetype": "text/x-python",
   "name": "python",
   "nbconvert_exporter": "python",
   "pygments_lexer": "ipython3",
   "version": "3.6.6"
  }
 },
 "nbformat": 4,
 "nbformat_minor": 4
}
